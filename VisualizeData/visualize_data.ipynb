{
 "cells": [
  {
   "cell_type": "code",
   "execution_count": 1,
   "id": "43bdc510",
   "metadata": {},
   "outputs": [],
   "source": [
    "import numpy as np\n",
    "import pandas as pd\n",
    "import seaborn as sns\n",
    "import matplotlib\n",
    "import matplotlib.pyplot as plt\n",
    "%matplotlib inline"
   ]
  },
  {
   "cell_type": "markdown",
   "id": "14b93001",
   "metadata": {},
   "source": [
    "# Explore Data Using Pandas "
   ]
  },
  {
   "cell_type": "code",
   "execution_count": 2,
   "id": "19f55cda",
   "metadata": {
    "scrolled": true
   },
   "outputs": [
    {
     "name": "stderr",
     "output_type": "stream",
     "text": [
      "/home/hadoop/anaconda3/lib/python3.9/site-packages/IPython/core/interactiveshell.py:3444: DtypeWarning: Columns (5,7) have mixed types.Specify dtype option on import or set low_memory=False.\n",
      "  exec(code_obj, self.user_global_ns, self.user_ns)\n"
     ]
    },
    {
     "data": {
      "text/html": [
       "<div>\n",
       "<style scoped>\n",
       "    .dataframe tbody tr th:only-of-type {\n",
       "        vertical-align: middle;\n",
       "    }\n",
       "\n",
       "    .dataframe tbody tr th {\n",
       "        vertical-align: top;\n",
       "    }\n",
       "\n",
       "    .dataframe thead th {\n",
       "        text-align: right;\n",
       "    }\n",
       "</style>\n",
       "<table border=\"1\" class=\"dataframe\">\n",
       "  <thead>\n",
       "    <tr style=\"text-align: right;\">\n",
       "      <th></th>\n",
       "      <th>description</th>\n",
       "      <th>origin</th>\n",
       "      <th>status</th>\n",
       "      <th>car_mileage</th>\n",
       "      <th>car_color</th>\n",
       "      <th>car_seats</th>\n",
       "      <th>gear</th>\n",
       "      <th>car_year</th>\n",
       "      <th>car_price</th>\n",
       "      <th>style</th>\n",
       "      <th>model</th>\n",
       "      <th>fuel</th>\n",
       "      <th>brand_name</th>\n",
       "      <th>region_name</th>\n",
       "      <th>url_image</th>\n",
       "      <th>website</th>\n",
       "      <th>month</th>\n",
       "      <th>year</th>\n",
       "      <th>num_null</th>\n",
       "    </tr>\n",
       "  </thead>\n",
       "  <tbody>\n",
       "    <tr>\n",
       "      <th>0</th>\n",
       "      <td>🔹 HÀNG MỚI VỀ\\n🔹 BMW 520i \\n🔹 MODEL 2016\\n🔹 Od...</td>\n",
       "      <td>Đức</td>\n",
       "      <td>Đã sử dụng</td>\n",
       "      <td>50000.0</td>\n",
       "      <td>Đen</td>\n",
       "      <td>4.0</td>\n",
       "      <td>Tự động</td>\n",
       "      <td>2015.0</td>\n",
       "      <td>1.170000e+09</td>\n",
       "      <td>Sedan</td>\n",
       "      <td>5 Series</td>\n",
       "      <td>Xăng</td>\n",
       "      <td>BMW</td>\n",
       "      <td>Hà Nội</td>\n",
       "      <td>https://cdn.chotot.com/namB6E0XkDPkf9h8KoahoRB...</td>\n",
       "      <td>chotot</td>\n",
       "      <td>11</td>\n",
       "      <td>2021</td>\n",
       "      <td>0</td>\n",
       "    </tr>\n",
       "    <tr>\n",
       "      <th>1</th>\n",
       "      <td>Bán nissan - Gran Livina nhập khẩu số tự động ...</td>\n",
       "      <td>Nhật Bản</td>\n",
       "      <td>Đã sử dụng</td>\n",
       "      <td>12000.0</td>\n",
       "      <td>Xám</td>\n",
       "      <td>3.0</td>\n",
       "      <td>Tự động</td>\n",
       "      <td>2009.0</td>\n",
       "      <td>2.342500e+08</td>\n",
       "      <td>Minivan (MPV)</td>\n",
       "      <td>Grand livina</td>\n",
       "      <td>Xăng</td>\n",
       "      <td>Nissan</td>\n",
       "      <td>Hà Nội</td>\n",
       "      <td>https://cdn.chotot.com/50R_cYWFPAz0wHZqPAGaFr-...</td>\n",
       "      <td>chotot</td>\n",
       "      <td>11</td>\n",
       "      <td>2021</td>\n",
       "      <td>0</td>\n",
       "    </tr>\n",
       "    <tr>\n",
       "      <th>2</th>\n",
       "      <td>Auto88 về Mercedes C200 sx 2017 đky 2/2018 chạ...</td>\n",
       "      <td>Việt Nam</td>\n",
       "      <td>Đã sử dụng</td>\n",
       "      <td>30000.0</td>\n",
       "      <td>Xám</td>\n",
       "      <td>2.0</td>\n",
       "      <td>Tự động</td>\n",
       "      <td>2018.0</td>\n",
       "      <td>1.090000e+09</td>\n",
       "      <td>Sedan</td>\n",
       "      <td>C Class</td>\n",
       "      <td>Xăng</td>\n",
       "      <td>Mercedes Benz</td>\n",
       "      <td>Hà Nội</td>\n",
       "      <td>https://cdn.chotot.com/bhfeL3dPtccDnzlKzeAZ88X...</td>\n",
       "      <td>chotot</td>\n",
       "      <td>11</td>\n",
       "      <td>2021</td>\n",
       "      <td>0</td>\n",
       "    </tr>\n",
       "    <tr>\n",
       "      <th>3</th>\n",
       "      <td>xe còn đẹp gia đình đang xử dụng. Cần bán xe đ...</td>\n",
       "      <td>Nhật Bản</td>\n",
       "      <td>Đã sử dụng</td>\n",
       "      <td>120.0</td>\n",
       "      <td>Trắng</td>\n",
       "      <td>2.0</td>\n",
       "      <td>Tự động</td>\n",
       "      <td>2017.0</td>\n",
       "      <td>4.900000e+08</td>\n",
       "      <td>Hatchback</td>\n",
       "      <td>CX 3</td>\n",
       "      <td>Xăng</td>\n",
       "      <td>Mazda</td>\n",
       "      <td>An Giang</td>\n",
       "      <td>https://cdn.chotot.com/bZA5uIvzseB-MBKCPcDKe4K...</td>\n",
       "      <td>chotot</td>\n",
       "      <td>11</td>\n",
       "      <td>2021</td>\n",
       "      <td>0</td>\n",
       "    </tr>\n",
       "    <tr>\n",
       "      <th>4</th>\n",
       "      <td>Xe gia đình đi, còn khá mới vì do công việc nê...</td>\n",
       "      <td>Việt Nam</td>\n",
       "      <td>Đã sử dụng</td>\n",
       "      <td>53000.0</td>\n",
       "      <td>Đen</td>\n",
       "      <td>2.0</td>\n",
       "      <td>Tự động</td>\n",
       "      <td>2016.0</td>\n",
       "      <td>4.000000e+08</td>\n",
       "      <td>Sedan</td>\n",
       "      <td>Cruze</td>\n",
       "      <td>Xăng</td>\n",
       "      <td>Chevrolet</td>\n",
       "      <td>Tp Hồ Chí Minh</td>\n",
       "      <td>https://cdn.chotot.com/c7q5pfENmvTLnzxYQ7MA70P...</td>\n",
       "      <td>chotot</td>\n",
       "      <td>11</td>\n",
       "      <td>2021</td>\n",
       "      <td>0</td>\n",
       "    </tr>\n",
       "  </tbody>\n",
       "</table>\n",
       "</div>"
      ],
      "text/plain": [
       "                                         description    origin      status  \\\n",
       "0  🔹 HÀNG MỚI VỀ\\n🔹 BMW 520i \\n🔹 MODEL 2016\\n🔹 Od...       Đức  Đã sử dụng   \n",
       "1  Bán nissan - Gran Livina nhập khẩu số tự động ...  Nhật Bản  Đã sử dụng   \n",
       "2  Auto88 về Mercedes C200 sx 2017 đky 2/2018 chạ...  Việt Nam  Đã sử dụng   \n",
       "3  xe còn đẹp gia đình đang xử dụng. Cần bán xe đ...  Nhật Bản  Đã sử dụng   \n",
       "4  Xe gia đình đi, còn khá mới vì do công việc nê...  Việt Nam  Đã sử dụng   \n",
       "\n",
       "   car_mileage car_color car_seats     gear car_year     car_price  \\\n",
       "0      50000.0       Đen       4.0  Tự động   2015.0  1.170000e+09   \n",
       "1      12000.0       Xám       3.0  Tự động   2009.0  2.342500e+08   \n",
       "2      30000.0       Xám       2.0  Tự động   2018.0  1.090000e+09   \n",
       "3        120.0     Trắng       2.0  Tự động   2017.0  4.900000e+08   \n",
       "4      53000.0       Đen       2.0  Tự động   2016.0  4.000000e+08   \n",
       "\n",
       "           style         model  fuel     brand_name     region_name  \\\n",
       "0          Sedan      5 Series  Xăng            BMW          Hà Nội   \n",
       "1  Minivan (MPV)  Grand livina  Xăng         Nissan          Hà Nội   \n",
       "2          Sedan       C Class  Xăng  Mercedes Benz          Hà Nội   \n",
       "3      Hatchback          CX 3  Xăng          Mazda        An Giang   \n",
       "4          Sedan         Cruze  Xăng      Chevrolet  Tp Hồ Chí Minh   \n",
       "\n",
       "                                           url_image website  month  year  \\\n",
       "0  https://cdn.chotot.com/namB6E0XkDPkf9h8KoahoRB...  chotot     11  2021   \n",
       "1  https://cdn.chotot.com/50R_cYWFPAz0wHZqPAGaFr-...  chotot     11  2021   \n",
       "2  https://cdn.chotot.com/bhfeL3dPtccDnzlKzeAZ88X...  chotot     11  2021   \n",
       "3  https://cdn.chotot.com/bZA5uIvzseB-MBKCPcDKe4K...  chotot     11  2021   \n",
       "4  https://cdn.chotot.com/c7q5pfENmvTLnzxYQ7MA70P...  chotot     11  2021   \n",
       "\n",
       "   num_null  \n",
       "0         0  \n",
       "1         0  \n",
       "2         0  \n",
       "3         0  \n",
       "4         0  "
      ]
     },
     "execution_count": 2,
     "metadata": {},
     "output_type": "execute_result"
    }
   ],
   "source": [
    "data = pd.read_csv('./Preprocessed_data.csv')\n",
    "data.head(5)"
   ]
  },
  {
   "cell_type": "code",
   "execution_count": 3,
   "id": "74dd4b4b",
   "metadata": {},
   "outputs": [
    {
     "name": "stdout",
     "output_type": "stream",
     "text": [
      "<class 'pandas.core.frame.DataFrame'>\n",
      "RangeIndex: 65135 entries, 0 to 65134\n",
      "Data columns (total 18 columns):\n",
      " #   Column       Non-Null Count  Dtype  \n",
      "---  ------       --------------  -----  \n",
      " 0   description  65135 non-null  object \n",
      " 1   origin       65135 non-null  object \n",
      " 2   status       65135 non-null  object \n",
      " 3   car_mileage  65135 non-null  float64\n",
      " 4   car_color    65135 non-null  object \n",
      " 5   car_seats    65135 non-null  object \n",
      " 6   gear         65135 non-null  object \n",
      " 7   car_year     65135 non-null  object \n",
      " 8   car_price    65135 non-null  float64\n",
      " 9   style        65135 non-null  object \n",
      " 10  model        65135 non-null  object \n",
      " 11  fuel         65135 non-null  object \n",
      " 12  brand_name   65135 non-null  object \n",
      " 13  region_name  65135 non-null  object \n",
      " 14  website      65135 non-null  object \n",
      " 15  month        65135 non-null  int64  \n",
      " 16  year         65135 non-null  int64  \n",
      " 17  num_null     65135 non-null  int64  \n",
      "dtypes: float64(2), int64(3), object(13)\n",
      "memory usage: 8.9+ MB\n"
     ]
    }
   ],
   "source": [
    "# Drop some column unused to visualize\n",
    "data.drop(['url_image'], axis=1, inplace=True)\n",
    "data.info()"
   ]
  },
  {
   "cell_type": "code",
   "execution_count": 4,
   "id": "f095dca2",
   "metadata": {},
   "outputs": [],
   "source": [
    "data['car_seats'].replace('Unknown','0.0', inplace=True)"
   ]
  },
  {
   "cell_type": "code",
   "execution_count": 5,
   "id": "7a9a6b5e",
   "metadata": {},
   "outputs": [],
   "source": [
    "data['car_seats'] = data['car_seats'].astype('float64')"
   ]
  },
  {
   "cell_type": "code",
   "execution_count": 6,
   "id": "fcec14c1",
   "metadata": {},
   "outputs": [
    {
     "name": "stdout",
     "output_type": "stream",
     "text": [
      "<class 'pandas.core.frame.DataFrame'>\n",
      "RangeIndex: 65135 entries, 0 to 65134\n",
      "Data columns (total 18 columns):\n",
      " #   Column       Non-Null Count  Dtype  \n",
      "---  ------       --------------  -----  \n",
      " 0   description  65135 non-null  object \n",
      " 1   origin       65135 non-null  object \n",
      " 2   status       65135 non-null  object \n",
      " 3   car_mileage  65135 non-null  float64\n",
      " 4   car_color    65135 non-null  object \n",
      " 5   car_seats    65135 non-null  float64\n",
      " 6   gear         65135 non-null  object \n",
      " 7   car_year     65135 non-null  object \n",
      " 8   car_price    65135 non-null  float64\n",
      " 9   style        65135 non-null  object \n",
      " 10  model        65135 non-null  object \n",
      " 11  fuel         65135 non-null  object \n",
      " 12  brand_name   65135 non-null  object \n",
      " 13  region_name  65135 non-null  object \n",
      " 14  website      65135 non-null  object \n",
      " 15  month        65135 non-null  int64  \n",
      " 16  year         65135 non-null  int64  \n",
      " 17  num_null     65135 non-null  int64  \n",
      "dtypes: float64(3), int64(3), object(12)\n",
      "memory usage: 8.9+ MB\n"
     ]
    }
   ],
   "source": [
    "data.info()"
   ]
  },
  {
   "cell_type": "code",
   "execution_count": 7,
   "id": "df1c299f",
   "metadata": {},
   "outputs": [
    {
     "data": {
      "text/html": [
       "<div>\n",
       "<style scoped>\n",
       "    .dataframe tbody tr th:only-of-type {\n",
       "        vertical-align: middle;\n",
       "    }\n",
       "\n",
       "    .dataframe tbody tr th {\n",
       "        vertical-align: top;\n",
       "    }\n",
       "\n",
       "    .dataframe thead th {\n",
       "        text-align: right;\n",
       "    }\n",
       "</style>\n",
       "<table border=\"1\" class=\"dataframe\">\n",
       "  <thead>\n",
       "    <tr style=\"text-align: right;\">\n",
       "      <th></th>\n",
       "      <th>car_mileage</th>\n",
       "      <th>car_seats</th>\n",
       "      <th>car_price</th>\n",
       "      <th>month</th>\n",
       "      <th>year</th>\n",
       "    </tr>\n",
       "  </thead>\n",
       "  <tbody>\n",
       "    <tr>\n",
       "      <th>count</th>\n",
       "      <td>6.513500e+04</td>\n",
       "      <td>65135.000000</td>\n",
       "      <td>6.513500e+04</td>\n",
       "      <td>65135.000000</td>\n",
       "      <td>65135.000000</td>\n",
       "    </tr>\n",
       "    <tr>\n",
       "      <th>mean</th>\n",
       "      <td>1.406672e+05</td>\n",
       "      <td>4.533676</td>\n",
       "      <td>8.903779e+08</td>\n",
       "      <td>10.725248</td>\n",
       "      <td>2020.994703</td>\n",
       "    </tr>\n",
       "    <tr>\n",
       "      <th>std</th>\n",
       "      <td>1.693651e+07</td>\n",
       "      <td>2.510566</td>\n",
       "      <td>1.734558e+09</td>\n",
       "      <td>1.364346</td>\n",
       "      <td>0.076700</td>\n",
       "    </tr>\n",
       "    <tr>\n",
       "      <th>min</th>\n",
       "      <td>0.000000e+00</td>\n",
       "      <td>0.000000</td>\n",
       "      <td>1.100000e+07</td>\n",
       "      <td>1.000000</td>\n",
       "      <td>2019.000000</td>\n",
       "    </tr>\n",
       "    <tr>\n",
       "      <th>25%</th>\n",
       "      <td>0.000000e+00</td>\n",
       "      <td>2.000000</td>\n",
       "      <td>3.250000e+08</td>\n",
       "      <td>10.000000</td>\n",
       "      <td>2021.000000</td>\n",
       "    </tr>\n",
       "    <tr>\n",
       "      <th>50%</th>\n",
       "      <td>1.000000e+04</td>\n",
       "      <td>5.000000</td>\n",
       "      <td>5.270000e+08</td>\n",
       "      <td>11.000000</td>\n",
       "      <td>2021.000000</td>\n",
       "    </tr>\n",
       "    <tr>\n",
       "      <th>75%</th>\n",
       "      <td>6.000000e+04</td>\n",
       "      <td>5.000000</td>\n",
       "      <td>8.390000e+08</td>\n",
       "      <td>12.000000</td>\n",
       "      <td>2021.000000</td>\n",
       "    </tr>\n",
       "    <tr>\n",
       "      <th>max</th>\n",
       "      <td>4.294967e+09</td>\n",
       "      <td>47.000000</td>\n",
       "      <td>6.800000e+10</td>\n",
       "      <td>12.000000</td>\n",
       "      <td>2021.000000</td>\n",
       "    </tr>\n",
       "  </tbody>\n",
       "</table>\n",
       "</div>"
      ],
      "text/plain": [
       "        car_mileage     car_seats     car_price         month          year\n",
       "count  6.513500e+04  65135.000000  6.513500e+04  65135.000000  65135.000000\n",
       "mean   1.406672e+05      4.533676  8.903779e+08     10.725248   2020.994703\n",
       "std    1.693651e+07      2.510566  1.734558e+09      1.364346      0.076700\n",
       "min    0.000000e+00      0.000000  1.100000e+07      1.000000   2019.000000\n",
       "25%    0.000000e+00      2.000000  3.250000e+08     10.000000   2021.000000\n",
       "50%    1.000000e+04      5.000000  5.270000e+08     11.000000   2021.000000\n",
       "75%    6.000000e+04      5.000000  8.390000e+08     12.000000   2021.000000\n",
       "max    4.294967e+09     47.000000  6.800000e+10     12.000000   2021.000000"
      ]
     },
     "execution_count": 7,
     "metadata": {},
     "output_type": "execute_result"
    }
   ],
   "source": [
    "data.drop(['num_null'], axis=1, inplace=True)\n",
    "data.describe()"
   ]
  },
  {
   "cell_type": "code",
   "execution_count": 8,
   "id": "f69b3cf2",
   "metadata": {},
   "outputs": [
    {
     "data": {
      "text/html": [
       "<div>\n",
       "<style scoped>\n",
       "    .dataframe tbody tr th:only-of-type {\n",
       "        vertical-align: middle;\n",
       "    }\n",
       "\n",
       "    .dataframe tbody tr th {\n",
       "        vertical-align: top;\n",
       "    }\n",
       "\n",
       "    .dataframe thead th {\n",
       "        text-align: right;\n",
       "    }\n",
       "</style>\n",
       "<table border=\"1\" class=\"dataframe\">\n",
       "  <thead>\n",
       "    <tr style=\"text-align: right;\">\n",
       "      <th></th>\n",
       "      <th>car_mileage</th>\n",
       "      <th>car_seats</th>\n",
       "      <th>car_price</th>\n",
       "      <th>month</th>\n",
       "      <th>year</th>\n",
       "    </tr>\n",
       "  </thead>\n",
       "  <tbody>\n",
       "    <tr>\n",
       "      <th>count</th>\n",
       "      <td>6.513500e+04</td>\n",
       "      <td>65135.000000</td>\n",
       "      <td>6.513500e+04</td>\n",
       "      <td>65135.000000</td>\n",
       "      <td>65135.000000</td>\n",
       "    </tr>\n",
       "    <tr>\n",
       "      <th>mean</th>\n",
       "      <td>1.406672e+05</td>\n",
       "      <td>4.533676</td>\n",
       "      <td>8.903779e+08</td>\n",
       "      <td>10.725248</td>\n",
       "      <td>2020.994703</td>\n",
       "    </tr>\n",
       "    <tr>\n",
       "      <th>std</th>\n",
       "      <td>1.693651e+07</td>\n",
       "      <td>2.510566</td>\n",
       "      <td>1.734558e+09</td>\n",
       "      <td>1.364346</td>\n",
       "      <td>0.076700</td>\n",
       "    </tr>\n",
       "    <tr>\n",
       "      <th>min</th>\n",
       "      <td>0.000000e+00</td>\n",
       "      <td>0.000000</td>\n",
       "      <td>1.100000e+07</td>\n",
       "      <td>1.000000</td>\n",
       "      <td>2019.000000</td>\n",
       "    </tr>\n",
       "    <tr>\n",
       "      <th>25%</th>\n",
       "      <td>0.000000e+00</td>\n",
       "      <td>2.000000</td>\n",
       "      <td>3.250000e+08</td>\n",
       "      <td>10.000000</td>\n",
       "      <td>2021.000000</td>\n",
       "    </tr>\n",
       "    <tr>\n",
       "      <th>50%</th>\n",
       "      <td>1.000000e+04</td>\n",
       "      <td>5.000000</td>\n",
       "      <td>5.270000e+08</td>\n",
       "      <td>11.000000</td>\n",
       "      <td>2021.000000</td>\n",
       "    </tr>\n",
       "    <tr>\n",
       "      <th>75%</th>\n",
       "      <td>6.000000e+04</td>\n",
       "      <td>5.000000</td>\n",
       "      <td>8.390000e+08</td>\n",
       "      <td>12.000000</td>\n",
       "      <td>2021.000000</td>\n",
       "    </tr>\n",
       "    <tr>\n",
       "      <th>max</th>\n",
       "      <td>4.294967e+09</td>\n",
       "      <td>47.000000</td>\n",
       "      <td>6.800000e+10</td>\n",
       "      <td>12.000000</td>\n",
       "      <td>2021.000000</td>\n",
       "    </tr>\n",
       "  </tbody>\n",
       "</table>\n",
       "</div>"
      ],
      "text/plain": [
       "        car_mileage     car_seats     car_price         month          year\n",
       "count  6.513500e+04  65135.000000  6.513500e+04  65135.000000  65135.000000\n",
       "mean   1.406672e+05      4.533676  8.903779e+08     10.725248   2020.994703\n",
       "std    1.693651e+07      2.510566  1.734558e+09      1.364346      0.076700\n",
       "min    0.000000e+00      0.000000  1.100000e+07      1.000000   2019.000000\n",
       "25%    0.000000e+00      2.000000  3.250000e+08     10.000000   2021.000000\n",
       "50%    1.000000e+04      5.000000  5.270000e+08     11.000000   2021.000000\n",
       "75%    6.000000e+04      5.000000  8.390000e+08     12.000000   2021.000000\n",
       "max    4.294967e+09     47.000000  6.800000e+10     12.000000   2021.000000"
      ]
     },
     "execution_count": 8,
     "metadata": {},
     "output_type": "execute_result"
    }
   ],
   "source": [
    "data.describe()"
   ]
  },
  {
   "cell_type": "code",
   "execution_count": 9,
   "id": "01fc2e1b",
   "metadata": {},
   "outputs": [
    {
     "name": "stderr",
     "output_type": "stream",
     "text": [
      "/home/hadoop/anaconda3/lib/python3.9/site-packages/seaborn/_decorators.py:36: FutureWarning: Pass the following variable as a keyword arg: x. From version 0.12, the only valid positional argument will be `data`, and passing other arguments without an explicit keyword will result in an error or misinterpretation.\n",
      "  warnings.warn(\n"
     ]
    },
    {
     "data": {
      "text/plain": [
       "<AxesSubplot:xlabel='car_price'>"
      ]
     },
     "execution_count": 9,
     "metadata": {},
     "output_type": "execute_result"
    },
    {
     "data": {
      "image/png": "[encoded data removed]",
      "text/plain": [
       "<Figure size 432x288 with 1 Axes>"
      ]
     },
     "metadata": {
      "needs_background": "light"
     },
     "output_type": "display_data"
    }
   ],
   "source": [
    "sns.boxplot(data['car_price'])"
   ]
  },
  {
   "cell_type": "code",
   "execution_count": 10,
   "id": "c696bf1c",
   "metadata": {},
   "outputs": [
    {
     "data": {
      "text/plain": [
       "<AxesSubplot:>"
      ]
     },
     "execution_count": 10,
     "metadata": {},
     "output_type": "execute_result"
    },
    {
     "data": {
      "image/png": "[encoded data removed]",
      "text/plain": [
       "<Figure size 720x576 with 1 Axes>"
      ]
     },
     "metadata": {
      "needs_background": "light"
     },
     "output_type": "display_data"
    }
   ],
   "source": [
    "matplotlib.rcParams['figure.figsize'] = 10, 8\n",
    "#car_price = data[data['car_price'] <= 2e10]\n",
    "data['car_price'].hist(bins=100, grid=True)"
   ]
  },
  {
   "cell_type": "code",
   "execution_count": 11,
   "id": "6f9269c8",
   "metadata": {
    "scrolled": true
   },
   "outputs": [
    {
     "data": {
      "text/html": [
       "<div>\n",
       "<style scoped>\n",
       "    .dataframe tbody tr th:only-of-type {\n",
       "        vertical-align: middle;\n",
       "    }\n",
       "\n",
       "    .dataframe tbody tr th {\n",
       "        vertical-align: top;\n",
       "    }\n",
       "\n",
       "    .dataframe thead th {\n",
       "        text-align: right;\n",
       "    }\n",
       "</style>\n",
       "<table border=\"1\" class=\"dataframe\">\n",
       "  <thead>\n",
       "    <tr style=\"text-align: right;\">\n",
       "      <th></th>\n",
       "      <th>description</th>\n",
       "      <th>origin</th>\n",
       "      <th>status</th>\n",
       "      <th>car_mileage</th>\n",
       "      <th>car_color</th>\n",
       "      <th>car_seats</th>\n",
       "      <th>gear</th>\n",
       "      <th>car_year</th>\n",
       "      <th>car_price</th>\n",
       "      <th>style</th>\n",
       "      <th>model</th>\n",
       "      <th>fuel</th>\n",
       "      <th>brand_name</th>\n",
       "      <th>region_name</th>\n",
       "      <th>website</th>\n",
       "      <th>month</th>\n",
       "      <th>year</th>\n",
       "    </tr>\n",
       "  </thead>\n",
       "  <tbody>\n",
       "    <tr>\n",
       "      <th>0</th>\n",
       "      <td>🔹 HÀNG MỚI VỀ\\n🔹 BMW 520i \\n🔹 MODEL 2016\\n🔹 Od...</td>\n",
       "      <td>Đức</td>\n",
       "      <td>Đã sử dụng</td>\n",
       "      <td>50000.0</td>\n",
       "      <td>Đen</td>\n",
       "      <td>4.0</td>\n",
       "      <td>Tự động</td>\n",
       "      <td>2015.0</td>\n",
       "      <td>1.170000e+09</td>\n",
       "      <td>Sedan</td>\n",
       "      <td>5 Series</td>\n",
       "      <td>Xăng</td>\n",
       "      <td>BMW</td>\n",
       "      <td>Hà Nội</td>\n",
       "      <td>chotot</td>\n",
       "      <td>11</td>\n",
       "      <td>2021</td>\n",
       "    </tr>\n",
       "    <tr>\n",
       "      <th>1</th>\n",
       "      <td>Bán nissan - Gran Livina nhập khẩu số tự động ...</td>\n",
       "      <td>Nhật Bản</td>\n",
       "      <td>Đã sử dụng</td>\n",
       "      <td>12000.0</td>\n",
       "      <td>Xám</td>\n",
       "      <td>3.0</td>\n",
       "      <td>Tự động</td>\n",
       "      <td>2009.0</td>\n",
       "      <td>2.342500e+08</td>\n",
       "      <td>Minivan (MPV)</td>\n",
       "      <td>Grand livina</td>\n",
       "      <td>Xăng</td>\n",
       "      <td>Nissan</td>\n",
       "      <td>Hà Nội</td>\n",
       "      <td>chotot</td>\n",
       "      <td>11</td>\n",
       "      <td>2021</td>\n",
       "    </tr>\n",
       "  </tbody>\n",
       "</table>\n",
       "</div>"
      ],
      "text/plain": [
       "                                         description    origin      status  \\\n",
       "0  🔹 HÀNG MỚI VỀ\\n🔹 BMW 520i \\n🔹 MODEL 2016\\n🔹 Od...       Đức  Đã sử dụng   \n",
       "1  Bán nissan - Gran Livina nhập khẩu số tự động ...  Nhật Bản  Đã sử dụng   \n",
       "\n",
       "   car_mileage car_color  car_seats     gear car_year     car_price  \\\n",
       "0      50000.0       Đen        4.0  Tự động   2015.0  1.170000e+09   \n",
       "1      12000.0       Xám        3.0  Tự động   2009.0  2.342500e+08   \n",
       "\n",
       "           style         model  fuel brand_name region_name website  month  \\\n",
       "0          Sedan      5 Series  Xăng        BMW      Hà Nội  chotot     11   \n",
       "1  Minivan (MPV)  Grand livina  Xăng     Nissan      Hà Nội  chotot     11   \n",
       "\n",
       "   year  \n",
       "0  2021  \n",
       "1  2021  "
      ]
     },
     "execution_count": 11,
     "metadata": {},
     "output_type": "execute_result"
    }
   ],
   "source": [
    "data.head(2)"
   ]
  },
  {
   "cell_type": "code",
   "execution_count": 12,
   "id": "dd3e55d5",
   "metadata": {},
   "outputs": [
    {
     "data": {
      "text/plain": [
       "<AxesSubplot:>"
      ]
     },
     "execution_count": 12,
     "metadata": {},
     "output_type": "execute_result"
    },
    {
     "data": {
      "image/png": "[encoded data removed]",
      "text/plain": [
       "<Figure size 720x720 with 2 Axes>"
      ]
     },
     "metadata": {
      "needs_background": "light"
     },
     "output_type": "display_data"
    }
   ],
   "source": [
    "f, ax = plt.subplots(figsize=(10, 10))\n",
    "sns.heatmap(data.corr(), annot=True, linewidths=.5, fmt='.1f', ax=ax)"
   ]
  },
  {
   "cell_type": "code",
   "execution_count": 13,
   "id": "35bf48ba",
   "metadata": {
    "scrolled": true
   },
   "outputs": [
    {
     "data": {
      "text/html": [
       "<div>\n",
       "<style scoped>\n",
       "    .dataframe tbody tr th:only-of-type {\n",
       "        vertical-align: middle;\n",
       "    }\n",
       "\n",
       "    .dataframe tbody tr th {\n",
       "        vertical-align: top;\n",
       "    }\n",
       "\n",
       "    .dataframe thead th {\n",
       "        text-align: right;\n",
       "    }\n",
       "</style>\n",
       "<table border=\"1\" class=\"dataframe\">\n",
       "  <thead>\n",
       "    <tr style=\"text-align: right;\">\n",
       "      <th></th>\n",
       "      <th>car_price</th>\n",
       "    </tr>\n",
       "    <tr>\n",
       "      <th>brand_name</th>\n",
       "      <th></th>\n",
       "    </tr>\n",
       "  </thead>\n",
       "  <tbody>\n",
       "    <tr>\n",
       "      <th>Acura</th>\n",
       "      <td>5.699477e+08</td>\n",
       "    </tr>\n",
       "    <tr>\n",
       "      <th>Alfa Romeo</th>\n",
       "      <td>7.352778e+08</td>\n",
       "    </tr>\n",
       "    <tr>\n",
       "      <th>Asia</th>\n",
       "      <td>1.676000e+08</td>\n",
       "    </tr>\n",
       "    <tr>\n",
       "      <th>Aston Martin</th>\n",
       "      <td>1.624500e+09</td>\n",
       "    </tr>\n",
       "    <tr>\n",
       "      <th>Audi</th>\n",
       "      <td>1.301657e+09</td>\n",
       "    </tr>\n",
       "  </tbody>\n",
       "</table>\n",
       "</div>"
      ],
      "text/plain": [
       "                 car_price\n",
       "brand_name                \n",
       "Acura         5.699477e+08\n",
       "Alfa Romeo    7.352778e+08\n",
       "Asia          1.676000e+08\n",
       "Aston Martin  1.624500e+09\n",
       "Audi          1.301657e+09"
      ]
     },
     "execution_count": 13,
     "metadata": {},
     "output_type": "execute_result"
    }
   ],
   "source": [
    "price_brand = data[['brand_name', 'car_price']].groupby(['brand_name']).mean()\n",
    "price_brand.head(5)"
   ]
  },
  {
   "cell_type": "code",
   "execution_count": 14,
   "id": "75c01b60",
   "metadata": {
    "scrolled": true
   },
   "outputs": [
    {
     "data": {
      "text/html": [
       "<div>\n",
       "<style scoped>\n",
       "    .dataframe tbody tr th:only-of-type {\n",
       "        vertical-align: middle;\n",
       "    }\n",
       "\n",
       "    .dataframe tbody tr th {\n",
       "        vertical-align: top;\n",
       "    }\n",
       "\n",
       "    .dataframe thead th {\n",
       "        text-align: right;\n",
       "    }\n",
       "</style>\n",
       "<table border=\"1\" class=\"dataframe\">\n",
       "  <thead>\n",
       "    <tr style=\"text-align: right;\">\n",
       "      <th></th>\n",
       "      <th>brand_name</th>\n",
       "      <th>car_price</th>\n",
       "    </tr>\n",
       "  </thead>\n",
       "  <tbody>\n",
       "    <tr>\n",
       "      <th>0</th>\n",
       "      <td>Acura</td>\n",
       "      <td>5.699477e+08</td>\n",
       "    </tr>\n",
       "    <tr>\n",
       "      <th>1</th>\n",
       "      <td>Alfa Romeo</td>\n",
       "      <td>7.352778e+08</td>\n",
       "    </tr>\n",
       "    <tr>\n",
       "      <th>2</th>\n",
       "      <td>Asia</td>\n",
       "      <td>1.676000e+08</td>\n",
       "    </tr>\n",
       "  </tbody>\n",
       "</table>\n",
       "</div>"
      ],
      "text/plain": [
       "   brand_name     car_price\n",
       "0       Acura  5.699477e+08\n",
       "1  Alfa Romeo  7.352778e+08\n",
       "2        Asia  1.676000e+08"
      ]
     },
     "execution_count": 14,
     "metadata": {},
     "output_type": "execute_result"
    }
   ],
   "source": [
    "price_brand.reset_index(inplace=True)\n",
    "price_brand.head(3)"
   ]
  },
  {
   "cell_type": "code",
   "execution_count": 15,
   "id": "994d9fcc",
   "metadata": {
    "scrolled": true
   },
   "outputs": [
    {
     "data": {
      "text/html": [
       "<div>\n",
       "<style scoped>\n",
       "    .dataframe tbody tr th:only-of-type {\n",
       "        vertical-align: middle;\n",
       "    }\n",
       "\n",
       "    .dataframe tbody tr th {\n",
       "        vertical-align: top;\n",
       "    }\n",
       "\n",
       "    .dataframe thead th {\n",
       "        text-align: right;\n",
       "    }\n",
       "</style>\n",
       "<table border=\"1\" class=\"dataframe\">\n",
       "  <thead>\n",
       "    <tr style=\"text-align: right;\">\n",
       "      <th></th>\n",
       "      <th>brand_name</th>\n",
       "      <th>car_price</th>\n",
       "    </tr>\n",
       "  </thead>\n",
       "  <tbody>\n",
       "    <tr>\n",
       "      <th>78</th>\n",
       "      <td>Saturn</td>\n",
       "      <td>55000000.0</td>\n",
       "    </tr>\n",
       "    <tr>\n",
       "      <th>44</th>\n",
       "      <td>Lada</td>\n",
       "      <td>56000000.0</td>\n",
       "    </tr>\n",
       "    <tr>\n",
       "      <th>9</th>\n",
       "      <td>Buick</td>\n",
       "      <td>57500000.0</td>\n",
       "    </tr>\n",
       "    <tr>\n",
       "      <th>41</th>\n",
       "      <td>KIA</td>\n",
       "      <td>64000000.0</td>\n",
       "    </tr>\n",
       "    <tr>\n",
       "      <th>89</th>\n",
       "      <td>Vinaxuki</td>\n",
       "      <td>66000000.0</td>\n",
       "    </tr>\n",
       "  </tbody>\n",
       "</table>\n",
       "</div>"
      ],
      "text/plain": [
       "   brand_name   car_price\n",
       "78     Saturn  55000000.0\n",
       "44       Lada  56000000.0\n",
       "9       Buick  57500000.0\n",
       "41        KIA  64000000.0\n",
       "89   Vinaxuki  66000000.0"
      ]
     },
     "execution_count": 15,
     "metadata": {},
     "output_type": "execute_result"
    }
   ],
   "source": [
    "price_brand.sort_values('car_price', inplace=True)\n",
    "price_brand.head(5)"
   ]
  },
  {
   "cell_type": "code",
   "execution_count": 16,
   "id": "ff07c525",
   "metadata": {},
   "outputs": [
    {
     "data": {
      "image/png": "[encoded data removed]",
      "text/plain": [
       "<Figure size 720x576 with 1 Axes>"
      ]
     },
     "metadata": {
      "needs_background": "light"
     },
     "output_type": "display_data"
    }
   ],
   "source": [
    "ax = sns.barplot(x='brand_name', y='car_price', data=price_brand.iloc[0:10])"
   ]
  },
  {
   "cell_type": "code",
   "execution_count": 17,
   "id": "be63b493",
   "metadata": {},
   "outputs": [
    {
     "data": {
      "image/png": "[encoded data removed]",
      "text/plain": [
       "<Figure size 720x576 with 1 Axes>"
      ]
     },
     "metadata": {
      "needs_background": "light"
     },
     "output_type": "display_data"
    }
   ],
   "source": [
    "ax = sns.barplot(x='brand_name', y='car_price', data=price_brand[-10:])"
   ]
  },
  {
   "cell_type": "code",
   "execution_count": 18,
   "id": "dfd021de",
   "metadata": {
    "scrolled": false
   },
   "outputs": [
    {
     "data": {
      "text/plain": [
       "<AxesSubplot:ylabel='car_price'>"
      ]
     },
     "execution_count": 18,
     "metadata": {},
     "output_type": "execute_result"
    },
    {
     "data": {
      "image/png": "[encoded data removed]",
      "text/plain": [
       "<Figure size 720x576 with 1 Axes>"
      ]
     },
     "metadata": {
      "needs_background": "light"
     },
     "output_type": "display_data"
    }
   ],
   "source": [
    "sns.lineplot(data=data['car_price'])"
   ]
  },
  {
   "cell_type": "code",
   "execution_count": 19,
   "id": "152f59ad",
   "metadata": {},
   "outputs": [
    {
     "data": {
      "text/plain": [
       "<seaborn.axisgrid.JointGrid at 0x7fca38dc24c0>"
      ]
     },
     "execution_count": 19,
     "metadata": {},
     "output_type": "execute_result"
    },
    {
     "data": {
      "image/png": "[encoded data removed]",
      "text/plain": [
       "<Figure size 432x432 with 3 Axes>"
      ]
     },
     "metadata": {
      "needs_background": "light"
     },
     "output_type": "display_data"
    }
   ],
   "source": [
    "sns.jointplot(x='gear', y='car_price', data=data)"
   ]
  },
  {
   "cell_type": "code",
   "execution_count": 20,
   "id": "f04e1e14",
   "metadata": {},
   "outputs": [
    {
     "name": "stdout",
     "output_type": "stream",
     "text": [
      "<class 'pandas.core.frame.DataFrame'>\n",
      "RangeIndex: 65135 entries, 0 to 65134\n",
      "Data columns (total 17 columns):\n",
      " #   Column       Non-Null Count  Dtype  \n",
      "---  ------       --------------  -----  \n",
      " 0   description  65135 non-null  object \n",
      " 1   origin       65135 non-null  object \n",
      " 2   status       65135 non-null  object \n",
      " 3   car_mileage  65135 non-null  float64\n",
      " 4   car_color    65135 non-null  object \n",
      " 5   car_seats    65135 non-null  float64\n",
      " 6   gear         65135 non-null  object \n",
      " 7   car_year     65135 non-null  object \n",
      " 8   car_price    65135 non-null  float64\n",
      " 9   style        65135 non-null  object \n",
      " 10  model        65135 non-null  object \n",
      " 11  fuel         65135 non-null  object \n",
      " 12  brand_name   65135 non-null  object \n",
      " 13  region_name  65135 non-null  object \n",
      " 14  website      65135 non-null  object \n",
      " 15  month        65135 non-null  int64  \n",
      " 16  year         65135 non-null  int64  \n",
      "dtypes: float64(3), int64(2), object(12)\n",
      "memory usage: 8.4+ MB\n"
     ]
    }
   ],
   "source": [
    "data.info()"
   ]
  },
  {
   "cell_type": "code",
   "execution_count": 27,
   "id": "8a07b059",
   "metadata": {},
   "outputs": [
    {
     "data": {
      "text/plain": [
       "<AxesSubplot:xlabel='index'>"
      ]
     },
     "execution_count": 27,
     "metadata": {},
     "output_type": "execute_result"
    },
    {
     "data": {
      "image/png": "[encoded data removed]",
      "text/plain": [
       "<Figure size 720x576 with 1 Axes>"
      ]
     },
     "metadata": {
      "needs_background": "light"
     },
     "output_type": "display_data"
    }
   ],
   "source": [
    "region = data.region_name.value_counts().reset_index()\n",
    "region.plot.bar(x='index', y='region_name')"
   ]
  }
 ],
 "metadata": {
  "kernelspec": {
   "display_name": "Python 3.9.7 64-bit ('base': conda)",
   "language": "python",
   "name": "python397jvsc74a57bd0d675edbc71300ac13430c5dba271d75813cc81f9bcac0706c4e52014fb01d332"
  },
  "language_info": {
   "codemirror_mode": {
    "name": "ipython",
    "version": 3
   },
   "file_extension": ".py",
   "mimetype": "text/x-python",
   "name": "python",
   "nbconvert_exporter": "python",
   "pygments_lexer": "ipython3",
   "version": "3.9.7"
  }
 },
 "nbformat": 4,
 "nbformat_minor": 5
}
