{
 "cells": [
  {
   "cell_type": "code",
   "execution_count": 1,
   "id": "43bdc510",
   "metadata": {},
   "outputs": [],
   "source": [
    "import numpy as np\n",
    "import pandas as pd\n",
    "import seaborn as sns\n",
    "import matplotlib\n",
    "import matplotlib.pyplot as plt\n",
    "%matplotlib inline"
   ]
  },
  {
   "cell_type": "markdown",
   "id": "14b93001",
   "metadata": {},
   "source": [
    "# Explore Data Using Pandas "
   ]
  },
  {
   "cell_type": "code",
   "execution_count": 2,
   "id": "19f55cda",
   "metadata": {
    "scrolled": true
   },
   "outputs": [
    {
     "name": "stderr",
     "output_type": "stream",
     "text": [
      "/home/hadoop/anaconda3/lib/python3.9/site-packages/IPython/core/interactiveshell.py:3444: DtypeWarning: Columns (5,7) have mixed types.Specify dtype option on import or set low_memory=False.\n",
      "  exec(code_obj, self.user_global_ns, self.user_ns)\n"
     ]
    },
    {
     "data": {
      "text/html": [
       "<div>\n",
       "<style scoped>\n",
       "    .dataframe tbody tr th:only-of-type {\n",
       "        vertical-align: middle;\n",
       "    }\n",
       "\n",
       "    .dataframe tbody tr th {\n",
       "        vertical-align: top;\n",
       "    }\n",
       "\n",
       "    .dataframe thead th {\n",
       "        text-align: right;\n",
       "    }\n",
       "</style>\n",
       "<table border=\"1\" class=\"dataframe\">\n",
       "  <thead>\n",
       "    <tr style=\"text-align: right;\">\n",
       "      <th></th>\n",
       "      <th>description</th>\n",
       "      <th>origin</th>\n",
       "      <th>status</th>\n",
       "      <th>car_mileage</th>\n",
       "      <th>car_color</th>\n",
       "      <th>car_seats</th>\n",
       "      <th>gear</th>\n",
       "      <th>car_year</th>\n",
       "      <th>car_price</th>\n",
       "      <th>style</th>\n",
       "      <th>model</th>\n",
       "      <th>fuel</th>\n",
       "      <th>brand_name</th>\n",
       "      <th>region_name</th>\n",
       "      <th>url_image</th>\n",
       "      <th>website</th>\n",
       "      <th>month</th>\n",
       "      <th>year</th>\n",
       "      <th>num_null</th>\n",
       "    </tr>\n",
       "  </thead>\n",
       "  <tbody>\n",
       "    <tr>\n",
       "      <th>0</th>\n",
       "      <td>🔹 HÀNG MỚI VỀ\\n🔹 BMW 520i \\n🔹 MODEL 2016\\n🔹 Od...</td>\n",
       "      <td>Đức</td>\n",
       "      <td>Đã sử dụng</td>\n",
       "      <td>50000.0</td>\n",
       "      <td>Đen</td>\n",
       "      <td>4.0</td>\n",
       "      <td>Tự động</td>\n",
       "      <td>2015.0</td>\n",
       "      <td>1.170000e+09</td>\n",
       "      <td>Sedan</td>\n",
       "      <td>5 Series</td>\n",
       "      <td>Xăng</td>\n",
       "      <td>BMW</td>\n",
       "      <td>Hà Nội</td>\n",
       "      <td>https://cdn.chotot.com/namB6E0XkDPkf9h8KoahoRB...</td>\n",
       "      <td>chotot</td>\n",
       "      <td>11</td>\n",
       "      <td>2021</td>\n",
       "      <td>0</td>\n",
       "    </tr>\n",
       "    <tr>\n",
       "      <th>1</th>\n",
       "      <td>Bán nissan - Gran Livina nhập khẩu số tự động ...</td>\n",
       "      <td>Nhật Bản</td>\n",
       "      <td>Đã sử dụng</td>\n",
       "      <td>12000.0</td>\n",
       "      <td>Xám</td>\n",
       "      <td>3.0</td>\n",
       "      <td>Tự động</td>\n",
       "      <td>2009.0</td>\n",
       "      <td>2.342500e+08</td>\n",
       "      <td>Minivan (MPV)</td>\n",
       "      <td>Grand livina</td>\n",
       "      <td>Xăng</td>\n",
       "      <td>Nissan</td>\n",
       "      <td>Hà Nội</td>\n",
       "      <td>https://cdn.chotot.com/50R_cYWFPAz0wHZqPAGaFr-...</td>\n",
       "      <td>chotot</td>\n",
       "      <td>11</td>\n",
       "      <td>2021</td>\n",
       "      <td>0</td>\n",
       "    </tr>\n",
       "    <tr>\n",
       "      <th>2</th>\n",
       "      <td>Auto88 về Mercedes C200 sx 2017 đky 2/2018 chạ...</td>\n",
       "      <td>Việt Nam</td>\n",
       "      <td>Đã sử dụng</td>\n",
       "      <td>30000.0</td>\n",
       "      <td>Xám</td>\n",
       "      <td>2.0</td>\n",
       "      <td>Tự động</td>\n",
       "      <td>2018.0</td>\n",
       "      <td>1.090000e+09</td>\n",
       "      <td>Sedan</td>\n",
       "      <td>C Class</td>\n",
       "      <td>Xăng</td>\n",
       "      <td>Mercedes Benz</td>\n",
       "      <td>Hà Nội</td>\n",
       "      <td>https://cdn.chotot.com/bhfeL3dPtccDnzlKzeAZ88X...</td>\n",
       "      <td>chotot</td>\n",
       "      <td>11</td>\n",
       "      <td>2021</td>\n",
       "      <td>0</td>\n",
       "    </tr>\n",
       "    <tr>\n",
       "      <th>3</th>\n",
       "      <td>xe còn đẹp gia đình đang xử dụng. Cần bán xe đ...</td>\n",
       "      <td>Nhật Bản</td>\n",
       "      <td>Đã sử dụng</td>\n",
       "      <td>120.0</td>\n",
       "      <td>Trắng</td>\n",
       "      <td>2.0</td>\n",
       "      <td>Tự động</td>\n",
       "      <td>2017.0</td>\n",
       "      <td>4.900000e+08</td>\n",
       "      <td>Hatchback</td>\n",
       "      <td>CX 3</td>\n",
       "      <td>Xăng</td>\n",
       "      <td>Mazda</td>\n",
       "      <td>An Giang</td>\n",
       "      <td>https://cdn.chotot.com/bZA5uIvzseB-MBKCPcDKe4K...</td>\n",
       "      <td>chotot</td>\n",
       "      <td>11</td>\n",
       "      <td>2021</td>\n",
       "      <td>0</td>\n",
       "    </tr>\n",
       "    <tr>\n",
       "      <th>4</th>\n",
       "      <td>Xe gia đình đi, còn khá mới vì do công việc nê...</td>\n",
       "      <td>Việt Nam</td>\n",
       "      <td>Đã sử dụng</td>\n",
       "      <td>53000.0</td>\n",
       "      <td>Đen</td>\n",
       "      <td>2.0</td>\n",
       "      <td>Tự động</td>\n",
       "      <td>2016.0</td>\n",
       "      <td>4.000000e+08</td>\n",
       "      <td>Sedan</td>\n",
       "      <td>Cruze</td>\n",
       "      <td>Xăng</td>\n",
       "      <td>Chevrolet</td>\n",
       "      <td>Tp Hồ Chí Minh</td>\n",
       "      <td>https://cdn.chotot.com/c7q5pfENmvTLnzxYQ7MA70P...</td>\n",
       "      <td>chotot</td>\n",
       "      <td>11</td>\n",
       "      <td>2021</td>\n",
       "      <td>0</td>\n",
       "    </tr>\n",
       "  </tbody>\n",
       "</table>\n",
       "</div>"
      ],
      "text/plain": [
       "                                         description    origin      status  \\\n",
       "0  🔹 HÀNG MỚI VỀ\\n🔹 BMW 520i \\n🔹 MODEL 2016\\n🔹 Od...       Đức  Đã sử dụng   \n",
       "1  Bán nissan - Gran Livina nhập khẩu số tự động ...  Nhật Bản  Đã sử dụng   \n",
       "2  Auto88 về Mercedes C200 sx 2017 đky 2/2018 chạ...  Việt Nam  Đã sử dụng   \n",
       "3  xe còn đẹp gia đình đang xử dụng. Cần bán xe đ...  Nhật Bản  Đã sử dụng   \n",
       "4  Xe gia đình đi, còn khá mới vì do công việc nê...  Việt Nam  Đã sử dụng   \n",
       "\n",
       "   car_mileage car_color car_seats     gear car_year     car_price  \\\n",
       "0      50000.0       Đen       4.0  Tự động   2015.0  1.170000e+09   \n",
       "1      12000.0       Xám       3.0  Tự động   2009.0  2.342500e+08   \n",
       "2      30000.0       Xám       2.0  Tự động   2018.0  1.090000e+09   \n",
       "3        120.0     Trắng       2.0  Tự động   2017.0  4.900000e+08   \n",
       "4      53000.0       Đen       2.0  Tự động   2016.0  4.000000e+08   \n",
       "\n",
       "           style         model  fuel     brand_name     region_name  \\\n",
       "0          Sedan      5 Series  Xăng            BMW          Hà Nội   \n",
       "1  Minivan (MPV)  Grand livina  Xăng         Nissan          Hà Nội   \n",
       "2          Sedan       C Class  Xăng  Mercedes Benz          Hà Nội   \n",
       "3      Hatchback          CX 3  Xăng          Mazda        An Giang   \n",
       "4          Sedan         Cruze  Xăng      Chevrolet  Tp Hồ Chí Minh   \n",
       "\n",
       "                                           url_image website  month  year  \\\n",
       "0  https://cdn.chotot.com/namB6E0XkDPkf9h8KoahoRB...  chotot     11  2021   \n",
       "1  https://cdn.chotot.com/50R_cYWFPAz0wHZqPAGaFr-...  chotot     11  2021   \n",
       "2  https://cdn.chotot.com/bhfeL3dPtccDnzlKzeAZ88X...  chotot     11  2021   \n",
       "3  https://cdn.chotot.com/bZA5uIvzseB-MBKCPcDKe4K...  chotot     11  2021   \n",
       "4  https://cdn.chotot.com/c7q5pfENmvTLnzxYQ7MA70P...  chotot     11  2021   \n",
       "\n",
       "   num_null  \n",
       "0         0  \n",
       "1         0  \n",
       "2         0  \n",
       "3         0  \n",
       "4         0  "
      ]
     },
     "execution_count": 2,
     "metadata": {},
     "output_type": "execute_result"
    }
   ],
   "source": [
    "data = pd.read_csv('./Preprocessed_data.csv')\n",
    "data.head(5)"
   ]
  },
  {
   "cell_type": "code",
   "execution_count": 3,
   "id": "74dd4b4b",
   "metadata": {},
   "outputs": [
    {
     "name": "stdout",
     "output_type": "stream",
     "text": [
      "<class 'pandas.core.frame.DataFrame'>\n",
      "RangeIndex: 65135 entries, 0 to 65134\n",
      "Data columns (total 18 columns):\n",
      " #   Column       Non-Null Count  Dtype  \n",
      "---  ------       --------------  -----  \n",
      " 0   description  65135 non-null  object \n",
      " 1   origin       65135 non-null  object \n",
      " 2   status       65135 non-null  object \n",
      " 3   car_mileage  65135 non-null  float64\n",
      " 4   car_color    65135 non-null  object \n",
      " 5   car_seats    65135 non-null  object \n",
      " 6   gear         65135 non-null  object \n",
      " 7   car_year     65135 non-null  object \n",
      " 8   car_price    65135 non-null  float64\n",
      " 9   style        65135 non-null  object \n",
      " 10  model        65135 non-null  object \n",
      " 11  fuel         65135 non-null  object \n",
      " 12  brand_name   65135 non-null  object \n",
      " 13  region_name  65135 non-null  object \n",
      " 14  website      65135 non-null  object \n",
      " 15  month        65135 non-null  int64  \n",
      " 16  year         65135 non-null  int64  \n",
      " 17  num_null     65135 non-null  int64  \n",
      "dtypes: float64(2), int64(3), object(13)\n",
      "memory usage: 8.9+ MB\n"
     ]
    }
   ],
   "source": [
    "# Drop some column unused to visualize\n",
    "data.drop(['url_image'], axis=1, inplace=True)\n",
    "data.info()"
   ]
  },
  {
   "cell_type": "code",
   "execution_count": 4,
   "id": "f095dca2",
   "metadata": {},
   "outputs": [],
   "source": [
    "data['car_seats'].replace('Unknown','0.0', inplace=True)"
   ]
  },
  {
   "cell_type": "code",
   "execution_count": 5,
   "id": "7a9a6b5e",
   "metadata": {},
   "outputs": [],
   "source": [
    "data['car_seats'] = data['car_seats'].astype('float64')"
   ]
  },
  {
   "cell_type": "code",
   "execution_count": 6,
   "id": "fcec14c1",
   "metadata": {},
   "outputs": [
    {
     "name": "stdout",
     "output_type": "stream",
     "text": [
      "<class 'pandas.core.frame.DataFrame'>\n",
      "RangeIndex: 65135 entries, 0 to 65134\n",
      "Data columns (total 18 columns):\n",
      " #   Column       Non-Null Count  Dtype  \n",
      "---  ------       --------------  -----  \n",
      " 0   description  65135 non-null  object \n",
      " 1   origin       65135 non-null  object \n",
      " 2   status       65135 non-null  object \n",
      " 3   car_mileage  65135 non-null  float64\n",
      " 4   car_color    65135 non-null  object \n",
      " 5   car_seats    65135 non-null  float64\n",
      " 6   gear         65135 non-null  object \n",
      " 7   car_year     65135 non-null  object \n",
      " 8   car_price    65135 non-null  float64\n",
      " 9   style        65135 non-null  object \n",
      " 10  model        65135 non-null  object \n",
      " 11  fuel         65135 non-null  object \n",
      " 12  brand_name   65135 non-null  object \n",
      " 13  region_name  65135 non-null  object \n",
      " 14  website      65135 non-null  object \n",
      " 15  month        65135 non-null  int64  \n",
      " 16  year         65135 non-null  int64  \n",
      " 17  num_null     65135 non-null  int64  \n",
      "dtypes: float64(3), int64(3), object(12)\n",
      "memory usage: 8.9+ MB\n"
     ]
    }
   ],
   "source": [
    "data.info()"
   ]
  },
  {
   "cell_type": "code",
   "execution_count": 7,
   "id": "df1c299f",
   "metadata": {},
   "outputs": [
    {
     "data": {
      "text/html": [
       "<div>\n",
       "<style scoped>\n",
       "    .dataframe tbody tr th:only-of-type {\n",
       "        vertical-align: middle;\n",
       "    }\n",
       "\n",
       "    .dataframe tbody tr th {\n",
       "        vertical-align: top;\n",
       "    }\n",
       "\n",
       "    .dataframe thead th {\n",
       "        text-align: right;\n",
       "    }\n",
       "</style>\n",
       "<table border=\"1\" class=\"dataframe\">\n",
       "  <thead>\n",
       "    <tr style=\"text-align: right;\">\n",
       "      <th></th>\n",
       "      <th>car_mileage</th>\n",
       "      <th>car_seats</th>\n",
       "      <th>car_price</th>\n",
       "      <th>month</th>\n",
       "      <th>year</th>\n",
       "    </tr>\n",
       "  </thead>\n",
       "  <tbody>\n",
       "    <tr>\n",
       "      <th>count</th>\n",
       "      <td>6.513500e+04</td>\n",
       "      <td>65135.000000</td>\n",
       "      <td>6.513500e+04</td>\n",
       "      <td>65135.000000</td>\n",
       "      <td>65135.000000</td>\n",
       "    </tr>\n",
       "    <tr>\n",
       "      <th>mean</th>\n",
       "      <td>1.406672e+05</td>\n",
       "      <td>4.533676</td>\n",
       "      <td>8.903779e+08</td>\n",
       "      <td>10.725248</td>\n",
       "      <td>2020.994703</td>\n",
       "    </tr>\n",
       "    <tr>\n",
       "      <th>std</th>\n",
       "      <td>1.693651e+07</td>\n",
       "      <td>2.510566</td>\n",
       "      <td>1.734558e+09</td>\n",
       "      <td>1.364346</td>\n",
       "      <td>0.076700</td>\n",
       "    </tr>\n",
       "    <tr>\n",
       "      <th>min</th>\n",
       "      <td>0.000000e+00</td>\n",
       "      <td>0.000000</td>\n",
       "      <td>1.100000e+07</td>\n",
       "      <td>1.000000</td>\n",
       "      <td>2019.000000</td>\n",
       "    </tr>\n",
       "    <tr>\n",
       "      <th>25%</th>\n",
       "      <td>0.000000e+00</td>\n",
       "      <td>2.000000</td>\n",
       "      <td>3.250000e+08</td>\n",
       "      <td>10.000000</td>\n",
       "      <td>2021.000000</td>\n",
       "    </tr>\n",
       "    <tr>\n",
       "      <th>50%</th>\n",
       "      <td>1.000000e+04</td>\n",
       "      <td>5.000000</td>\n",
       "      <td>5.270000e+08</td>\n",
       "      <td>11.000000</td>\n",
       "      <td>2021.000000</td>\n",
       "    </tr>\n",
       "    <tr>\n",
       "      <th>75%</th>\n",
       "      <td>6.000000e+04</td>\n",
       "      <td>5.000000</td>\n",
       "      <td>8.390000e+08</td>\n",
       "      <td>12.000000</td>\n",
       "      <td>2021.000000</td>\n",
       "    </tr>\n",
       "    <tr>\n",
       "      <th>max</th>\n",
       "      <td>4.294967e+09</td>\n",
       "      <td>47.000000</td>\n",
       "      <td>6.800000e+10</td>\n",
       "      <td>12.000000</td>\n",
       "      <td>2021.000000</td>\n",
       "    </tr>\n",
       "  </tbody>\n",
       "</table>\n",
       "</div>"
      ],
      "text/plain": [
       "        car_mileage     car_seats     car_price         month          year\n",
       "count  6.513500e+04  65135.000000  6.513500e+04  65135.000000  65135.000000\n",
       "mean   1.406672e+05      4.533676  8.903779e+08     10.725248   2020.994703\n",
       "std    1.693651e+07      2.510566  1.734558e+09      1.364346      0.076700\n",
       "min    0.000000e+00      0.000000  1.100000e+07      1.000000   2019.000000\n",
       "25%    0.000000e+00      2.000000  3.250000e+08     10.000000   2021.000000\n",
       "50%    1.000000e+04      5.000000  5.270000e+08     11.000000   2021.000000\n",
       "75%    6.000000e+04      5.000000  8.390000e+08     12.000000   2021.000000\n",
       "max    4.294967e+09     47.000000  6.800000e+10     12.000000   2021.000000"
      ]
     },
     "execution_count": 7,
     "metadata": {},
     "output_type": "execute_result"
    }
   ],
   "source": [
    "data.drop(['num_null'], axis=1, inplace=True)\n",
    "data.describe()"
   ]
  },
  {
   "cell_type": "code",
   "execution_count": 8,
   "id": "f69b3cf2",
   "metadata": {},
   "outputs": [
    {
     "data": {
      "text/html": [
       "<div>\n",
       "<style scoped>\n",
       "    .dataframe tbody tr th:only-of-type {\n",
       "        vertical-align: middle;\n",
       "    }\n",
       "\n",
       "    .dataframe tbody tr th {\n",
       "        vertical-align: top;\n",
       "    }\n",
       "\n",
       "    .dataframe thead th {\n",
       "        text-align: right;\n",
       "    }\n",
       "</style>\n",
       "<table border=\"1\" class=\"dataframe\">\n",
       "  <thead>\n",
       "    <tr style=\"text-align: right;\">\n",
       "      <th></th>\n",
       "      <th>car_mileage</th>\n",
       "      <th>car_seats</th>\n",
       "      <th>car_price</th>\n",
       "      <th>month</th>\n",
       "      <th>year</th>\n",
       "    </tr>\n",
       "  </thead>\n",
       "  <tbody>\n",
       "    <tr>\n",
       "      <th>count</th>\n",
       "      <td>6.513500e+04</td>\n",
       "      <td>65135.000000</td>\n",
       "      <td>6.513500e+04</td>\n",
       "      <td>65135.000000</td>\n",
       "      <td>65135.000000</td>\n",
       "    </tr>\n",
       "    <tr>\n",
       "      <th>mean</th>\n",
       "      <td>1.406672e+05</td>\n",
       "      <td>4.533676</td>\n",
       "      <td>8.903779e+08</td>\n",
       "      <td>10.725248</td>\n",
       "      <td>2020.994703</td>\n",
       "    </tr>\n",
       "    <tr>\n",
       "      <th>std</th>\n",
       "      <td>1.693651e+07</td>\n",
       "      <td>2.510566</td>\n",
       "      <td>1.734558e+09</td>\n",
       "      <td>1.364346</td>\n",
       "      <td>0.076700</td>\n",
       "    </tr>\n",
       "    <tr>\n",
       "      <th>min</th>\n",
       "      <td>0.000000e+00</td>\n",
       "      <td>0.000000</td>\n",
       "      <td>1.100000e+07</td>\n",
       "      <td>1.000000</td>\n",
       "      <td>2019.000000</td>\n",
       "    </tr>\n",
       "    <tr>\n",
       "      <th>25%</th>\n",
       "      <td>0.000000e+00</td>\n",
       "      <td>2.000000</td>\n",
       "      <td>3.250000e+08</td>\n",
       "      <td>10.000000</td>\n",
       "      <td>2021.000000</td>\n",
       "    </tr>\n",
       "    <tr>\n",
       "      <th>50%</th>\n",
       "      <td>1.000000e+04</td>\n",
       "      <td>5.000000</td>\n",
       "      <td>5.270000e+08</td>\n",
       "      <td>11.000000</td>\n",
       "      <td>2021.000000</td>\n",
       "    </tr>\n",
       "    <tr>\n",
       "      <th>75%</th>\n",
       "      <td>6.000000e+04</td>\n",
       "      <td>5.000000</td>\n",
       "      <td>8.390000e+08</td>\n",
       "      <td>12.000000</td>\n",
       "      <td>2021.000000</td>\n",
       "    </tr>\n",
       "    <tr>\n",
       "      <th>max</th>\n",
       "      <td>4.294967e+09</td>\n",
       "      <td>47.000000</td>\n",
       "      <td>6.800000e+10</td>\n",
       "      <td>12.000000</td>\n",
       "      <td>2021.000000</td>\n",
       "    </tr>\n",
       "  </tbody>\n",
       "</table>\n",
       "</div>"
      ],
      "text/plain": [
       "        car_mileage     car_seats     car_price         month          year\n",
       "count  6.513500e+04  65135.000000  6.513500e+04  65135.000000  65135.000000\n",
       "mean   1.406672e+05      4.533676  8.903779e+08     10.725248   2020.994703\n",
       "std    1.693651e+07      2.510566  1.734558e+09      1.364346      0.076700\n",
       "min    0.000000e+00      0.000000  1.100000e+07      1.000000   2019.000000\n",
       "25%    0.000000e+00      2.000000  3.250000e+08     10.000000   2021.000000\n",
       "50%    1.000000e+04      5.000000  5.270000e+08     11.000000   2021.000000\n",
       "75%    6.000000e+04      5.000000  8.390000e+08     12.000000   2021.000000\n",
       "max    4.294967e+09     47.000000  6.800000e+10     12.000000   2021.000000"
      ]
     },
     "execution_count": 8,
     "metadata": {},
     "output_type": "execute_result"
    }
   ],
   "source": [
    "data.describe()"
   ]
  },
  {
   "cell_type": "code",
   "execution_count": 9,
   "id": "01fc2e1b",
   "metadata": {},
   "outputs": [
    {
     "name": "stderr",
     "output_type": "stream",
     "text": [
      "/home/hadoop/anaconda3/lib/python3.9/site-packages/seaborn/_decorators.py:36: FutureWarning: Pass the following variable as a keyword arg: x. From version 0.12, the only valid positional argument will be `data`, and passing other arguments without an explicit keyword will result in an error or misinterpretation.\n",
      "  warnings.warn(\n"
     ]
    },
    {
     "data": {
      "text/plain": [
       "<AxesSubplot:xlabel='car_price'>"
      ]
     },
     "execution_count": 9,
     "metadata": {},
     "output_type": "execute_result"
    },
    {
     "data": {
      "image/png": "[encoded data removed]",
      "text/plain": [
       "<Figure size 432x288 with 1 Axes>"
      ]
     },
     "metadata": {
      "needs_background": "light"
     },
     "output_type": "display_data"
    }
   ],
   "source": [
    "sns.boxplot(data['car_price'])"
   ]
  },
  {
   "cell_type": "code",
   "execution_count": 10,
   "id": "c696bf1c",
   "metadata": {},
   "outputs": [
    {
     "data": {
      "text/plain": [
       "<AxesSubplot:>"
      ]
     },
     "execution_count": 10,
     "metadata": {},
     "output_type": "execute_result"
    },
    {
     "data": {
      "image/png": "[encoded data removed]",
      "text/plain": [
       "<Figure size 720x576 with 1 Axes>"
      ]
     },
     "metadata": {
      "needs_background": "light"
     },
     "output_type": "display_data"
    }
   ],
   "source": [
    "matplotlib.rcParams['figure.figsize'] = 10, 8\n",
    "#car_price = data[data['car_price'] <= 2e10]\n",
    "data['car_price'].hist(bins=100, grid=True)"
   ]
  },
  {
   "cell_type": "code",
   "execution_count": 11,
   "id": "6f9269c8",
   "metadata": {
    "scrolled": true
   },
   "outputs": [
    {
     "data": {
      "text/html": [
       "<div>\n",
       "<style scoped>\n",
       "    .dataframe tbody tr th:only-of-type {\n",
       "        vertical-align: middle;\n",
       "    }\n",
       "\n",
       "    .dataframe tbody tr th {\n",
       "        vertical-align: top;\n",
       "    }\n",
       "\n",
       "    .dataframe thead th {\n",
       "        text-align: right;\n",
       "    }\n",
       "</style>\n",
       "<table border=\"1\" class=\"dataframe\">\n",
       "  <thead>\n",
       "    <tr style=\"text-align: right;\">\n",
       "      <th></th>\n",
       "      <th>description</th>\n",
       "      <th>origin</th>\n",
       "      <th>status</th>\n",
       "      <th>car_mileage</th>\n",
       "      <th>car_color</th>\n",
       "      <th>car_seats</th>\n",
       "      <th>gear</th>\n",
       "      <th>car_year</th>\n",
       "      <th>car_price</th>\n",
       "      <th>style</th>\n",
       "      <th>model</th>\n",
       "      <th>fuel</th>\n",
       "      <th>brand_name</th>\n",
       "      <th>region_name</th>\n",
       "      <th>website</th>\n",
       "      <th>month</th>\n",
       "      <th>year</th>\n",
       "    </tr>\n",
       "  </thead>\n",
       "  <tbody>\n",
       "    <tr>\n",
       "      <th>0</th>\n",
       "      <td>🔹 HÀNG MỚI VỀ\\n🔹 BMW 520i \\n🔹 MODEL 2016\\n🔹 Od...</td>\n",
       "      <td>Đức</td>\n",
       "      <td>Đã sử dụng</td>\n",
       "      <td>50000.0</td>\n",
       "      <td>Đen</td>\n",
       "      <td>4.0</td>\n",
       "      <td>Tự động</td>\n",
       "      <td>2015.0</td>\n",
       "      <td>1.170000e+09</td>\n",
       "      <td>Sedan</td>\n",
       "      <td>5 Series</td>\n",
       "      <td>Xăng</td>\n",
       "      <td>BMW</td>\n",
       "      <td>Hà Nội</td>\n",
       "      <td>chotot</td>\n",
       "      <td>11</td>\n",
       "      <td>2021</td>\n",
       "    </tr>\n",
       "    <tr>\n",
       "      <th>1</th>\n",
       "      <td>Bán nissan - Gran Livina nhập khẩu số tự động ...</td>\n",
       "      <td>Nhật Bản</td>\n",
       "      <td>Đã sử dụng</td>\n",
       "      <td>12000.0</td>\n",
       "      <td>Xám</td>\n",
       "      <td>3.0</td>\n",
       "      <td>Tự động</td>\n",
       "      <td>2009.0</td>\n",
       "      <td>2.342500e+08</td>\n",
       "      <td>Minivan (MPV)</td>\n",
       "      <td>Grand livina</td>\n",
       "      <td>Xăng</td>\n",
       "      <td>Nissan</td>\n",
       "      <td>Hà Nội</td>\n",
       "      <td>chotot</td>\n",
       "      <td>11</td>\n",
       "      <td>2021</td>\n",
       "    </tr>\n",
       "  </tbody>\n",
       "</table>\n",
       "</div>"
      ],
      "text/plain": [
       "                                         description    origin      status  \\\n",
       "0  🔹 HÀNG MỚI VỀ\\n🔹 BMW 520i \\n🔹 MODEL 2016\\n🔹 Od...       Đức  Đã sử dụng   \n",
       "1  Bán nissan - Gran Livina nhập khẩu số tự động ...  Nhật Bản  Đã sử dụng   \n",
       "\n",
       "   car_mileage car_color  car_seats     gear car_year     car_price  \\\n",
       "0      50000.0       Đen        4.0  Tự động   2015.0  1.170000e+09   \n",
       "1      12000.0       Xám        3.0  Tự động   2009.0  2.342500e+08   \n",
       "\n",
       "           style         model  fuel brand_name region_name website  month  \\\n",
       "0          Sedan      5 Series  Xăng        BMW      Hà Nội  chotot     11   \n",
       "1  Minivan (MPV)  Grand livina  Xăng     Nissan      Hà Nội  chotot     11   \n",
       "\n",
       "   year  \n",
       "0  2021  \n",
       "1  2021  "
      ]
     },
     "execution_count": 11,
     "metadata": {},
     "output_type": "execute_result"
    }
   ],
   "source": [
    "data.head(2)"
   ]
  },
  {
   "cell_type": "code",
   "execution_count": 12,
   "id": "dd3e55d5",
   "metadata": {},
   "outputs": [
    {
     "data": {
      "text/plain": [
       "<AxesSubplot:>"
      ]
     },
     "execution_count": 12,
     "metadata": {},
     "output_type": "execute_result"
    },
    {
     "data": {
      "image/png": "[encoded data removed]",
      "text/plain": [
       "<Figure size 720x720 with 2 Axes>"
      ]
     },
     "metadata": {
      "needs_background": "light"
     },
     "output_type": "display_data"
    }
   ],
   "source": [
    "f, ax = plt.subplots(figsize=(10, 10))\n",
    "sns.heatmap(data.corr(), annot=True, linewidths=.5, fmt='.1f', ax=ax)"
   ]
  },
  {
   "cell_type": "code",
   "execution_count": 13,
   "id": "35bf48ba",
   "metadata": {
    "scrolled": true
   },
   "outputs": [
    {
     "data": {
      "text/html": [
       "<div>\n",
       "<style scoped>\n",
       "    .dataframe tbody tr th:only-of-type {\n",
       "        vertical-align: middle;\n",
       "    }\n",
       "\n",
       "    .dataframe tbody tr th {\n",
       "        vertical-align: top;\n",
       "    }\n",
       "\n",
       "    .dataframe thead th {\n",
       "        text-align: right;\n",
       "    }\n",
       "</style>\n",
       "<table border=\"1\" class=\"dataframe\">\n",
       "  <thead>\n",
       "    <tr style=\"text-align: right;\">\n",
       "      <th></th>\n",
       "      <th>car_price</th>\n",
       "    </tr>\n",
       "    <tr>\n",
       "      <th>brand_name</th>\n",
       "      <th></th>\n",
       "    </tr>\n",
       "  </thead>\n",
       "  <tbody>\n",
       "    <tr>\n",
       "      <th>Acura</th>\n",
       "      <td>5.699477e+08</td>\n",
       "    </tr>\n",
       "    <tr>\n",
       "      <th>Alfa Romeo</th>\n",
       "      <td>7.352778e+08</td>\n",
       "    </tr>\n",
       "    <tr>\n",
       "      <th>Asia</th>\n",
       "      <td>1.676000e+08</td>\n",
       "    </tr>\n",
       "    <tr>\n",
       "      <th>Aston Martin</th>\n",
       "      <td>1.624500e+09</td>\n",
       "    </tr>\n",
       "    <tr>\n",
       "      <th>Audi</th>\n",
       "      <td>1.301657e+09</td>\n",
       "    </tr>\n",
       "  </tbody>\n",
       "</table>\n",
       "</div>"
      ],
      "text/plain": [
       "                 car_price\n",
       "brand_name                \n",
       "Acura         5.699477e+08\n",
       "Alfa Romeo    7.352778e+08\n",
       "Asia          1.676000e+08\n",
       "Aston Martin  1.624500e+09\n",
       "Audi          1.301657e+09"
      ]
     },
     "execution_count": 13,
     "metadata": {},
     "output_type": "execute_result"
    }
   ],
   "source": [
    "price_brand = data[['brand_name', 'car_price']].groupby(['brand_name']).mean()\n",
    "price_brand.head(5)"
   ]
  },
  {
   "cell_type": "code",
   "execution_count": 14,
   "id": "75c01b60",
   "metadata": {
    "scrolled": true
   },
   "outputs": [
    {
     "data": {
      "text/html": [
       "<div>\n",
       "<style scoped>\n",
       "    .dataframe tbody tr th:only-of-type {\n",
       "        vertical-align: middle;\n",
       "    }\n",
       "\n",
       "    .dataframe tbody tr th {\n",
       "        vertical-align: top;\n",
       "    }\n",
       "\n",
       "    .dataframe thead th {\n",
       "        text-align: right;\n",
       "    }\n",
       "</style>\n",
       "<table border=\"1\" class=\"dataframe\">\n",
       "  <thead>\n",
       "    <tr style=\"text-align: right;\">\n",
       "      <th></th>\n",
       "      <th>brand_name</th>\n",
       "      <th>car_price</th>\n",
       "    </tr>\n",
       "  </thead>\n",
       "  <tbody>\n",
       "    <tr>\n",
       "      <th>0</th>\n",
       "      <td>Acura</td>\n",
       "      <td>5.699477e+08</td>\n",
       "    </tr>\n",
       "    <tr>\n",
       "      <th>1</th>\n",
       "      <td>Alfa Romeo</td>\n",
       "      <td>7.352778e+08</td>\n",
       "    </tr>\n",
       "    <tr>\n",
       "      <th>2</th>\n",
       "      <td>Asia</td>\n",
       "      <td>1.676000e+08</td>\n",
       "    </tr>\n",
       "  </tbody>\n",
       "</table>\n",
       "</div>"
      ],
      "text/plain": [
       "   brand_name     car_price\n",
       "0       Acura  5.699477e+08\n",
       "1  Alfa Romeo  7.352778e+08\n",
       "2        Asia  1.676000e+08"
      ]
     },
     "execution_count": 14,
     "metadata": {},
     "output_type": "execute_result"
    }
   ],
   "source": [
    "price_brand.reset_index(inplace=True)\n",
    "price_brand.head(3)"
   ]
  },
  {
   "cell_type": "code",
   "execution_count": 15,
   "id": "994d9fcc",
   "metadata": {
    "scrolled": true
   },
   "outputs": [
    {
     "data": {
      "text/html": [
       "<div>\n",
       "<style scoped>\n",
       "    .dataframe tbody tr th:only-of-type {\n",
       "        vertical-align: middle;\n",
       "    }\n",
       "\n",
       "    .dataframe tbody tr th {\n",
       "        vertical-align: top;\n",
       "    }\n",
       "\n",
       "    .dataframe thead th {\n",
       "        text-align: right;\n",
       "    }\n",
       "</style>\n",
       "<table border=\"1\" class=\"dataframe\">\n",
       "  <thead>\n",
       "    <tr style=\"text-align: right;\">\n",
       "      <th></th>\n",
       "      <th>brand_name</th>\n",
       "      <th>car_price</th>\n",
       "    </tr>\n",
       "  </thead>\n",
       "  <tbody>\n",
       "    <tr>\n",
       "      <th>78</th>\n",
       "      <td>Saturn</td>\n",
       "      <td>55000000.0</td>\n",
       "    </tr>\n",
       "    <tr>\n",
       "      <th>44</th>\n",
       "      <td>Lada</td>\n",
       "      <td>56000000.0</td>\n",
       "    </tr>\n",
       "    <tr>\n",
       "      <th>9</th>\n",
       "      <td>Buick</td>\n",
       "      <td>57500000.0</td>\n",
       "    </tr>\n",
       "    <tr>\n",
       "      <th>41</th>\n",
       "      <td>KIA</td>\n",
       "      <td>64000000.0</td>\n",
       "    </tr>\n",
       "    <tr>\n",
       "      <th>89</th>\n",
       "      <td>Vinaxuki</td>\n",
       "      <td>66000000.0</td>\n",
       "    </tr>\n",
       "  </tbody>\n",
       "</table>\n",
       "</div>"
      ],
      "text/plain": [
       "   brand_name   car_price\n",
       "78     Saturn  55000000.0\n",
       "44       Lada  56000000.0\n",
       "9       Buick  57500000.0\n",
       "41        KIA  64000000.0\n",
       "89   Vinaxuki  66000000.0"
      ]
     },
     "execution_count": 15,
     "metadata": {},
     "output_type": "execute_result"
    }
   ],
   "source": [
    "price_brand.sort_values('car_price', inplace=True)\n",
    "price_brand.head(5)"
   ]
  },
  {
   "cell_type": "code",
   "execution_count": 16,
   "id": "ff07c525",
   "metadata": {},
   "outputs": [
    {
     "data": {
      "image/png": "[encoded data removed]",
      "text/plain": [
       "<Figure size 720x576 with 1 Axes>"
      ]
     },
     "metadata": {
      "needs_background": "light"
     },
     "output_type": "display_data"
    }
   ],
   "source": [
    "ax = sns.barplot(x='brand_name', y='car_price', data=price_brand.iloc[0:10])"
   ]
  },
  {
   "cell_type": "code",
   "execution_count": 17,
   "id": "be63b493",
   "metadata": {},
   "outputs": [
    {
     "data": {
      "image/png": "[encoded data removed]",
      "text/plain": [
       "<Figure size 720x576 with 1 Axes>"
      ]
     },
     "metadata": {
      "needs_background": "light"
     },
     "output_type": "display_data"
    }
   ],
   "source": [
    "ax = sns.barplot(x='brand_name', y='car_price', data=price_brand[-10:])"
   ]
  },
  {
   "cell_type": "code",
   "execution_count": 18,
   "id": "dfd021de",
   "metadata": {
    "scrolled": false
   },
   "outputs": [
    {
     "data": {
      "text/plain": [
       "<AxesSubplot:ylabel='car_price'>"
      ]
     },
     "execution_count": 18,
     "metadata": {},
     "output_type": "execute_result"
    },
    {
     "data": {
      "image/png": "[encoded data removed]",
      "text/plain": [
       "<Figure size 720x576 with 1 Axes>"
      ]
     },
     "metadata": {
      "needs_background": "light"
     },
     "output_type": "display_data"
    }
   ],
   "source": [
    "sns.lineplot(data=data['car_price'])"
   ]
  },
  {
   "cell_type": "code",
   "execution_count": 19,
   "id": "152f59ad",
   "metadata": {},
   "outputs": [
    {
     "data": {
      "text/plain": [
       "<seaborn.axisgrid.JointGrid at 0x7fbb0c806b20>"
      ]
     },
     "execution_count": 19,
     "metadata": {},
     "output_type": "execute_result"
    },
    {
     "data": {
      "image/png": "[encoded data removed]",
      "text/plain": [
       "<Figure size 432x432 with 3 Axes>"
      ]
     },
     "metadata": {
      "needs_background": "light"
     },
     "output_type": "display_data"
    }
   ],
   "source": [
    "sns.jointplot(x='gear', y='car_price', data=data)"
   ]
  },
  {
   "cell_type": "code",
   "execution_count": 20,
   "id": "f04e1e14",
   "metadata": {},
   "outputs": [
    {
     "name": "stdout",
     "output_type": "stream",
     "text": [
      "<class 'pandas.core.frame.DataFrame'>\n",
      "RangeIndex: 65135 entries, 0 to 65134\n",
      "Data columns (total 17 columns):\n",
      " #   Column       Non-Null Count  Dtype  \n",
      "---  ------       --------------  -----  \n",
      " 0   description  65135 non-null  object \n",
      " 1   origin       65135 non-null  object \n",
      " 2   status       65135 non-null  object \n",
      " 3   car_mileage  65135 non-null  float64\n",
      " 4   car_color    65135 non-null  object \n",
      " 5   car_seats    65135 non-null  float64\n",
      " 6   gear         65135 non-null  object \n",
      " 7   car_year     65135 non-null  object \n",
      " 8   car_price    65135 non-null  float64\n",
      " 9   style        65135 non-null  object \n",
      " 10  model        65135 non-null  object \n",
      " 11  fuel         65135 non-null  object \n",
      " 12  brand_name   65135 non-null  object \n",
      " 13  region_name  65135 non-null  object \n",
      " 14  website      65135 non-null  object \n",
      " 15  month        65135 non-null  int64  \n",
      " 16  year         65135 non-null  int64  \n",
      "dtypes: float64(3), int64(2), object(12)\n",
      "memory usage: 8.4+ MB\n"
     ]
    }
   ],
   "source": [
    "data.info()"
   ]
  },
  {
   "cell_type": "code",
   "execution_count": 21,
   "id": "8a07b059",
   "metadata": {},
   "outputs": [
    {
     "data": {
      "text/plain": [
       "<AxesSubplot:xlabel='index'>"
      ]
     },
     "execution_count": 21,
     "metadata": {},
     "output_type": "execute_result"
    },
    {
     "data": {
      "image/png": "[encoded data removed]",
      "text/plain": [
       "<Figure size 720x576 with 1 Axes>"
      ]
     },
     "metadata": {
      "needs_background": "light"
     },
     "output_type": "display_data"
    }
   ],
   "source": [
    "region = data.region_name.value_counts().reset_index()\n",
    "region.plot.bar(x='index', y='region_name')"
   ]
  },
  {
   "cell_type": "code",
   "execution_count": 22,
   "id": "8c047cbb",
   "metadata": {},
   "outputs": [
    {
     "data": {
      "text/plain": [
       "<AxesSubplot:xlabel='index'>"
      ]
     },
     "execution_count": 22,
     "metadata": {},
     "output_type": "execute_result"
    },
    {
     "data": {
      "image/png": "[encoded data removed]",
      "text/plain": [
       "<Figure size 720x576 with 1 Axes>"
      ]
     },
     "metadata": {
      "needs_background": "light"
     },
     "output_type": "display_data"
    }
   ],
   "source": [
    "region = data.origin.value_counts().reset_index()\n",
    "region.plot.bar(x='index', y='origin')"
   ]
  },
  {
   "cell_type": "code",
   "execution_count": 23,
   "id": "dbae6543",
   "metadata": {},
   "outputs": [
    {
     "data": {
      "text/plain": [
       "<AxesSubplot:xlabel='car_seats', ylabel='car_price'>"
      ]
     },
     "execution_count": 23,
     "metadata": {},
     "output_type": "execute_result"
    },
    {
     "data": {
      "image/png": "[encoded data removed]",
      "text/plain": [
       "<Figure size 720x576 with 1 Axes>"
      ]
     },
     "metadata": {
      "needs_background": "light"
     },
     "output_type": "display_data"
    }
   ],
   "source": [
    "data.plot(kind='scatter', x='car_seats', y='car_price')"
   ]
  },
  {
   "cell_type": "code",
   "execution_count": 24,
   "id": "6db165ed",
   "metadata": {},
   "outputs": [],
   "source": [
    "price_region = data[['brand_name', 'model', 'region_name', 'car_price']].groupby(['brand_name', 'model'])"
   ]
  },
  {
   "cell_type": "code",
   "execution_count": 25,
   "id": "59d02a74",
   "metadata": {},
   "outputs": [],
   "source": [
    "test = data[['brand_name', 'model', 'region_name', 'car_price']]"
   ]
  },
  {
   "cell_type": "code",
   "execution_count": 26,
   "id": "f694c1b1",
   "metadata": {
    "scrolled": true
   },
   "outputs": [
    {
     "data": {
      "image/png": "[encoded data removed]",
      "text/plain": [
       "<Figure size 1440x1440 with 2 Axes>"
      ]
     },
     "metadata": {
      "needs_background": "light"
     },
     "output_type": "display_data"
    }
   ],
   "source": [
    "df_test = test.iloc[0:1000].pivot_table(values='car_price', index='brand_name', columns='model')\n",
    "plt.rcParams['figure.figsize'] = 20, 20\n",
    "sns.heatmap(df_test, annot=False)\n",
    "plt.show()"
   ]
  },
  {
   "cell_type": "code",
   "execution_count": 27,
   "id": "0c9825ef",
   "metadata": {
    "scrolled": true
   },
   "outputs": [
    {
     "data": {
      "image/png": "[encoded data removed]",
      "text/plain": [
       "<Figure size 1440x1440 with 2 Axes>"
      ]
     },
     "metadata": {
      "needs_background": "light"
     },
     "output_type": "display_data"
    }
   ],
   "source": [
    "df_test = test.pivot_table(values='car_price', index='brand_name', columns='region_name')\n",
    "plt.rcParams['figure.figsize'] = 20, 20\n",
    "sns.heatmap(df_test, annot=False)\n",
    "plt.show()"
   ]
  },
  {
   "cell_type": "code",
   "execution_count": 28,
   "id": "99c13b04",
   "metadata": {},
   "outputs": [
    {
     "data": {
      "text/plain": [
       "<AxesSubplot:>"
      ]
     },
     "execution_count": 28,
     "metadata": {},
     "output_type": "execute_result"
    },
    {
     "data": {
      "image/png": "[encoded data removed]",
      "text/plain": [
       "<Figure size 720x576 with 1 Axes>"
      ]
     },
     "metadata": {
      "needs_background": "light"
     },
     "output_type": "display_data"
    }
   ],
   "source": [
    "matplotlib.rcParams['figure.figsize'] = 10, 8\n",
    "#car_price = data[data['car_price'] <= 2e10]\n",
    "data['car_mileage'].hist(bins=10, grid=True)"
   ]
  },
  {
   "cell_type": "code",
   "execution_count": 29,
   "id": "11861a34",
   "metadata": {},
   "outputs": [
    {
     "name": "stdout",
     "output_type": "stream",
     "text": [
      "model      1 Series  100NX  107  1200B  1240T  1490T  1500  159  190    2  \\\n",
      "car_seats                                                                   \n",
      "0.0               0      0    0      0      0      0     0    0    0    0   \n",
      "1.0               1      0    1      0      0      0     0    0    0    3   \n",
      "2.0               2      1    0      1      2      0     0    0    3  167   \n",
      "3.0               0      0    0      1      2      1     0    0    0    0   \n",
      "4.0               1      0    0      0      0      0     0    0    0    0   \n",
      "5.0               3      0    2      0      0      0     2    1    0  216   \n",
      "6.0               0      0    0      0      0      0     0    0    0    0   \n",
      "7.0               0      0    0      0      0      0     0    0    0    0   \n",
      "8.0               0      0    0      0      0      0     0    0    0    0   \n",
      "9.0               0      0    0      0      0      0     0    0    0    0   \n",
      "10.0              0      0    0      0      0      0     0    0    0    0   \n",
      "11.0              1      0    0      0      0      0     0    0    0    0   \n",
      "12.0              0      0    0      0      0      0     0    1    1    0   \n",
      "15.0              0      0    0      0      0      0     0    0    0    0   \n",
      "16.0              0      0    0      0      0      0     0    0    0    0   \n",
      "17.0              0      0    0      0      0      0     0    0    0    0   \n",
      "20.0              0      0    0      0      0      0     0    0    0    0   \n",
      "23.0              0      0    0      0      0      0     0    0    0    0   \n",
      "25.0              0      0    0      0      0      0     0    0    0    0   \n",
      "29.0              0      0    0      0      0      0     0    0    0    0   \n",
      "30.0              0      0    0      0      0      0     0    0    0    0   \n",
      "39.0              0      0    0      0      0      0     0    0    0    0   \n",
      "40.0              0      0    0      0      0      0     0    0    0    0   \n",
      "44.0              0      0    0      0      0      0     0    0    0    0   \n",
      "45.0              0      0    0      0      0      0     0    0    0    0   \n",
      "46.0              0      0    0      0      0      0     0    0    0    0   \n",
      "47.0              0      0    0      0      0      0     0    0    0    0   \n",
      "All               8      1    3      2      4      1     2    2    4  386   \n",
      "\n",
      "model      ...  ZS  Zace  Zagato  Zdx  Zinger   Zs  i20  i3  i30    All  \n",
      "car_seats  ...                                                           \n",
      "0.0        ...   0     0       0    0       0    0    0   0    0     75  \n",
      "1.0        ...   0     0       0    0       0    0    0   1    0    677  \n",
      "2.0        ...  49     6       1    0       1    0   56   1   21  17441  \n",
      "3.0        ...   0    12       0    0       4    0    0   0    0   5676  \n",
      "4.0        ...   0     0       0    0       0    0    0   0    0    716  \n",
      "5.0        ...   0     0       0    2       0  196    0   0    0  27525  \n",
      "6.0        ...   0    57       0    0      23    0    0   0    0   1792  \n",
      "7.0        ...   0     2       0    0       3    0    0   0    0   6812  \n",
      "8.0        ...   0   109       0    0      37    0    0   0    0   3279  \n",
      "9.0        ...   0     0       0    0       0    0    0   0    0     98  \n",
      "10.0       ...   0     0       0    0       0    0    0   0    0     36  \n",
      "11.0       ...   0     0       0    0       0    0    0   0    0    286  \n",
      "12.0       ...   0     0       0    0       0    0    0   0    0    117  \n",
      "15.0       ...   0     0       0    0       0    0    0   0    0      3  \n",
      "16.0       ...   0     0       0    0       0    0    0   0    0    460  \n",
      "17.0       ...   0     0       0    0       0    0    0   0    0      1  \n",
      "20.0       ...   0     0       0    0       0    0    0   0    0      2  \n",
      "23.0       ...   0     0       0    0       0    0    0   0    0      1  \n",
      "25.0       ...   0     0       0    0       0    0    0   0    0      2  \n",
      "29.0       ...   0     0       0    0       0    0    0   0    0    116  \n",
      "30.0       ...   0     0       0    0       0    0    0   0    0      3  \n",
      "39.0       ...   0     0       0    0       0    0    0   0    0      1  \n",
      "40.0       ...   0     0       0    0       0    0    0   0    0      1  \n",
      "44.0       ...   0     0       0    0       0    0    0   0    0      1  \n",
      "45.0       ...   0     0       0    0       0    0    0   0    0      2  \n",
      "46.0       ...   0     0       0    0       0    0    0   0    0      1  \n",
      "47.0       ...   0     0       0    0       0    0    0   0    0     11  \n",
      "All        ...  49   186       1    2      68  196   56   2   21  65135  \n",
      "\n",
      "[28 rows x 709 columns]\n"
     ]
    }
   ],
   "source": [
    "chi_square_test = pd.crosstab(data.car_seats, data.model, margins=True)\n",
    "print(chi_square_test)"
   ]
  },
  {
   "cell_type": "code",
   "execution_count": 30,
   "id": "e22e93d3",
   "metadata": {},
   "outputs": [
    {
     "data": {
      "text/plain": [
       "array([0, 0, 0, 0, 0, 0, 0, 0, 0, 0, 0, 0, 2, 0, 0, 0, 0, 2, 0, 0, 2, 0,\n",
       "       0, 0, 0, 0, 0, 0, 0, 0, 0, 0, 0, 0, 0, 0, 0, 0, 0, 1, 0, 0, 0, 0,\n",
       "       0, 0, 1, 0, 0, 1, 0, 0, 0, 0, 0, 0, 0, 0, 0, 0, 0, 0, 0, 0, 0, 0,\n",
       "       1, 0, 0, 0, 0, 0, 0, 0, 0, 0, 0, 0, 0, 0, 0, 0, 0, 1, 0, 0, 0, 0,\n",
       "       0, 0, 0, 0, 0, 0, 0, 0, 1, 0, 0, 0, 0, 0, 0, 0, 0, 0, 0, 0, 0, 0,\n",
       "       0, 0, 0, 0, 2, 0, 0, 0, 0, 0, 0, 0, 0, 0, 0, 0, 0, 0, 0, 0, 0, 0,\n",
       "       0, 2, 0, 0, 0, 2, 0, 0, 0, 0, 0, 0, 0, 0, 0, 0, 0, 0, 0, 0, 0, 1,\n",
       "       0, 0, 0, 0, 0, 0, 0, 0, 0, 0, 0, 0, 0, 2, 0, 0, 0, 0, 0, 0, 0, 0,\n",
       "       0, 0, 0, 0, 0, 0, 3, 0, 0, 0, 0, 0, 0, 0, 0, 0, 0, 0, 0, 0, 0, 0,\n",
       "       0, 0, 0, 0, 7, 1, 0, 0, 0, 1, 0, 0, 0, 0, 0, 0, 0, 0, 0, 0, 0, 0,\n",
       "       0, 0, 0, 0, 0, 0, 0, 0, 0, 0, 0, 1, 0, 0, 0, 2, 0, 0, 0, 0, 0, 0,\n",
       "       0, 0, 0, 0, 2, 0, 0, 0, 0, 1, 0, 1, 0, 0, 0, 0, 0, 0, 0, 0, 0, 0,\n",
       "       0, 0, 0, 0, 0, 0, 0, 0, 0, 0, 0, 0, 0, 0, 0, 0, 0, 0, 0, 0, 0, 0,\n",
       "       0, 0, 0, 0, 0, 1, 0, 0, 0, 0, 0, 0, 0, 0, 0, 0, 0, 0, 0, 0, 0, 0,\n",
       "       0, 0, 0, 1, 0, 0, 0, 0, 0, 0, 0, 0, 0, 0, 0, 1, 0, 0, 0, 0, 1, 0,\n",
       "       0, 0, 0, 0, 0, 0, 0, 0, 1, 0, 0, 0, 0, 0, 0, 0, 0, 0, 0, 0, 0, 0,\n",
       "       0, 0, 0, 0, 0, 0, 0, 0, 0, 0, 0, 0, 0, 0, 0, 0, 0, 0, 0, 1, 0, 0,\n",
       "       0, 0, 0, 0, 0, 0, 0, 0, 0, 0, 0, 0, 0, 0, 0, 0, 0, 0, 0, 0, 0, 0,\n",
       "       0, 0, 0, 0, 0, 0, 0, 0, 0, 0, 0, 0, 0, 0, 0, 0, 0, 0, 0, 0, 0, 1,\n",
       "       0, 0, 0, 0, 0, 0, 1, 0, 0, 0, 0, 1, 0, 1, 2, 0, 0, 0, 0, 0, 0, 0,\n",
       "       0, 0, 0, 0, 0, 0, 0, 0, 0, 0, 0, 0, 0, 0, 0, 0, 0, 1, 0, 0, 0, 0,\n",
       "       0, 0, 0, 0, 0, 0, 0, 0, 0, 0, 0, 0, 0, 0, 1, 0, 0, 0, 0, 0, 0, 0,\n",
       "       0, 0, 0, 0, 0, 0, 0, 0, 0, 0, 0, 0, 0, 0, 0, 0, 0, 0, 0, 0, 0, 0,\n",
       "       0, 0, 0, 0, 1, 0, 0, 0, 0, 1, 1, 0, 0, 0, 0, 0, 0, 0, 0, 1, 1, 0,\n",
       "       0, 0, 0, 0, 0, 0, 0, 0, 0, 0, 0, 0, 0, 0, 1, 0, 0, 0, 0, 0, 0, 0,\n",
       "       0, 0, 0, 0, 0, 0, 0, 1, 0, 0, 1, 0, 0, 0, 0, 0, 2, 0, 0, 0, 0, 0,\n",
       "       0, 0, 0, 0, 0, 0, 0, 0, 1, 0, 0, 0, 0, 0, 0, 0, 0, 1, 0, 0, 0, 0,\n",
       "       0, 0, 0, 0, 0, 0, 0, 1, 0, 0, 0, 0, 0, 0, 0, 0, 0, 0, 0, 0, 0, 1,\n",
       "       0, 0, 2, 0, 0, 0, 2, 0, 0, 0, 0, 0, 0, 0, 0, 0, 0, 0, 0, 0, 0, 0,\n",
       "       0, 0, 0, 0, 0, 0, 0, 0, 0, 1, 0, 0, 0, 0, 0, 0, 0, 0, 0, 0, 0, 0,\n",
       "       0, 0, 0, 0, 0, 0, 0, 0, 0, 0, 0, 0, 0, 0, 0, 0, 0, 0, 0, 0, 0, 0,\n",
       "       0, 1, 0, 0, 0, 0, 0, 0, 0, 0, 1, 0, 0, 0, 0, 0, 0, 0, 0, 0, 0, 0,\n",
       "       0, 0, 0, 0])"
      ]
     },
     "execution_count": 30,
     "metadata": {},
     "output_type": "execute_result"
    }
   ],
   "source": [
    "chi_square_test.iloc[0][0:708].values"
   ]
  },
  {
   "cell_type": "code",
   "execution_count": 31,
   "id": "5732bbe1",
   "metadata": {},
   "outputs": [
    {
     "data": {
      "text/plain": [
       "(28, 709)"
      ]
     },
     "execution_count": 31,
     "metadata": {},
     "output_type": "execute_result"
    }
   ],
   "source": [
    "from scipy.stats import chi2_contingency\n",
    "import numpy as np\n",
    "\n",
    "value = np.array(chi_square_test)\n",
    "value.shape"
   ]
  },
  {
   "cell_type": "markdown",
   "id": "a6cf45d0",
   "metadata": {},
   "source": [
    "### (statistical value, p-value approximately zero, the degree of freedom).\n",
    "#### p-value less than 0.05 => reject NULL HYPOTHESIS and we fail to accept that there is no association between the variables "
   ]
  },
  {
   "cell_type": "code",
   "execution_count": 32,
   "id": "536058c5",
   "metadata": {},
   "outputs": [
    {
     "name": "stdout",
     "output_type": "stream",
     "text": [
      "(490521.8966522864, 0.0, 19116)\n"
     ]
    }
   ],
   "source": [
    "print(chi2_contingency(value)[0:3])"
   ]
  },
  {
   "cell_type": "code",
   "execution_count": 33,
   "id": "270256b5",
   "metadata": {},
   "outputs": [
    {
     "data": {
      "text/plain": [
       "<AxesSubplot:>"
      ]
     },
     "execution_count": 33,
     "metadata": {},
     "output_type": "execute_result"
    },
    {
     "data": {
      "image/png": "[encoded data removed]",
      "text/plain": [
       "<Figure size 720x576 with 1 Axes>"
      ]
     },
     "metadata": {
      "needs_background": "light"
     },
     "output_type": "display_data"
    }
   ],
   "source": [
    "car_seats = data.car_seats.value_counts()\n",
    "data['car_seats'].plot(kind='box')"
   ]
  },
  {
   "cell_type": "code",
   "execution_count": 34,
   "id": "5ddf9b27",
   "metadata": {},
   "outputs": [
    {
     "data": {
      "text/plain": [
       "139"
      ]
     },
     "execution_count": 34,
     "metadata": {},
     "output_type": "execute_result"
    }
   ],
   "source": [
    "len(data[data['car_seats'] > 20]) "
   ]
  },
  {
   "cell_type": "markdown",
   "id": "1c4752c9",
   "metadata": {},
   "source": [
    "# Chi square hypothesis test two categorical variables"
   ]
  },
  {
   "cell_type": "code",
   "execution_count": 38,
   "id": "4d6dd887",
   "metadata": {},
   "outputs": [
    {
     "data": {
      "text/plain": [
       "0                Sedan\n",
       "1        Minivan (MPV)\n",
       "2                Sedan\n",
       "3            Hatchback\n",
       "4                Sedan\n",
       "             ...      \n",
       "65130            Sedan\n",
       "65131        Hatchback\n",
       "65132              Van\n",
       "65133            Sedan\n",
       "65134            Sedan\n",
       "Name: style, Length: 65135, dtype: object"
      ]
     },
     "execution_count": 38,
     "metadata": {},
     "output_type": "execute_result"
    }
   ],
   "source": [
    "data['style']"
   ]
  },
  {
   "cell_type": "code",
   "execution_count": 39,
   "id": "abf8e442",
   "metadata": {},
   "outputs": [
    {
     "data": {
      "text/html": [
       "<div>\n",
       "<style scoped>\n",
       "    .dataframe tbody tr th:only-of-type {\n",
       "        vertical-align: middle;\n",
       "    }\n",
       "\n",
       "    .dataframe tbody tr th {\n",
       "        vertical-align: top;\n",
       "    }\n",
       "\n",
       "    .dataframe thead th {\n",
       "        text-align: right;\n",
       "    }\n",
       "</style>\n",
       "<table border=\"1\" class=\"dataframe\">\n",
       "  <thead>\n",
       "    <tr style=\"text-align: right;\">\n",
       "      <th>style</th>\n",
       "      <th>Coupe (2 cửa)</th>\n",
       "      <th>Hatchback</th>\n",
       "      <th>Kiểu dáng khác</th>\n",
       "      <th>Minivan (MPV)</th>\n",
       "      <th>Mui trần</th>\n",
       "      <th>Pick-up (bán tải)</th>\n",
       "      <th>SUV / Cross over</th>\n",
       "      <th>Sedan</th>\n",
       "      <th>Unknown</th>\n",
       "      <th>Van</th>\n",
       "      <th>All</th>\n",
       "    </tr>\n",
       "    <tr>\n",
       "      <th>car_seats</th>\n",
       "      <th></th>\n",
       "      <th></th>\n",
       "      <th></th>\n",
       "      <th></th>\n",
       "      <th></th>\n",
       "      <th></th>\n",
       "      <th></th>\n",
       "      <th></th>\n",
       "      <th></th>\n",
       "      <th></th>\n",
       "      <th></th>\n",
       "    </tr>\n",
       "  </thead>\n",
       "  <tbody>\n",
       "    <tr>\n",
       "      <th>0.0</th>\n",
       "      <td>2</td>\n",
       "      <td>4</td>\n",
       "      <td>10</td>\n",
       "      <td>0</td>\n",
       "      <td>0</td>\n",
       "      <td>0</td>\n",
       "      <td>24</td>\n",
       "      <td>23</td>\n",
       "      <td>8</td>\n",
       "      <td>4</td>\n",
       "      <td>75</td>\n",
       "    </tr>\n",
       "    <tr>\n",
       "      <th>1.0</th>\n",
       "      <td>45</td>\n",
       "      <td>39</td>\n",
       "      <td>49</td>\n",
       "      <td>2</td>\n",
       "      <td>11</td>\n",
       "      <td>16</td>\n",
       "      <td>28</td>\n",
       "      <td>480</td>\n",
       "      <td>2</td>\n",
       "      <td>5</td>\n",
       "      <td>677</td>\n",
       "    </tr>\n",
       "    <tr>\n",
       "      <th>2.0</th>\n",
       "      <td>53</td>\n",
       "      <td>2848</td>\n",
       "      <td>411</td>\n",
       "      <td>281</td>\n",
       "      <td>7</td>\n",
       "      <td>1555</td>\n",
       "      <td>3067</td>\n",
       "      <td>8721</td>\n",
       "      <td>4</td>\n",
       "      <td>494</td>\n",
       "      <td>17441</td>\n",
       "    </tr>\n",
       "    <tr>\n",
       "      <th>3.0</th>\n",
       "      <td>2</td>\n",
       "      <td>31</td>\n",
       "      <td>990</td>\n",
       "      <td>965</td>\n",
       "      <td>0</td>\n",
       "      <td>5</td>\n",
       "      <td>3456</td>\n",
       "      <td>71</td>\n",
       "      <td>1</td>\n",
       "      <td>155</td>\n",
       "      <td>5676</td>\n",
       "    </tr>\n",
       "    <tr>\n",
       "      <th>4.0</th>\n",
       "      <td>126</td>\n",
       "      <td>32</td>\n",
       "      <td>125</td>\n",
       "      <td>3</td>\n",
       "      <td>0</td>\n",
       "      <td>1</td>\n",
       "      <td>242</td>\n",
       "      <td>161</td>\n",
       "      <td>0</td>\n",
       "      <td>26</td>\n",
       "      <td>716</td>\n",
       "    </tr>\n",
       "    <tr>\n",
       "      <th>5.0</th>\n",
       "      <td>57</td>\n",
       "      <td>5112</td>\n",
       "      <td>132</td>\n",
       "      <td>6</td>\n",
       "      <td>6</td>\n",
       "      <td>2492</td>\n",
       "      <td>5521</td>\n",
       "      <td>14090</td>\n",
       "      <td>2</td>\n",
       "      <td>107</td>\n",
       "      <td>27525</td>\n",
       "    </tr>\n",
       "    <tr>\n",
       "      <th>6.0</th>\n",
       "      <td>0</td>\n",
       "      <td>14</td>\n",
       "      <td>30</td>\n",
       "      <td>1066</td>\n",
       "      <td>0</td>\n",
       "      <td>0</td>\n",
       "      <td>512</td>\n",
       "      <td>39</td>\n",
       "      <td>0</td>\n",
       "      <td>131</td>\n",
       "      <td>1792</td>\n",
       "    </tr>\n",
       "    <tr>\n",
       "      <th>7.0</th>\n",
       "      <td>1</td>\n",
       "      <td>3</td>\n",
       "      <td>14</td>\n",
       "      <td>33</td>\n",
       "      <td>0</td>\n",
       "      <td>2</td>\n",
       "      <td>6162</td>\n",
       "      <td>3</td>\n",
       "      <td>0</td>\n",
       "      <td>594</td>\n",
       "      <td>6812</td>\n",
       "    </tr>\n",
       "    <tr>\n",
       "      <th>8.0</th>\n",
       "      <td>1</td>\n",
       "      <td>0</td>\n",
       "      <td>5</td>\n",
       "      <td>5</td>\n",
       "      <td>0</td>\n",
       "      <td>0</td>\n",
       "      <td>3198</td>\n",
       "      <td>0</td>\n",
       "      <td>0</td>\n",
       "      <td>70</td>\n",
       "      <td>3279</td>\n",
       "    </tr>\n",
       "    <tr>\n",
       "      <th>9.0</th>\n",
       "      <td>0</td>\n",
       "      <td>0</td>\n",
       "      <td>2</td>\n",
       "      <td>0</td>\n",
       "      <td>0</td>\n",
       "      <td>0</td>\n",
       "      <td>8</td>\n",
       "      <td>0</td>\n",
       "      <td>1</td>\n",
       "      <td>87</td>\n",
       "      <td>98</td>\n",
       "    </tr>\n",
       "    <tr>\n",
       "      <th>10.0</th>\n",
       "      <td>0</td>\n",
       "      <td>0</td>\n",
       "      <td>1</td>\n",
       "      <td>0</td>\n",
       "      <td>0</td>\n",
       "      <td>0</td>\n",
       "      <td>0</td>\n",
       "      <td>1</td>\n",
       "      <td>0</td>\n",
       "      <td>34</td>\n",
       "      <td>36</td>\n",
       "    </tr>\n",
       "    <tr>\n",
       "      <th>11.0</th>\n",
       "      <td>2</td>\n",
       "      <td>5</td>\n",
       "      <td>78</td>\n",
       "      <td>88</td>\n",
       "      <td>0</td>\n",
       "      <td>3</td>\n",
       "      <td>17</td>\n",
       "      <td>13</td>\n",
       "      <td>0</td>\n",
       "      <td>80</td>\n",
       "      <td>286</td>\n",
       "    </tr>\n",
       "    <tr>\n",
       "      <th>12.0</th>\n",
       "      <td>1</td>\n",
       "      <td>0</td>\n",
       "      <td>5</td>\n",
       "      <td>14</td>\n",
       "      <td>0</td>\n",
       "      <td>11</td>\n",
       "      <td>13</td>\n",
       "      <td>11</td>\n",
       "      <td>0</td>\n",
       "      <td>62</td>\n",
       "      <td>117</td>\n",
       "    </tr>\n",
       "    <tr>\n",
       "      <th>15.0</th>\n",
       "      <td>0</td>\n",
       "      <td>0</td>\n",
       "      <td>0</td>\n",
       "      <td>0</td>\n",
       "      <td>0</td>\n",
       "      <td>0</td>\n",
       "      <td>0</td>\n",
       "      <td>0</td>\n",
       "      <td>0</td>\n",
       "      <td>3</td>\n",
       "      <td>3</td>\n",
       "    </tr>\n",
       "    <tr>\n",
       "      <th>16.0</th>\n",
       "      <td>0</td>\n",
       "      <td>0</td>\n",
       "      <td>0</td>\n",
       "      <td>0</td>\n",
       "      <td>0</td>\n",
       "      <td>0</td>\n",
       "      <td>1</td>\n",
       "      <td>0</td>\n",
       "      <td>0</td>\n",
       "      <td>459</td>\n",
       "      <td>460</td>\n",
       "    </tr>\n",
       "    <tr>\n",
       "      <th>17.0</th>\n",
       "      <td>0</td>\n",
       "      <td>0</td>\n",
       "      <td>0</td>\n",
       "      <td>0</td>\n",
       "      <td>0</td>\n",
       "      <td>0</td>\n",
       "      <td>0</td>\n",
       "      <td>0</td>\n",
       "      <td>0</td>\n",
       "      <td>1</td>\n",
       "      <td>1</td>\n",
       "    </tr>\n",
       "    <tr>\n",
       "      <th>20.0</th>\n",
       "      <td>0</td>\n",
       "      <td>0</td>\n",
       "      <td>0</td>\n",
       "      <td>0</td>\n",
       "      <td>0</td>\n",
       "      <td>0</td>\n",
       "      <td>0</td>\n",
       "      <td>0</td>\n",
       "      <td>0</td>\n",
       "      <td>2</td>\n",
       "      <td>2</td>\n",
       "    </tr>\n",
       "    <tr>\n",
       "      <th>23.0</th>\n",
       "      <td>0</td>\n",
       "      <td>0</td>\n",
       "      <td>0</td>\n",
       "      <td>0</td>\n",
       "      <td>0</td>\n",
       "      <td>1</td>\n",
       "      <td>0</td>\n",
       "      <td>0</td>\n",
       "      <td>0</td>\n",
       "      <td>0</td>\n",
       "      <td>1</td>\n",
       "    </tr>\n",
       "    <tr>\n",
       "      <th>25.0</th>\n",
       "      <td>0</td>\n",
       "      <td>0</td>\n",
       "      <td>0</td>\n",
       "      <td>0</td>\n",
       "      <td>0</td>\n",
       "      <td>0</td>\n",
       "      <td>0</td>\n",
       "      <td>0</td>\n",
       "      <td>0</td>\n",
       "      <td>2</td>\n",
       "      <td>2</td>\n",
       "    </tr>\n",
       "    <tr>\n",
       "      <th>29.0</th>\n",
       "      <td>0</td>\n",
       "      <td>0</td>\n",
       "      <td>0</td>\n",
       "      <td>0</td>\n",
       "      <td>0</td>\n",
       "      <td>0</td>\n",
       "      <td>0</td>\n",
       "      <td>0</td>\n",
       "      <td>0</td>\n",
       "      <td>116</td>\n",
       "      <td>116</td>\n",
       "    </tr>\n",
       "    <tr>\n",
       "      <th>30.0</th>\n",
       "      <td>0</td>\n",
       "      <td>0</td>\n",
       "      <td>0</td>\n",
       "      <td>0</td>\n",
       "      <td>0</td>\n",
       "      <td>0</td>\n",
       "      <td>0</td>\n",
       "      <td>0</td>\n",
       "      <td>0</td>\n",
       "      <td>3</td>\n",
       "      <td>3</td>\n",
       "    </tr>\n",
       "    <tr>\n",
       "      <th>39.0</th>\n",
       "      <td>0</td>\n",
       "      <td>0</td>\n",
       "      <td>0</td>\n",
       "      <td>0</td>\n",
       "      <td>0</td>\n",
       "      <td>0</td>\n",
       "      <td>0</td>\n",
       "      <td>0</td>\n",
       "      <td>0</td>\n",
       "      <td>1</td>\n",
       "      <td>1</td>\n",
       "    </tr>\n",
       "    <tr>\n",
       "      <th>40.0</th>\n",
       "      <td>0</td>\n",
       "      <td>0</td>\n",
       "      <td>0</td>\n",
       "      <td>0</td>\n",
       "      <td>0</td>\n",
       "      <td>0</td>\n",
       "      <td>0</td>\n",
       "      <td>0</td>\n",
       "      <td>0</td>\n",
       "      <td>1</td>\n",
       "      <td>1</td>\n",
       "    </tr>\n",
       "    <tr>\n",
       "      <th>44.0</th>\n",
       "      <td>0</td>\n",
       "      <td>0</td>\n",
       "      <td>0</td>\n",
       "      <td>0</td>\n",
       "      <td>0</td>\n",
       "      <td>0</td>\n",
       "      <td>0</td>\n",
       "      <td>0</td>\n",
       "      <td>0</td>\n",
       "      <td>1</td>\n",
       "      <td>1</td>\n",
       "    </tr>\n",
       "    <tr>\n",
       "      <th>45.0</th>\n",
       "      <td>0</td>\n",
       "      <td>0</td>\n",
       "      <td>0</td>\n",
       "      <td>0</td>\n",
       "      <td>0</td>\n",
       "      <td>0</td>\n",
       "      <td>0</td>\n",
       "      <td>0</td>\n",
       "      <td>0</td>\n",
       "      <td>2</td>\n",
       "      <td>2</td>\n",
       "    </tr>\n",
       "    <tr>\n",
       "      <th>46.0</th>\n",
       "      <td>0</td>\n",
       "      <td>0</td>\n",
       "      <td>0</td>\n",
       "      <td>0</td>\n",
       "      <td>0</td>\n",
       "      <td>1</td>\n",
       "      <td>0</td>\n",
       "      <td>0</td>\n",
       "      <td>0</td>\n",
       "      <td>0</td>\n",
       "      <td>1</td>\n",
       "    </tr>\n",
       "    <tr>\n",
       "      <th>47.0</th>\n",
       "      <td>0</td>\n",
       "      <td>0</td>\n",
       "      <td>0</td>\n",
       "      <td>0</td>\n",
       "      <td>0</td>\n",
       "      <td>1</td>\n",
       "      <td>0</td>\n",
       "      <td>0</td>\n",
       "      <td>0</td>\n",
       "      <td>10</td>\n",
       "      <td>11</td>\n",
       "    </tr>\n",
       "    <tr>\n",
       "      <th>All</th>\n",
       "      <td>290</td>\n",
       "      <td>8088</td>\n",
       "      <td>1852</td>\n",
       "      <td>2463</td>\n",
       "      <td>24</td>\n",
       "      <td>4088</td>\n",
       "      <td>22249</td>\n",
       "      <td>23613</td>\n",
       "      <td>18</td>\n",
       "      <td>2450</td>\n",
       "      <td>65135</td>\n",
       "    </tr>\n",
       "  </tbody>\n",
       "</table>\n",
       "</div>"
      ],
      "text/plain": [
       "style      Coupe (2 cửa)  Hatchback  Kiểu dáng khác  Minivan (MPV)  Mui trần  \\\n",
       "car_seats                                                                      \n",
       "0.0                    2          4              10              0         0   \n",
       "1.0                   45         39              49              2        11   \n",
       "2.0                   53       2848             411            281         7   \n",
       "3.0                    2         31             990            965         0   \n",
       "4.0                  126         32             125              3         0   \n",
       "5.0                   57       5112             132              6         6   \n",
       "6.0                    0         14              30           1066         0   \n",
       "7.0                    1          3              14             33         0   \n",
       "8.0                    1          0               5              5         0   \n",
       "9.0                    0          0               2              0         0   \n",
       "10.0                   0          0               1              0         0   \n",
       "11.0                   2          5              78             88         0   \n",
       "12.0                   1          0               5             14         0   \n",
       "15.0                   0          0               0              0         0   \n",
       "16.0                   0          0               0              0         0   \n",
       "17.0                   0          0               0              0         0   \n",
       "20.0                   0          0               0              0         0   \n",
       "23.0                   0          0               0              0         0   \n",
       "25.0                   0          0               0              0         0   \n",
       "29.0                   0          0               0              0         0   \n",
       "30.0                   0          0               0              0         0   \n",
       "39.0                   0          0               0              0         0   \n",
       "40.0                   0          0               0              0         0   \n",
       "44.0                   0          0               0              0         0   \n",
       "45.0                   0          0               0              0         0   \n",
       "46.0                   0          0               0              0         0   \n",
       "47.0                   0          0               0              0         0   \n",
       "All                  290       8088            1852           2463        24   \n",
       "\n",
       "style      Pick-up (bán tải)  SUV / Cross over  Sedan  Unknown   Van    All  \n",
       "car_seats                                                                    \n",
       "0.0                        0                24     23        8     4     75  \n",
       "1.0                       16                28    480        2     5    677  \n",
       "2.0                     1555              3067   8721        4   494  17441  \n",
       "3.0                        5              3456     71        1   155   5676  \n",
       "4.0                        1               242    161        0    26    716  \n",
       "5.0                     2492              5521  14090        2   107  27525  \n",
       "6.0                        0               512     39        0   131   1792  \n",
       "7.0                        2              6162      3        0   594   6812  \n",
       "8.0                        0              3198      0        0    70   3279  \n",
       "9.0                        0                 8      0        1    87     98  \n",
       "10.0                       0                 0      1        0    34     36  \n",
       "11.0                       3                17     13        0    80    286  \n",
       "12.0                      11                13     11        0    62    117  \n",
       "15.0                       0                 0      0        0     3      3  \n",
       "16.0                       0                 1      0        0   459    460  \n",
       "17.0                       0                 0      0        0     1      1  \n",
       "20.0                       0                 0      0        0     2      2  \n",
       "23.0                       1                 0      0        0     0      1  \n",
       "25.0                       0                 0      0        0     2      2  \n",
       "29.0                       0                 0      0        0   116    116  \n",
       "30.0                       0                 0      0        0     3      3  \n",
       "39.0                       0                 0      0        0     1      1  \n",
       "40.0                       0                 0      0        0     1      1  \n",
       "44.0                       0                 0      0        0     1      1  \n",
       "45.0                       0                 0      0        0     2      2  \n",
       "46.0                       1                 0      0        0     0      1  \n",
       "47.0                       1                 0      0        0    10     11  \n",
       "All                     4088             22249  23613       18  2450  65135  "
      ]
     },
     "execution_count": 39,
     "metadata": {},
     "output_type": "execute_result"
    }
   ],
   "source": [
    "chi_square_test = pd.crosstab(data.car_seats, data['style'], margins=True)\n",
    "chi_square_test"
   ]
  },
  {
   "cell_type": "code",
   "execution_count": 40,
   "id": "41e91fe1",
   "metadata": {},
   "outputs": [
    {
     "name": "stdout",
     "output_type": "stream",
     "text": [
      "(84301.67019620337, 0.0, 270, array([[3.33921855e-01, 9.31296538e+00, 2.13249405e+00, 2.83603285e+00,\n",
      "        2.76349121e-02, 4.70714670e+00, 2.56187150e+01, 2.71892991e+01,\n",
      "        2.07261841e-02, 2.82106394e+00, 7.50000000e+01],\n",
      "       [3.01420127e+00, 8.40650342e+01, 1.92493130e+01, 2.55999232e+01,\n",
      "        2.49451140e-01, 4.24898442e+01, 2.31251601e+02, 2.45428740e+02,\n",
      "        1.87088355e-01, 2.54648039e+01, 6.77000000e+02],\n",
      "       [7.76524142e+01, 2.16569906e+03, 4.95904383e+02, 6.59509987e+02,\n",
      "        6.42640669e+00, 1.09463127e+03, 5.95754677e+03, 6.32278089e+03,\n",
      "        4.81980502e+00, 6.56029017e+02, 1.74410000e+04],\n",
      "       [2.52712060e+01, 7.04805220e+02, 1.61387150e+02, 2.14630966e+02,\n",
      "        2.09141015e+00, 3.56236862e+02, 1.93882435e+03, 2.05768616e+03,\n",
      "        1.56855761e+00, 2.13498119e+02, 5.67600000e+03],\n",
      "       [3.18784064e+00, 8.89077762e+01, 2.03582099e+01, 2.70746603e+01,\n",
      "        2.63821294e-01, 4.49375605e+01, 2.44573332e+02, 2.59567176e+02,\n",
      "        1.97865971e-01, 2.69317571e+01, 7.16000000e+02],\n",
      "       [1.22549321e+02, 3.41785829e+03, 7.82625317e+02, 1.04082406e+03,\n",
      "        1.01420127e+01, 1.72752284e+03, 9.40206840e+03, 9.97847279e+03,\n",
      "        7.60650956e+00, 1.03533047e+03, 2.75250000e+04],\n",
      "       [7.97850618e+00, 2.22517786e+02, 5.09523912e+01, 6.77622783e+01,\n",
      "        6.60290167e-01, 1.12469425e+02, 6.12116497e+02, 6.49642988e+02,\n",
      "        4.95217625e-01, 6.74046212e+01, 1.79200000e+03],\n",
      "       [3.03290090e+01, 8.45865602e+02, 1.93687326e+02, 2.57587411e+02,\n",
      "        2.50998695e+00, 4.27534444e+02, 2.32686249e+03, 2.46951341e+03,\n",
      "        1.88249021e+00, 2.56227834e+02, 6.81200000e+03],\n",
      "       [1.45990635e+01, 4.07162846e+02, 9.32326399e+01, 1.23991356e+02,\n",
      "        1.20819836e+00, 2.05796454e+02, 1.12005022e+03, 1.18871616e+03,\n",
      "        9.06148768e-01, 1.23336916e+02, 3.27900000e+03],\n",
      "       [4.36324557e-01, 1.21689414e+01, 2.78645889e+00, 3.70574960e+00,\n",
      "        3.61096185e-02, 6.15067168e+00, 3.34751209e+01, 3.55273509e+01,\n",
      "        2.70822139e-02, 3.68619022e+00, 9.80000000e+01],\n",
      "       [1.60282490e-01, 4.47022338e+00, 1.02359714e+00, 1.36129577e+00,\n",
      "        1.32647578e-02, 2.25943041e+00, 1.22969832e+01, 1.30508636e+01,\n",
      "        9.94856836e-03, 1.35411069e+00, 3.60000000e+01],\n",
      "       [1.27335534e+00, 3.55134413e+01, 8.13191065e+00, 1.08147386e+01,\n",
      "        1.05381131e-01, 1.79499194e+01, 9.76926998e+01, 1.03681861e+02,\n",
      "        7.90358486e-02, 1.07576572e+01, 2.86000000e+02],\n",
      "       [5.20918093e-01, 1.45282260e+01, 3.32669072e+00, 4.42421125e+00,\n",
      "        4.31104629e-02, 7.34314884e+00, 3.99651954e+01, 4.24153067e+01,\n",
      "        3.23328472e-02, 4.40085975e+00, 1.17000000e+02],\n",
      "       [1.33568742e-02, 3.72518615e-01, 8.52997620e-02, 1.13441314e-01,\n",
      "        1.10539648e-03, 1.88285868e-01, 1.02474860e+00, 1.08757197e+00,\n",
      "        8.29047363e-04, 1.12842558e-01, 3.00000000e+00],\n",
      "       [2.04805404e+00, 5.71195210e+01, 1.30792968e+01, 1.73943348e+01,\n",
      "        1.69494128e-01, 2.88704997e+01, 1.57128119e+02, 1.66761035e+02,\n",
      "        1.27120596e-01, 1.73025255e+01, 4.60000000e+02],\n",
      "       [4.45229139e-03, 1.24172872e-01, 2.84332540e-02, 3.78137714e-02,\n",
      "        3.68465495e-04, 6.27619559e-02, 3.41582866e-01, 3.62523989e-01,\n",
      "        2.76349121e-04, 3.76141859e-02, 1.00000000e+00],\n",
      "       [8.90458279e-03, 2.48345743e-01, 5.68665080e-02, 7.56275428e-02,\n",
      "        7.36930989e-04, 1.25523912e-01, 6.83165733e-01, 7.25047977e-01,\n",
      "        5.52698242e-04, 7.52283718e-02, 2.00000000e+00],\n",
      "       [4.45229139e-03, 1.24172872e-01, 2.84332540e-02, 3.78137714e-02,\n",
      "        3.68465495e-04, 6.27619559e-02, 3.41582866e-01, 3.62523989e-01,\n",
      "        2.76349121e-04, 3.76141859e-02, 1.00000000e+00],\n",
      "       [8.90458279e-03, 2.48345743e-01, 5.68665080e-02, 7.56275428e-02,\n",
      "        7.36930989e-04, 1.25523912e-01, 6.83165733e-01, 7.25047977e-01,\n",
      "        5.52698242e-04, 7.52283718e-02, 2.00000000e+00],\n",
      "       [5.16465802e-01, 1.44040531e+01, 3.29825747e+00, 4.38639748e+00,\n",
      "        4.27419974e-02, 7.28038689e+00, 3.96236125e+01, 4.20527827e+01,\n",
      "        3.20564980e-02, 4.36324557e+00, 1.16000000e+02],\n",
      "       [1.33568742e-02, 3.72518615e-01, 8.52997620e-02, 1.13441314e-01,\n",
      "        1.10539648e-03, 1.88285868e-01, 1.02474860e+00, 1.08757197e+00,\n",
      "        8.29047363e-04, 1.12842558e-01, 3.00000000e+00],\n",
      "       [4.45229139e-03, 1.24172872e-01, 2.84332540e-02, 3.78137714e-02,\n",
      "        3.68465495e-04, 6.27619559e-02, 3.41582866e-01, 3.62523989e-01,\n",
      "        2.76349121e-04, 3.76141859e-02, 1.00000000e+00],\n",
      "       [4.45229139e-03, 1.24172872e-01, 2.84332540e-02, 3.78137714e-02,\n",
      "        3.68465495e-04, 6.27619559e-02, 3.41582866e-01, 3.62523989e-01,\n",
      "        2.76349121e-04, 3.76141859e-02, 1.00000000e+00],\n",
      "       [4.45229139e-03, 1.24172872e-01, 2.84332540e-02, 3.78137714e-02,\n",
      "        3.68465495e-04, 6.27619559e-02, 3.41582866e-01, 3.62523989e-01,\n",
      "        2.76349121e-04, 3.76141859e-02, 1.00000000e+00],\n",
      "       [8.90458279e-03, 2.48345743e-01, 5.68665080e-02, 7.56275428e-02,\n",
      "        7.36930989e-04, 1.25523912e-01, 6.83165733e-01, 7.25047977e-01,\n",
      "        5.52698242e-04, 7.52283718e-02, 2.00000000e+00],\n",
      "       [4.45229139e-03, 1.24172872e-01, 2.84332540e-02, 3.78137714e-02,\n",
      "        3.68465495e-04, 6.27619559e-02, 3.41582866e-01, 3.62523989e-01,\n",
      "        2.76349121e-04, 3.76141859e-02, 1.00000000e+00],\n",
      "       [4.89752053e-02, 1.36590159e+00, 3.12765794e-01, 4.15951485e-01,\n",
      "        4.05312044e-03, 6.90381515e-01, 3.75741153e+00, 3.98776388e+00,\n",
      "        3.03984033e-03, 4.13756045e-01, 1.10000000e+01],\n",
      "       [2.90000000e+02, 8.08800000e+03, 1.85200000e+03, 2.46300000e+03,\n",
      "        2.40000000e+01, 4.08800000e+03, 2.22490000e+04, 2.36130000e+04,\n",
      "        1.80000000e+01, 2.45000000e+03, 6.51350000e+04]]))\n"
     ]
    }
   ],
   "source": [
    "value = np.array(chi_square_test)\n",
    "print(chi2_contingency(value, correction=False))"
   ]
  },
  {
   "cell_type": "markdown",
   "id": "5e9cce8c",
   "metadata": {},
   "source": [
    "# Style - Model"
   ]
  },
  {
   "cell_type": "code",
   "execution_count": 41,
   "id": "8fbc753e",
   "metadata": {},
   "outputs": [
    {
     "data": {
      "text/html": [
       "<div>\n",
       "<style scoped>\n",
       "    .dataframe tbody tr th:only-of-type {\n",
       "        vertical-align: middle;\n",
       "    }\n",
       "\n",
       "    .dataframe tbody tr th {\n",
       "        vertical-align: top;\n",
       "    }\n",
       "\n",
       "    .dataframe thead th {\n",
       "        text-align: right;\n",
       "    }\n",
       "</style>\n",
       "<table border=\"1\" class=\"dataframe\">\n",
       "  <thead>\n",
       "    <tr style=\"text-align: right;\">\n",
       "      <th>style</th>\n",
       "      <th>Coupe (2 cửa)</th>\n",
       "      <th>Hatchback</th>\n",
       "      <th>Kiểu dáng khác</th>\n",
       "      <th>Minivan (MPV)</th>\n",
       "      <th>Mui trần</th>\n",
       "      <th>Pick-up (bán tải)</th>\n",
       "      <th>SUV / Cross over</th>\n",
       "      <th>Sedan</th>\n",
       "      <th>Unknown</th>\n",
       "      <th>Van</th>\n",
       "      <th>All</th>\n",
       "    </tr>\n",
       "    <tr>\n",
       "      <th>model</th>\n",
       "      <th></th>\n",
       "      <th></th>\n",
       "      <th></th>\n",
       "      <th></th>\n",
       "      <th></th>\n",
       "      <th></th>\n",
       "      <th></th>\n",
       "      <th></th>\n",
       "      <th></th>\n",
       "      <th></th>\n",
       "      <th></th>\n",
       "    </tr>\n",
       "  </thead>\n",
       "  <tbody>\n",
       "    <tr>\n",
       "      <th>1 Series</th>\n",
       "      <td>2</td>\n",
       "      <td>5</td>\n",
       "      <td>0</td>\n",
       "      <td>0</td>\n",
       "      <td>0</td>\n",
       "      <td>0</td>\n",
       "      <td>0</td>\n",
       "      <td>1</td>\n",
       "      <td>0</td>\n",
       "      <td>0</td>\n",
       "      <td>8</td>\n",
       "    </tr>\n",
       "    <tr>\n",
       "      <th>100NX</th>\n",
       "      <td>0</td>\n",
       "      <td>0</td>\n",
       "      <td>0</td>\n",
       "      <td>0</td>\n",
       "      <td>0</td>\n",
       "      <td>1</td>\n",
       "      <td>0</td>\n",
       "      <td>0</td>\n",
       "      <td>0</td>\n",
       "      <td>0</td>\n",
       "      <td>1</td>\n",
       "    </tr>\n",
       "    <tr>\n",
       "      <th>107</th>\n",
       "      <td>0</td>\n",
       "      <td>3</td>\n",
       "      <td>0</td>\n",
       "      <td>0</td>\n",
       "      <td>0</td>\n",
       "      <td>0</td>\n",
       "      <td>0</td>\n",
       "      <td>0</td>\n",
       "      <td>0</td>\n",
       "      <td>0</td>\n",
       "      <td>3</td>\n",
       "    </tr>\n",
       "    <tr>\n",
       "      <th>1200B</th>\n",
       "      <td>0</td>\n",
       "      <td>0</td>\n",
       "      <td>2</td>\n",
       "      <td>0</td>\n",
       "      <td>0</td>\n",
       "      <td>0</td>\n",
       "      <td>0</td>\n",
       "      <td>0</td>\n",
       "      <td>0</td>\n",
       "      <td>0</td>\n",
       "      <td>2</td>\n",
       "    </tr>\n",
       "    <tr>\n",
       "      <th>1240T</th>\n",
       "      <td>0</td>\n",
       "      <td>0</td>\n",
       "      <td>4</td>\n",
       "      <td>0</td>\n",
       "      <td>0</td>\n",
       "      <td>0</td>\n",
       "      <td>0</td>\n",
       "      <td>0</td>\n",
       "      <td>0</td>\n",
       "      <td>0</td>\n",
       "      <td>4</td>\n",
       "    </tr>\n",
       "    <tr>\n",
       "      <th>...</th>\n",
       "      <td>...</td>\n",
       "      <td>...</td>\n",
       "      <td>...</td>\n",
       "      <td>...</td>\n",
       "      <td>...</td>\n",
       "      <td>...</td>\n",
       "      <td>...</td>\n",
       "      <td>...</td>\n",
       "      <td>...</td>\n",
       "      <td>...</td>\n",
       "      <td>...</td>\n",
       "    </tr>\n",
       "    <tr>\n",
       "      <th>Zs</th>\n",
       "      <td>0</td>\n",
       "      <td>0</td>\n",
       "      <td>0</td>\n",
       "      <td>0</td>\n",
       "      <td>0</td>\n",
       "      <td>0</td>\n",
       "      <td>196</td>\n",
       "      <td>0</td>\n",
       "      <td>0</td>\n",
       "      <td>0</td>\n",
       "      <td>196</td>\n",
       "    </tr>\n",
       "    <tr>\n",
       "      <th>i20</th>\n",
       "      <td>0</td>\n",
       "      <td>35</td>\n",
       "      <td>0</td>\n",
       "      <td>0</td>\n",
       "      <td>0</td>\n",
       "      <td>0</td>\n",
       "      <td>20</td>\n",
       "      <td>1</td>\n",
       "      <td>0</td>\n",
       "      <td>0</td>\n",
       "      <td>56</td>\n",
       "    </tr>\n",
       "    <tr>\n",
       "      <th>i3</th>\n",
       "      <td>0</td>\n",
       "      <td>0</td>\n",
       "      <td>0</td>\n",
       "      <td>0</td>\n",
       "      <td>0</td>\n",
       "      <td>0</td>\n",
       "      <td>0</td>\n",
       "      <td>2</td>\n",
       "      <td>0</td>\n",
       "      <td>0</td>\n",
       "      <td>2</td>\n",
       "    </tr>\n",
       "    <tr>\n",
       "      <th>i30</th>\n",
       "      <td>0</td>\n",
       "      <td>19</td>\n",
       "      <td>0</td>\n",
       "      <td>0</td>\n",
       "      <td>0</td>\n",
       "      <td>0</td>\n",
       "      <td>1</td>\n",
       "      <td>1</td>\n",
       "      <td>0</td>\n",
       "      <td>0</td>\n",
       "      <td>21</td>\n",
       "    </tr>\n",
       "    <tr>\n",
       "      <th>All</th>\n",
       "      <td>290</td>\n",
       "      <td>8088</td>\n",
       "      <td>1852</td>\n",
       "      <td>2463</td>\n",
       "      <td>24</td>\n",
       "      <td>4088</td>\n",
       "      <td>22249</td>\n",
       "      <td>23613</td>\n",
       "      <td>18</td>\n",
       "      <td>2450</td>\n",
       "      <td>65135</td>\n",
       "    </tr>\n",
       "  </tbody>\n",
       "</table>\n",
       "<p>709 rows × 11 columns</p>\n",
       "</div>"
      ],
      "text/plain": [
       "style     Coupe (2 cửa)  Hatchback  Kiểu dáng khác  Minivan (MPV)  Mui trần  \\\n",
       "model                                                                         \n",
       "1 Series              2          5               0              0         0   \n",
       "100NX                 0          0               0              0         0   \n",
       "107                   0          3               0              0         0   \n",
       "1200B                 0          0               2              0         0   \n",
       "1240T                 0          0               4              0         0   \n",
       "...                 ...        ...             ...            ...       ...   \n",
       "Zs                    0          0               0              0         0   \n",
       "i20                   0         35               0              0         0   \n",
       "i3                    0          0               0              0         0   \n",
       "i30                   0         19               0              0         0   \n",
       "All                 290       8088            1852           2463        24   \n",
       "\n",
       "style     Pick-up (bán tải)  SUV / Cross over  Sedan  Unknown   Van    All  \n",
       "model                                                                       \n",
       "1 Series                  0                 0      1        0     0      8  \n",
       "100NX                     1                 0      0        0     0      1  \n",
       "107                       0                 0      0        0     0      3  \n",
       "1200B                     0                 0      0        0     0      2  \n",
       "1240T                     0                 0      0        0     0      4  \n",
       "...                     ...               ...    ...      ...   ...    ...  \n",
       "Zs                        0               196      0        0     0    196  \n",
       "i20                       0                20      1        0     0     56  \n",
       "i3                        0                 0      2        0     0      2  \n",
       "i30                       0                 1      1        0     0     21  \n",
       "All                    4088             22249  23613       18  2450  65135  \n",
       "\n",
       "[709 rows x 11 columns]"
      ]
     },
     "execution_count": 41,
     "metadata": {},
     "output_type": "execute_result"
    }
   ],
   "source": [
    "chi_square_test = pd.crosstab(data['model'], data['style'], margins=True)\n",
    "chi_square_test"
   ]
  },
  {
   "cell_type": "code",
   "execution_count": 42,
   "id": "50706ce1",
   "metadata": {},
   "outputs": [
    {
     "name": "stdout",
     "output_type": "stream",
     "text": [
      "(347388.93827383866, 0.0, 7080, array([[3.56183312e-02, 9.93382974e-01, 2.27466032e-01, ...,\n",
      "        2.21079297e-03, 3.00913487e-01, 8.00000000e+00],\n",
      "       [4.45229139e-03, 1.24172872e-01, 2.84332540e-02, ...,\n",
      "        2.76349121e-04, 3.76141859e-02, 1.00000000e+00],\n",
      "       [1.33568742e-02, 3.72518615e-01, 8.52997620e-02, ...,\n",
      "        8.29047363e-04, 1.12842558e-01, 3.00000000e+00],\n",
      "       ...,\n",
      "       [8.90458279e-03, 2.48345743e-01, 5.68665080e-02, ...,\n",
      "        5.52698242e-04, 7.52283718e-02, 2.00000000e+00],\n",
      "       [9.34981193e-02, 2.60763031e+00, 5.97098334e-01, ...,\n",
      "        5.80333154e-03, 7.89897904e-01, 2.10000000e+01],\n",
      "       [2.90000000e+02, 8.08800000e+03, 1.85200000e+03, ...,\n",
      "        1.80000000e+01, 2.45000000e+03, 6.51350000e+04]]))\n"
     ]
    }
   ],
   "source": [
    "value = np.array(chi_square_test)\n",
    "print(chi2_contingency(value, correction=False))"
   ]
  },
  {
   "cell_type": "markdown",
   "id": "7024711f",
   "metadata": {},
   "source": [
    "# gear - fuel"
   ]
  },
  {
   "cell_type": "code",
   "execution_count": 50,
   "id": "ca39e755",
   "metadata": {},
   "outputs": [
    {
     "data": {
      "text/html": [
       "<div>\n",
       "<style scoped>\n",
       "    .dataframe tbody tr th:only-of-type {\n",
       "        vertical-align: middle;\n",
       "    }\n",
       "\n",
       "    .dataframe tbody tr th {\n",
       "        vertical-align: top;\n",
       "    }\n",
       "\n",
       "    .dataframe thead th {\n",
       "        text-align: right;\n",
       "    }\n",
       "</style>\n",
       "<table border=\"1\" class=\"dataframe\">\n",
       "  <thead>\n",
       "    <tr style=\"text-align: right;\">\n",
       "      <th>fuel</th>\n",
       "      <th>Dầu</th>\n",
       "      <th>Unknown</th>\n",
       "      <th>Xăng</th>\n",
       "      <th>Động cơ Hybrid</th>\n",
       "      <th>All</th>\n",
       "    </tr>\n",
       "    <tr>\n",
       "      <th>gear</th>\n",
       "      <th></th>\n",
       "      <th></th>\n",
       "      <th></th>\n",
       "      <th></th>\n",
       "      <th></th>\n",
       "    </tr>\n",
       "  </thead>\n",
       "  <tbody>\n",
       "    <tr>\n",
       "      <th>Bán tự động</th>\n",
       "      <td>76</td>\n",
       "      <td>0</td>\n",
       "      <td>234</td>\n",
       "      <td>2</td>\n",
       "      <td>312</td>\n",
       "    </tr>\n",
       "    <tr>\n",
       "      <th>Số sàn</th>\n",
       "      <td>4702</td>\n",
       "      <td>4</td>\n",
       "      <td>14892</td>\n",
       "      <td>6</td>\n",
       "      <td>19604</td>\n",
       "    </tr>\n",
       "    <tr>\n",
       "      <th>Tự động</th>\n",
       "      <td>6119</td>\n",
       "      <td>8</td>\n",
       "      <td>38793</td>\n",
       "      <td>271</td>\n",
       "      <td>45191</td>\n",
       "    </tr>\n",
       "    <tr>\n",
       "      <th>Unknown</th>\n",
       "      <td>5</td>\n",
       "      <td>0</td>\n",
       "      <td>22</td>\n",
       "      <td>1</td>\n",
       "      <td>28</td>\n",
       "    </tr>\n",
       "    <tr>\n",
       "      <th>All</th>\n",
       "      <td>10902</td>\n",
       "      <td>12</td>\n",
       "      <td>53941</td>\n",
       "      <td>280</td>\n",
       "      <td>65135</td>\n",
       "    </tr>\n",
       "  </tbody>\n",
       "</table>\n",
       "</div>"
      ],
      "text/plain": [
       "fuel           Dầu  Unknown   Xăng  Động cơ Hybrid    All\n",
       "gear                                                     \n",
       "Bán tự động     76        0    234               2    312\n",
       "Số sàn        4702        4  14892               6  19604\n",
       "Tự động       6119        8  38793             271  45191\n",
       "Unknown          5        0     22               1     28\n",
       "All          10902       12  53941             280  65135"
      ]
     },
     "execution_count": 50,
     "metadata": {},
     "output_type": "execute_result"
    }
   ],
   "source": [
    "chi_square_test = pd.crosstab(data['gear'], data['fuel'], margins=True)\n",
    "chi_square_test"
   ]
  },
  {
   "cell_type": "code",
   "execution_count": 51,
   "id": "2e4536f8",
   "metadata": {},
   "outputs": [
    {
     "name": "stdout",
     "output_type": "stream",
     "text": [
      "(1175.4009844695302, 2.829931555264351e-240, 16, array([[5.22211407e+01, 5.74806172e-02, 2.58380164e+02, 1.34121440e+00,\n",
      "        3.12000000e+02],\n",
      "       [3.28122834e+03, 3.61169878e+00, 1.62348870e+04, 8.42729715e+01,\n",
      "        1.96040000e+04],\n",
      "       [7.56386401e+03, 8.32566209e+00, 3.74245449e+04, 1.94265449e+02,\n",
      "        4.51910000e+04],\n",
      "       [4.68651263e+00, 5.15851693e-03, 2.31879635e+01, 1.20365395e-01,\n",
      "        2.80000000e+01],\n",
      "       [1.09020000e+04, 1.20000000e+01, 5.39410000e+04, 2.80000000e+02,\n",
      "        6.51350000e+04]]))\n"
     ]
    }
   ],
   "source": [
    "value = np.array(chi_square_test)\n",
    "print(chi2_contingency(value, correction=False))"
   ]
  },
  {
   "cell_type": "markdown",
   "id": "cf106b0c",
   "metadata": {},
   "source": [
    "# Status - gear"
   ]
  },
  {
   "cell_type": "code",
   "execution_count": 52,
   "id": "d9b37d99",
   "metadata": {},
   "outputs": [
    {
     "data": {
      "text/html": [
       "<div>\n",
       "<style scoped>\n",
       "    .dataframe tbody tr th:only-of-type {\n",
       "        vertical-align: middle;\n",
       "    }\n",
       "\n",
       "    .dataframe tbody tr th {\n",
       "        vertical-align: top;\n",
       "    }\n",
       "\n",
       "    .dataframe thead th {\n",
       "        text-align: right;\n",
       "    }\n",
       "</style>\n",
       "<table border=\"1\" class=\"dataframe\">\n",
       "  <thead>\n",
       "    <tr style=\"text-align: right;\">\n",
       "      <th>status</th>\n",
       "      <th>Mới</th>\n",
       "      <th>Đã sử dụng</th>\n",
       "      <th>All</th>\n",
       "    </tr>\n",
       "    <tr>\n",
       "      <th>gear</th>\n",
       "      <th></th>\n",
       "      <th></th>\n",
       "      <th></th>\n",
       "    </tr>\n",
       "  </thead>\n",
       "  <tbody>\n",
       "    <tr>\n",
       "      <th>Bán tự động</th>\n",
       "      <td>128</td>\n",
       "      <td>184</td>\n",
       "      <td>312</td>\n",
       "    </tr>\n",
       "    <tr>\n",
       "      <th>Số sàn</th>\n",
       "      <td>1751</td>\n",
       "      <td>17853</td>\n",
       "      <td>19604</td>\n",
       "    </tr>\n",
       "    <tr>\n",
       "      <th>Tự động</th>\n",
       "      <td>14311</td>\n",
       "      <td>30880</td>\n",
       "      <td>45191</td>\n",
       "    </tr>\n",
       "    <tr>\n",
       "      <th>Unknown</th>\n",
       "      <td>6</td>\n",
       "      <td>22</td>\n",
       "      <td>28</td>\n",
       "    </tr>\n",
       "    <tr>\n",
       "      <th>All</th>\n",
       "      <td>16196</td>\n",
       "      <td>48939</td>\n",
       "      <td>65135</td>\n",
       "    </tr>\n",
       "  </tbody>\n",
       "</table>\n",
       "</div>"
      ],
      "text/plain": [
       "status         Mới  Đã sử dụng    All\n",
       "gear                                 \n",
       "Bán tự động    128         184    312\n",
       "Số sàn        1751       17853  19604\n",
       "Tự động      14311       30880  45191\n",
       "Unknown          6          22     28\n",
       "All          16196       48939  65135"
      ]
     },
     "execution_count": 52,
     "metadata": {},
     "output_type": "execute_result"
    }
   ],
   "source": [
    "chi_square_test = pd.crosstab(data['gear'], data['status'], margins=True)\n",
    "chi_square_test"
   ]
  },
  {
   "cell_type": "code",
   "execution_count": 53,
   "id": "730a7918",
   "metadata": {},
   "outputs": [
    {
     "name": "stdout",
     "output_type": "stream",
     "text": [
      "(3827.091653093064, 0.0, 8, array([[7.75796730e+01, 2.34420327e+02, 3.12000000e+02],\n",
      "       [4.87458945e+03, 1.47294105e+04, 1.96040000e+04],\n",
      "       [1.12368686e+04, 3.39541314e+04, 4.51910000e+04],\n",
      "       [6.96227834e+00, 2.10377217e+01, 2.80000000e+01],\n",
      "       [1.61960000e+04, 4.89390000e+04, 6.51350000e+04]]))\n"
     ]
    }
   ],
   "source": [
    "value = np.array(chi_square_test)\n",
    "print(chi2_contingency(value, correction=False))\n"
   ]
  }
 ],
 "metadata": {
  "interpreter": {
   "hash": "d675edbc71300ac13430c5dba271d75813cc81f9bcac0706c4e52014fb01d332"
  },
  "kernelspec": {
   "display_name": "Python 3.9.7 64-bit ('base': conda)",
   "language": "python",
   "name": "python3"
  },
  "language_info": {
   "codemirror_mode": {
    "name": "ipython",
    "version": 3
   },
   "file_extension": ".py",
   "mimetype": "text/x-python",
   "name": "python",
   "nbconvert_exporter": "python",
   "pygments_lexer": "ipython3",
   "version": "3.9.7"
  }
 },
 "nbformat": 4,
 "nbformat_minor": 5
}
