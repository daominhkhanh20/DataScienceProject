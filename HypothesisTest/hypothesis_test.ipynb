{
 "cells": [
  {
   "cell_type": "code",
   "execution_count": 1,
   "metadata": {},
   "outputs": [],
   "source": [
    "import warnings\n",
    "warnings.filterwarnings('ignore')\n",
    "\n",
    "import numpy as np\n",
    "import pandas as pd\n",
    "import seaborn as sns\n",
    "import matplotlib.pyplot as plt\n",
    "from scipy import stats        \n",
    "import statistics"
   ]
  },
  {
   "cell_type": "code",
   "execution_count": 6,
   "metadata": {},
   "outputs": [],
   "source": [
    "data = pd.read_csv('../Preprocess/Preprocessed_data.csv')\n"
   ]
  },
  {
   "cell_type": "markdown",
   "metadata": {},
   "source": [
    "# Hypothesis for fuel of car"
   ]
  },
  {
   "cell_type": "code",
   "execution_count": 10,
   "metadata": {},
   "outputs": [
    {
     "data": {
      "text/plain": [
       "array(['Xăng', 'Dầu', 'Động cơ Hybrid', 'Unknown'], dtype=object)"
      ]
     },
     "execution_count": 10,
     "metadata": {},
     "output_type": "execute_result"
    }
   ],
   "source": [
    "data.fuel.unique()"
   ]
  },
  {
   "cell_type": "code",
   "execution_count": 13,
   "metadata": {},
   "outputs": [],
   "source": [
    "fuel_Gas = data[data['fuel']=='Xăng']\n",
    "fuel_Oil = data[data['fuel']=='Dầu']\n",
    "fuel_Hybrid = data[data['fuel']=='Động cơ Hybrid']"
   ]
  },
  {
   "cell_type": "code",
   "execution_count": 15,
   "metadata": {},
   "outputs": [
    {
     "data": {
      "text/plain": [
       "<AxesSubplot:>"
      ]
     },
     "execution_count": 15,
     "metadata": {},
     "output_type": "execute_result"
    },
    {
     "data": {
      "image/png": "[encoded data removed]",
      "text/plain": [
       "<Figure size 432x288 with 1 Axes>"
      ]
     },
     "metadata": {
      "needs_background": "light"
     },
     "output_type": "display_data"
    }
   ],
   "source": [
    "data.fuel.value_counts().plot(kind='bar')"
   ]
  },
  {
   "cell_type": "code",
   "execution_count": 18,
   "metadata": {},
   "outputs": [],
   "source": [
    "price_gas = fuel_Gas['car_price']\n",
    "price_oil = fuel_Oil['car_price']\n",
    "price_hybrid = fuel_Hybrid['car_price']"
   ]
  },
  {
   "cell_type": "code",
   "execution_count": 67,
   "metadata": {},
   "outputs": [
    {
     "name": "stdout",
     "output_type": "stream",
     "text": [
      "pvalue for gas distribution:  0.0\n",
      "pvalue for oil distribution:  0.0\n",
      "pvalue for hybrid distribution:  6.115786742280718e-18\n"
     ]
    }
   ],
   "source": [
    "### Nếu pValue < 0.05 ==> phản bác null hypothesis ###\n",
    "gas_dist = stats.shapiro(price_gas)\n",
    "oil_dist = stats.shapiro(price_oil)\n",
    "hybrid_dist = stats.shapiro(price_hybrid)\n",
    "print('pvalue for gas distribution: ', gas_dist[1])\n",
    "print('pvalue for oil distribution: ', oil_dist[1])\n",
    "print('pvalue for hybrid distribution: ', hybrid_dist[1])"
   ]
  },
  {
   "cell_type": "markdown",
   "metadata": {},
   "source": [
    "Distribution of Gas and Oil is not normal"
   ]
  },
  {
   "cell_type": "code",
   "execution_count": 62,
   "metadata": {},
   "outputs": [
    {
     "data": {
      "image/png": "[encoded data removed]",
      "text/plain": [
       "<Figure size 720x360 with 3 Axes>"
      ]
     },
     "metadata": {
      "needs_background": "light"
     },
     "output_type": "display_data"
    },
    {
     "name": "stdout",
     "output_type": "stream",
     "text": [
      "Here we clearly see that both the variables do not follow a normal distribution\n"
     ]
    }
   ],
   "source": [
    "fig, ax = plt.subplots(nrows=1, ncols=3, figsize=(10,5))\n",
    "\n",
    "ax[0].hist(x=price_gas, bins=15, color = 'g')\n",
    "ax[0].title.set_text('Price for Gas Distribution')\n",
    "\n",
    "ax[1].hist(x=price_oil, bins=15, color = 'grey')\n",
    "ax[1].title.set_text('Price for Oil Distribution')\n",
    "\n",
    "ax[2].hist(x=price_hybrid, bins=15, color = 'red')\n",
    "ax[2].title.set_text('Price for Hybrid Distribution')\n",
    "\n",
    "plt.show()\n",
    "\n",
    "print('Here we clearly see that both the variables do not follow a normal distribution')"
   ]
  },
  {
   "cell_type": "code",
   "execution_count": 63,
   "metadata": {},
   "outputs": [],
   "source": [
    "def comparePrice(itemA,itemB):\n",
    "    priceA,nameA = itemA\n",
    "    priceB,nameB = itemB\n",
    "    different = stats.mannwhitneyu(priceA, priceB  , alternative='two-sided')\n",
    "    bowl_lt_cup = stats.mannwhitneyu(priceA, priceB , alternative='less')\n",
    "    bowl_gt_cup = stats.mannwhitneyu(priceA, priceB , alternative='greater')\n",
    "\n",
    "    print(different[1])\n",
    "    print(bowl_lt_cup[1])\n",
    "    print(bowl_gt_cup[1])\n",
    "\n",
    "    if different[1] < 0.05:\n",
    "        print(f'Price are statistically not equal for {nameA} and {nameB} at confidence level 0.05')\n",
    "\n",
    "    if bowl_lt_cup[1] < 0.05:\n",
    "        print(f'{nameA} statistically has less price than {nameB} at confidence level 0.05')\n",
    "\n",
    "    if bowl_gt_cup[1] < 0.05:\n",
    "        print(f'{nameA} statistically has more price than {nameB} at confidence level 0.05')"
   ]
  },
  {
   "cell_type": "code",
   "execution_count": 64,
   "metadata": {},
   "outputs": [
    {
     "name": "stdout",
     "output_type": "stream",
     "text": [
      "1.7205011067516242e-173\n",
      "1.0\n",
      "8.602505533758121e-174\n",
      "Price are statistically not equal for Oil and Gas at confidence level 0.05\n",
      "Oil statistically has more price than Gas at confidence level 0.05\n"
     ]
    }
   ],
   "source": [
    "listFuel = [[price_oil,'Oil'],[price_gas,'Gas'],[price_hybrid,'Hybrid']]\n",
    "comparePrice(listFuel[0],listFuel[1])"
   ]
  },
  {
   "cell_type": "code",
   "execution_count": 65,
   "metadata": {},
   "outputs": [
    {
     "name": "stdout",
     "output_type": "stream",
     "text": [
      "3.5240286151051454e-84\n",
      "1.7620143075525727e-84\n",
      "1.0\n",
      "Price are statistically not equal for Oil and Hybrid at confidence level 0.05\n",
      "Oil statistically has less price than Hybrid at confidence level 0.05\n"
     ]
    }
   ],
   "source": [
    "comparePrice(listFuel[0],listFuel[2])"
   ]
  },
  {
   "cell_type": "code",
   "execution_count": 66,
   "metadata": {},
   "outputs": [
    {
     "name": "stdout",
     "output_type": "stream",
     "text": [
      "5.965052574009576e-90\n",
      "2.982526287004788e-90\n",
      "1.0\n",
      "Price are statistically not equal for Gas and Hybrid at confidence level 0.05\n",
      "Gas statistically has less price than Hybrid at confidence level 0.05\n"
     ]
    }
   ],
   "source": [
    "comparePrice(listFuel[1],listFuel[2])"
   ]
  },
  {
   "cell_type": "markdown",
   "metadata": {},
   "source": [
    "# Hypothesis for gear of car"
   ]
  },
  {
   "cell_type": "code",
   "execution_count": 36,
   "metadata": {},
   "outputs": [
    {
     "data": {
      "text/plain": [
       "array(['Tự động', 'Bán tự động', 'Số sàn', 'Unknown'], dtype=object)"
      ]
     },
     "execution_count": 36,
     "metadata": {},
     "output_type": "execute_result"
    }
   ],
   "source": [
    "data.gear.unique()"
   ]
  },
  {
   "cell_type": "code",
   "execution_count": 38,
   "metadata": {},
   "outputs": [],
   "source": [
    "gear_auto = data[data['gear']=='Tự động']\n",
    "gear_semi_auto = data[data['gear']=='Bán tự động']\n",
    "gear_floor = data[data['gear']=='Số sàn']\n",
    "\n",
    "gear_auto_price = gear_auto['car_price']\n",
    "gear_sAuto_price = gear_semi_auto['car_price']\n",
    "gear_floor_price = gear_floor['car_price']"
   ]
  },
  {
   "cell_type": "code",
   "execution_count": 39,
   "metadata": {},
   "outputs": [
    {
     "name": "stdout",
     "output_type": "stream",
     "text": [
      "pvalue for gear auto distribution:  0.0\n",
      "pvalue for semi auto distribution:  2.654692927917373e-28\n",
      "pvalue for transmission car car distribution:  0.0\n"
     ]
    }
   ],
   "source": [
    "auto_dist = stats.shapiro(gear_auto_price)\n",
    "sAuto_dist = stats.shapiro(gear_sAuto_price)\n",
    "floor_dist = stats.shapiro(gear_floor_price)\n",
    "print('pvalue for gear auto distribution: ', auto_dist[1])\n",
    "print('pvalue for semi auto distribution: ', sAuto_dist[1])\n",
    "print('pvalue for transmission car car distribution: ', floor_dist[1])"
   ]
  },
  {
   "cell_type": "code",
   "execution_count": 40,
   "metadata": {},
   "outputs": [
    {
     "data": {
      "image/png": "[encoded data removed]",
      "text/plain": [
       "<Figure size 720x360 with 3 Axes>"
      ]
     },
     "metadata": {
      "needs_background": "light"
     },
     "output_type": "display_data"
    },
    {
     "name": "stdout",
     "output_type": "stream",
     "text": [
      "Here we clearly see that both the variables do not follow a normal distribution\n"
     ]
    }
   ],
   "source": [
    "fig, ax = plt.subplots(nrows=1, ncols=3, figsize=(10,5))\n",
    "\n",
    "ax[0].hist(x=gear_auto_price, bins=15, color = 'g')\n",
    "ax[0].title.set_text('Price for Bowl Distribution')\n",
    "\n",
    "ax[1].hist(x=gear_sAuto_price, bins=15, color = 'grey')\n",
    "ax[1].title.set_text('Price for Cup Distribution')\n",
    "\n",
    "ax[2].hist(x=gear_floor_price, bins=15, color = 'red')\n",
    "ax[2].title.set_text('Price for Cup Distribution')\n",
    "\n",
    "plt.show()\n",
    "\n",
    "print('Here we clearly see that both the variables do not follow a normal distribution')"
   ]
  },
  {
   "cell_type": "code",
   "execution_count": 41,
   "metadata": {},
   "outputs": [
    {
     "name": "stdout",
     "output_type": "stream",
     "text": [
      "3.203854502628671e-07\n",
      "0.9999998398109425\n",
      "1.6019272513143354e-07\n",
      "Price are statistically not equal for Auto Gear and Semi Auto at confidence level 0.05\n",
      "Auto Gear statistically has more price than Semi Auto at confidence level 0.05\n"
     ]
    }
   ],
   "source": [
    "listGear = [[gear_auto_price,'Auto Gear'],[gear_sAuto_price,'Semi Auto'],[gear_floor_price,'Floor Gear']]\n",
    "comparePrice(listGear[0],listGear[1])"
   ]
  },
  {
   "cell_type": "code",
   "execution_count": 42,
   "metadata": {},
   "outputs": [
    {
     "name": "stdout",
     "output_type": "stream",
     "text": [
      "0.0\n",
      "1.0\n",
      "0.0\n",
      "Price are statistically not equal for Auto Gear and Floor Gear at confidence level 0.05\n",
      "Auto Gear statistically has more price than Floor Gear at confidence level 0.05\n"
     ]
    }
   ],
   "source": [
    "comparePrice(listGear[0],listGear[2])"
   ]
  },
  {
   "cell_type": "code",
   "execution_count": 43,
   "metadata": {},
   "outputs": [
    {
     "name": "stdout",
     "output_type": "stream",
     "text": [
      "1.4173996055967718e-69\n",
      "1.0\n",
      "7.086998027983859e-70\n",
      "Price are statistically not equal for Semi Auto and Floor Gear at confidence level 0.05\n",
      "Semi Auto statistically has more price than Floor Gear at confidence level 0.05\n"
     ]
    }
   ],
   "source": [
    "comparePrice(listGear[1],listGear[2])"
   ]
  },
  {
   "cell_type": "markdown",
   "metadata": {},
   "source": [
    "# Hypothesis for kind of city"
   ]
  },
  {
   "cell_type": "code",
   "execution_count": 70,
   "metadata": {},
   "outputs": [
    {
     "data": {
      "text/plain": [
       "Hà Nội            20206\n",
       "Unknown           14360\n",
       "Tp Hồ Chí Minh    13815\n",
       "Bình Dương         1830\n",
       "Hải Phòng          1271\n",
       "                  ...  \n",
       "Cà Mau               25\n",
       "Yên Bái               8\n",
       "Bắc Kạn               7\n",
       "Cao Bằng              5\n",
       "Lai Châu              2\n",
       "Name: region_name, Length: 64, dtype: int64"
      ]
     },
     "execution_count": 70,
     "metadata": {},
     "output_type": "execute_result"
    }
   ],
   "source": [
    "data.region_name.value_counts()"
   ]
  },
  {
   "cell_type": "code",
   "execution_count": 71,
   "metadata": {},
   "outputs": [],
   "source": [
    "bigCity = data[(data['region_name'] == 'Hà Nội') | (data['region_name'] == 'Tp Hồ Chí Minh')]"
   ]
  },
  {
   "cell_type": "code",
   "execution_count": 72,
   "metadata": {},
   "outputs": [],
   "source": [
    "otherCity = data[(data['region_name'] !='Hà Nội') & (data['region_name'] !='Tp Hồ Chí Minh' )]"
   ]
  },
  {
   "cell_type": "code",
   "execution_count": 73,
   "metadata": {},
   "outputs": [],
   "source": [
    "bigCity_Price = bigCity['car_price']\n",
    "otherCity_Price = otherCity['car_price']"
   ]
  },
  {
   "cell_type": "code",
   "execution_count": 74,
   "metadata": {},
   "outputs": [
    {
     "name": "stdout",
     "output_type": "stream",
     "text": [
      "pvalue for Big City distribution:  0.0\n",
      "pvalue for Other City distribution:  0.0\n"
     ]
    }
   ],
   "source": [
    "bigCity_dist = stats.shapiro(bigCity_Price)\n",
    "otherCity_dist = stats.shapiro(otherCity_Price)\n",
    "print('pvalue for Big City distribution: ', bigCity_dist[1])\n",
    "print('pvalue for Other City distribution: ', otherCity_dist[1])"
   ]
  },
  {
   "cell_type": "code",
   "execution_count": 75,
   "metadata": {},
   "outputs": [
    {
     "data": {
      "image/png": "[encoded data removed]",
      "text/plain": [
       "<Figure size 720x360 with 2 Axes>"
      ]
     },
     "metadata": {
      "needs_background": "light"
     },
     "output_type": "display_data"
    },
    {
     "name": "stdout",
     "output_type": "stream",
     "text": [
      "Here we clearly see that both the variables do not follow a normal distribution\n"
     ]
    }
   ],
   "source": [
    "fig, ax = plt.subplots(nrows=1, ncols=2, figsize=(10,5))\n",
    "\n",
    "ax[0].hist(x=bigCity_Price, bins=15, color = 'g')\n",
    "ax[0].title.set_text('Price for Big City Distribution')\n",
    "\n",
    "ax[1].hist(x=otherCity_Price, bins=15, color = 'grey')\n",
    "ax[1].title.set_text('Price for Others City Distribution')\n",
    "plt.show()\n",
    "\n",
    "print('Here we clearly see that both the variables do not follow a normal distribution')"
   ]
  },
  {
   "cell_type": "code",
   "execution_count": 76,
   "metadata": {},
   "outputs": [
    {
     "name": "stdout",
     "output_type": "stream",
     "text": [
      "0.0\n",
      "1.0\n",
      "0.0\n",
      "Price are statistically not equal for Big city price and Others city price at confidence level 0.05\n",
      "Big city price statistically has more price than Others city price at confidence level 0.05\n"
     ]
    }
   ],
   "source": [
    "listCity = [[bigCity_Price,'Big city price'],[otherCity_Price,'Others city price']]\n",
    "comparePrice(listCity[0],listCity[1])"
   ]
  },
  {
   "cell_type": "code",
   "execution_count": null,
   "metadata": {},
   "outputs": [],
   "source": []
  }
 ],
 "metadata": {
  "interpreter": {
   "hash": "09ea6078d3926260138e37617d873d397e3b4c412a3c5b73ece87a930514af01"
  },
  "kernelspec": {
   "display_name": "Python 3.9.7 64-bit ('base': conda)",
   "language": "python",
   "name": "python3"
  },
  "language_info": {
   "codemirror_mode": {
    "name": "ipython",
    "version": 3
   },
   "file_extension": ".py",
   "mimetype": "text/x-python",
   "name": "python",
   "nbconvert_exporter": "python",
   "pygments_lexer": "ipython3",
   "version": "3.9.7"
  },
  "orig_nbformat": 4
 },
 "nbformat": 4,
 "nbformat_minor": 2
}
