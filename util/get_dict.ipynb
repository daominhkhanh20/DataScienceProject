{
 "cells": [
  {
   "cell_type": "code",
   "execution_count": 50,
   "id": "a6c1d71b",
   "metadata": {},
   "outputs": [],
   "source": [
    "import pandas as pd\n",
    "import numpy as np"
   ]
  },
  {
   "cell_type": "code",
   "execution_count": 51,
   "id": "a2d7c8a7",
   "metadata": {},
   "outputs": [],
   "source": [
    "dataRaw = pd.read_json('../CrawlData/chotot.json')"
   ]
  },
  {
   "cell_type": "code",
   "execution_count": 52,
   "id": "bc8ea064",
   "metadata": {
    "scrolled": true
   },
   "outputs": [
    {
     "name": "stderr",
     "output_type": "stream",
     "text": [
      "F:\\AnacondaPackage\\lib\\site-packages\\IPython\\core\\interactiveshell.py:3444: DtypeWarning: Columns (55,56) have mixed types.Specify dtype option on import or set low_memory=False.\n",
      "  exec(code_obj, self.user_global_ns, self.user_ns)\n"
     ]
    }
   ],
   "source": [
    "data = pd.read_csv('../CrawlData/chotot_api.csv')"
   ]
  },
  {
   "cell_type": "code",
   "execution_count": 53,
   "id": "4fd250f8",
   "metadata": {},
   "outputs": [],
   "source": [
    "res = pd.merge(dataRaw, data, left_on='description', right_on='body')"
   ]
  },
  {
   "cell_type": "code",
   "execution_count": 54,
   "id": "b1966aed",
   "metadata": {},
   "outputs": [
    {
     "data": {
      "text/plain": [
       "Index(['url', 'title', 'price_x', 'description', 'seller', 'url_image',\n",
       "       'brand_name', 'car_model', 'year_of_manufacture', 'km_number', 'status',\n",
       "       'gear', 'fuel_x', 'origin', 'style', 'number_seat', 'ad_id', 'list_id',\n",
       "       'list_time', 'date', 'account_id', 'account_oid', 'account_name',\n",
       "       'subject', 'body', 'category', 'category_name', 'area', 'area_name',\n",
       "       'region', 'region_name', 'company_ad', 'condition_ad', 'type',\n",
       "       'price_y', 'price_string', 'image', 'webp_image', 'videos',\n",
       "       'number_of_images', 'mfdate', 'avatar', 'region_v2', 'area_v2', 'ward',\n",
       "       'ward_name', 'carmodel', 'carbrand', 'carmodel_name', 'carseats',\n",
       "       'condition_ad_name', 'mileage', 'mileage_v2', 'gearbox',\n",
       "       'service_sendvideo', 'contain_videos', 'phone', 'fuel_y', 'carcolor',\n",
       "       'carorigin', 'cartype', 'owner', 'protection_entitlement', 'params',\n",
       "       'shop_alias', 'shop', 'can_deposit', 'escrow_deposit_min_amount',\n",
       "       'escrow_deposit_max_amount', 'escrow_deposit_ship_days', 'has_video',\n",
       "       'ad_features', 'reviewer_image'],\n",
       "      dtype='object')"
      ]
     },
     "execution_count": 54,
     "metadata": {},
     "output_type": "execute_result"
    }
   ],
   "source": [
    "res.columns"
   ]
  },
  {
   "cell_type": "code",
   "execution_count": 55,
   "id": "795ad175",
   "metadata": {},
   "outputs": [],
   "source": [
    "# res.fillna(-1,inplace=True)"
   ]
  },
  {
   "cell_type": "code",
   "execution_count": 56,
   "id": "953312bb",
   "metadata": {},
   "outputs": [],
   "source": [
    "def to_dict(colA,colB):\n",
    "    tmp = res[[colA,colB]]\n",
    "    uniqueA = res[colA].unique()\n",
    "    df = []\n",
    "    for key in uniqueA:\n",
    "        result = tmp[tmp[colA] == key]\n",
    "        if result.shape[0] > 0:\n",
    "            value = result.iloc[0,1]\n",
    "        else:\n",
    "            continue\n",
    "        df.append({colA:key,colB:value})\n",
    "    df = pd.DataFrame(df)\n",
    "    df.to_csv('./Data/{}.csv'.format(colB))\n",
    "    return df"
   ]
  },
  {
   "cell_type": "code",
   "execution_count": 57,
   "id": "2082fc07",
   "metadata": {},
   "outputs": [
    {
     "data": {
      "text/html": [
       "<div>\n",
       "<style scoped>\n",
       "    .dataframe tbody tr th:only-of-type {\n",
       "        vertical-align: middle;\n",
       "    }\n",
       "\n",
       "    .dataframe tbody tr th {\n",
       "        vertical-align: top;\n",
       "    }\n",
       "\n",
       "    .dataframe thead th {\n",
       "        text-align: right;\n",
       "    }\n",
       "</style>\n",
       "<table border=\"1\" class=\"dataframe\">\n",
       "  <thead>\n",
       "    <tr style=\"text-align: right;\">\n",
       "      <th></th>\n",
       "      <th>carmodel</th>\n",
       "      <th>car_model</th>\n",
       "    </tr>\n",
       "  </thead>\n",
       "  <tbody>\n",
       "    <tr>\n",
       "      <th>0</th>\n",
       "      <td>637.0</td>\n",
       "      <td>MDX</td>\n",
       "    </tr>\n",
       "    <tr>\n",
       "      <th>1</th>\n",
       "      <td>71.0</td>\n",
       "      <td>Innova</td>\n",
       "    </tr>\n",
       "    <tr>\n",
       "      <th>2</th>\n",
       "      <td>448.0</td>\n",
       "      <td>GLC</td>\n",
       "    </tr>\n",
       "    <tr>\n",
       "      <th>3</th>\n",
       "      <td>323.0</td>\n",
       "      <td>7 Series</td>\n",
       "    </tr>\n",
       "    <tr>\n",
       "      <th>4</th>\n",
       "      <td>101.0</td>\n",
       "      <td>Vios</td>\n",
       "    </tr>\n",
       "    <tr>\n",
       "      <th>...</th>\n",
       "      <td>...</td>\n",
       "      <td>...</td>\n",
       "    </tr>\n",
       "    <tr>\n",
       "      <th>501</th>\n",
       "      <td>578.0</td>\n",
       "      <td>406</td>\n",
       "    </tr>\n",
       "    <tr>\n",
       "      <th>502</th>\n",
       "      <td>888.0</td>\n",
       "      <td>Antara</td>\n",
       "    </tr>\n",
       "    <tr>\n",
       "      <th>503</th>\n",
       "      <td>286.0</td>\n",
       "      <td>MX 3</td>\n",
       "    </tr>\n",
       "    <tr>\n",
       "      <th>504</th>\n",
       "      <td>876.0</td>\n",
       "      <td>Pronto</td>\n",
       "    </tr>\n",
       "    <tr>\n",
       "      <th>505</th>\n",
       "      <td>453.0</td>\n",
       "      <td>ML Class</td>\n",
       "    </tr>\n",
       "  </tbody>\n",
       "</table>\n",
       "<p>506 rows × 2 columns</p>\n",
       "</div>"
      ],
      "text/plain": [
       "     carmodel car_model\n",
       "0       637.0       MDX\n",
       "1        71.0    Innova\n",
       "2       448.0       GLC\n",
       "3       323.0  7 Series\n",
       "4       101.0      Vios\n",
       "..        ...       ...\n",
       "501     578.0       406\n",
       "502     888.0    Antara\n",
       "503     286.0      MX 3\n",
       "504     876.0    Pronto\n",
       "505     453.0  ML Class\n",
       "\n",
       "[506 rows x 2 columns]"
      ]
     },
     "execution_count": 57,
     "metadata": {},
     "output_type": "execute_result"
    }
   ],
   "source": [
    "df = to_dict('carmodel','car_model')\n",
    "df"
   ]
  },
  {
   "cell_type": "code",
   "execution_count": 58,
   "id": "ec598cf7",
   "metadata": {},
   "outputs": [
    {
     "data": {
      "text/html": [
       "<div>\n",
       "<style scoped>\n",
       "    .dataframe tbody tr th:only-of-type {\n",
       "        vertical-align: middle;\n",
       "    }\n",
       "\n",
       "    .dataframe tbody tr th {\n",
       "        vertical-align: top;\n",
       "    }\n",
       "\n",
       "    .dataframe thead th {\n",
       "        text-align: right;\n",
       "    }\n",
       "</style>\n",
       "<table border=\"1\" class=\"dataframe\">\n",
       "  <thead>\n",
       "    <tr style=\"text-align: right;\">\n",
       "      <th></th>\n",
       "      <th>carbrand</th>\n",
       "      <th>brand_name</th>\n",
       "    </tr>\n",
       "  </thead>\n",
       "  <tbody>\n",
       "    <tr>\n",
       "      <th>0</th>\n",
       "      <td>25.0</td>\n",
       "      <td>Acura</td>\n",
       "    </tr>\n",
       "    <tr>\n",
       "      <th>1</th>\n",
       "      <td>2.0</td>\n",
       "      <td>Toyota</td>\n",
       "    </tr>\n",
       "    <tr>\n",
       "      <th>2</th>\n",
       "      <td>16.0</td>\n",
       "      <td>Mercedes Benz</td>\n",
       "    </tr>\n",
       "    <tr>\n",
       "      <th>3</th>\n",
       "      <td>9.0</td>\n",
       "      <td>BMW</td>\n",
       "    </tr>\n",
       "    <tr>\n",
       "      <th>4</th>\n",
       "      <td>6.0</td>\n",
       "      <td>Honda</td>\n",
       "    </tr>\n",
       "    <tr>\n",
       "      <th>...</th>\n",
       "      <td>...</td>\n",
       "      <td>...</td>\n",
       "    </tr>\n",
       "    <tr>\n",
       "      <th>63</th>\n",
       "      <td>56.0</td>\n",
       "      <td>Maserati</td>\n",
       "    </tr>\n",
       "    <tr>\n",
       "      <th>64</th>\n",
       "      <td>41.0</td>\n",
       "      <td>Gaz</td>\n",
       "    </tr>\n",
       "    <tr>\n",
       "      <th>65</th>\n",
       "      <td>55.0</td>\n",
       "      <td>Man</td>\n",
       "    </tr>\n",
       "    <tr>\n",
       "      <th>66</th>\n",
       "      <td>79.0</td>\n",
       "      <td>Reult</td>\n",
       "    </tr>\n",
       "    <tr>\n",
       "      <th>67</th>\n",
       "      <td>61.0</td>\n",
       "      <td>Opel</td>\n",
       "    </tr>\n",
       "  </tbody>\n",
       "</table>\n",
       "<p>68 rows × 2 columns</p>\n",
       "</div>"
      ],
      "text/plain": [
       "    carbrand     brand_name\n",
       "0       25.0          Acura\n",
       "1        2.0         Toyota\n",
       "2       16.0  Mercedes Benz\n",
       "3        9.0            BMW\n",
       "4        6.0          Honda\n",
       "..       ...            ...\n",
       "63      56.0       Maserati\n",
       "64      41.0            Gaz\n",
       "65      55.0            Man\n",
       "66      79.0          Reult\n",
       "67      61.0           Opel\n",
       "\n",
       "[68 rows x 2 columns]"
      ]
     },
     "execution_count": 58,
     "metadata": {},
     "output_type": "execute_result"
    }
   ],
   "source": [
    "df = to_dict('carbrand','brand_name')\n",
    "df"
   ]
  },
  {
   "cell_type": "code",
   "execution_count": 59,
   "id": "8e5072b3",
   "metadata": {},
   "outputs": [
    {
     "data": {
      "text/html": [
       "<div>\n",
       "<style scoped>\n",
       "    .dataframe tbody tr th:only-of-type {\n",
       "        vertical-align: middle;\n",
       "    }\n",
       "\n",
       "    .dataframe tbody tr th {\n",
       "        vertical-align: top;\n",
       "    }\n",
       "\n",
       "    .dataframe thead th {\n",
       "        text-align: right;\n",
       "    }\n",
       "</style>\n",
       "<table border=\"1\" class=\"dataframe\">\n",
       "  <thead>\n",
       "    <tr style=\"text-align: right;\">\n",
       "      <th></th>\n",
       "      <th>gearbox</th>\n",
       "      <th>gear</th>\n",
       "    </tr>\n",
       "  </thead>\n",
       "  <tbody>\n",
       "    <tr>\n",
       "      <th>0</th>\n",
       "      <td>1.0</td>\n",
       "      <td>Tự động</td>\n",
       "    </tr>\n",
       "    <tr>\n",
       "      <th>1</th>\n",
       "      <td>2.0</td>\n",
       "      <td>Số sàn</td>\n",
       "    </tr>\n",
       "    <tr>\n",
       "      <th>2</th>\n",
       "      <td>3.0</td>\n",
       "      <td>Bán tự động</td>\n",
       "    </tr>\n",
       "  </tbody>\n",
       "</table>\n",
       "</div>"
      ],
      "text/plain": [
       "   gearbox         gear\n",
       "0      1.0      Tự động\n",
       "1      2.0       Số sàn\n",
       "2      3.0  Bán tự động"
      ]
     },
     "execution_count": 59,
     "metadata": {},
     "output_type": "execute_result"
    }
   ],
   "source": [
    "df = to_dict('gearbox','gear')\n",
    "df"
   ]
  },
  {
   "cell_type": "code",
   "execution_count": 60,
   "id": "11e929b6",
   "metadata": {},
   "outputs": [
    {
     "data": {
      "text/html": [
       "<div>\n",
       "<style scoped>\n",
       "    .dataframe tbody tr th:only-of-type {\n",
       "        vertical-align: middle;\n",
       "    }\n",
       "\n",
       "    .dataframe tbody tr th {\n",
       "        vertical-align: top;\n",
       "    }\n",
       "\n",
       "    .dataframe thead th {\n",
       "        text-align: right;\n",
       "    }\n",
       "</style>\n",
       "<table border=\"1\" class=\"dataframe\">\n",
       "  <thead>\n",
       "    <tr style=\"text-align: right;\">\n",
       "      <th></th>\n",
       "      <th>fuel_y</th>\n",
       "      <th>fuel_x</th>\n",
       "    </tr>\n",
       "  </thead>\n",
       "  <tbody>\n",
       "    <tr>\n",
       "      <th>0</th>\n",
       "      <td>1.0</td>\n",
       "      <td>Xăng</td>\n",
       "    </tr>\n",
       "    <tr>\n",
       "      <th>1</th>\n",
       "      <td>2.0</td>\n",
       "      <td>Dầu</td>\n",
       "    </tr>\n",
       "    <tr>\n",
       "      <th>2</th>\n",
       "      <td>3.0</td>\n",
       "      <td>Động cơ Hybrid</td>\n",
       "    </tr>\n",
       "  </tbody>\n",
       "</table>\n",
       "</div>"
      ],
      "text/plain": [
       "   fuel_y          fuel_x\n",
       "0     1.0            Xăng\n",
       "1     2.0             Dầu\n",
       "2     3.0  Động cơ Hybrid"
      ]
     },
     "execution_count": 60,
     "metadata": {},
     "output_type": "execute_result"
    }
   ],
   "source": [
    "df = to_dict('fuel_y','fuel_x')\n",
    "df"
   ]
  },
  {
   "cell_type": "code",
   "execution_count": 61,
   "id": "bcd0e46b",
   "metadata": {},
   "outputs": [
    {
     "data": {
      "text/html": [
       "<div>\n",
       "<style scoped>\n",
       "    .dataframe tbody tr th:only-of-type {\n",
       "        vertical-align: middle;\n",
       "    }\n",
       "\n",
       "    .dataframe tbody tr th {\n",
       "        vertical-align: top;\n",
       "    }\n",
       "\n",
       "    .dataframe thead th {\n",
       "        text-align: right;\n",
       "    }\n",
       "</style>\n",
       "<table border=\"1\" class=\"dataframe\">\n",
       "  <thead>\n",
       "    <tr style=\"text-align: right;\">\n",
       "      <th></th>\n",
       "      <th>carorigin</th>\n",
       "      <th>origin</th>\n",
       "    </tr>\n",
       "  </thead>\n",
       "  <tbody>\n",
       "    <tr>\n",
       "      <th>0</th>\n",
       "      <td>7.0</td>\n",
       "      <td>Nước khác</td>\n",
       "    </tr>\n",
       "    <tr>\n",
       "      <th>1</th>\n",
       "      <td>1.0</td>\n",
       "      <td>Việt Nam</td>\n",
       "    </tr>\n",
       "    <tr>\n",
       "      <th>2</th>\n",
       "      <td>4.0</td>\n",
       "      <td>Thái Lan</td>\n",
       "    </tr>\n",
       "    <tr>\n",
       "      <th>3</th>\n",
       "      <td>5.0</td>\n",
       "      <td>Nhật Bản</td>\n",
       "    </tr>\n",
       "    <tr>\n",
       "      <th>4</th>\n",
       "      <td>8.0</td>\n",
       "      <td>Mỹ</td>\n",
       "    </tr>\n",
       "    <tr>\n",
       "      <th>5</th>\n",
       "      <td>9.0</td>\n",
       "      <td>Đức</td>\n",
       "    </tr>\n",
       "    <tr>\n",
       "      <th>6</th>\n",
       "      <td>6.0</td>\n",
       "      <td>Trung Quốc</td>\n",
       "    </tr>\n",
       "    <tr>\n",
       "      <th>7</th>\n",
       "      <td>3.0</td>\n",
       "      <td>Hàn Quốc</td>\n",
       "    </tr>\n",
       "    <tr>\n",
       "      <th>8</th>\n",
       "      <td>10.0</td>\n",
       "      <td>Đài Loan</td>\n",
       "    </tr>\n",
       "    <tr>\n",
       "      <th>9</th>\n",
       "      <td>2.0</td>\n",
       "      <td>Ấn Độ</td>\n",
       "    </tr>\n",
       "  </tbody>\n",
       "</table>\n",
       "</div>"
      ],
      "text/plain": [
       "   carorigin      origin\n",
       "0        7.0   Nước khác\n",
       "1        1.0    Việt Nam\n",
       "2        4.0    Thái Lan\n",
       "3        5.0    Nhật Bản\n",
       "4        8.0          Mỹ\n",
       "5        9.0         Đức\n",
       "6        6.0  Trung Quốc\n",
       "7        3.0    Hàn Quốc\n",
       "8       10.0    Đài Loan\n",
       "9        2.0       Ấn Độ"
      ]
     },
     "execution_count": 61,
     "metadata": {},
     "output_type": "execute_result"
    }
   ],
   "source": [
    "df = to_dict('carorigin','origin')\n",
    "df"
   ]
  },
  {
   "cell_type": "code",
   "execution_count": 62,
   "id": "0047bf1a",
   "metadata": {},
   "outputs": [
    {
     "data": {
      "text/html": [
       "<div>\n",
       "<style scoped>\n",
       "    .dataframe tbody tr th:only-of-type {\n",
       "        vertical-align: middle;\n",
       "    }\n",
       "\n",
       "    .dataframe tbody tr th {\n",
       "        vertical-align: top;\n",
       "    }\n",
       "\n",
       "    .dataframe thead th {\n",
       "        text-align: right;\n",
       "    }\n",
       "</style>\n",
       "<table border=\"1\" class=\"dataframe\">\n",
       "  <thead>\n",
       "    <tr style=\"text-align: right;\">\n",
       "      <th></th>\n",
       "      <th>cartype</th>\n",
       "      <th>style</th>\n",
       "    </tr>\n",
       "  </thead>\n",
       "  <tbody>\n",
       "    <tr>\n",
       "      <th>0</th>\n",
       "      <td>3.0</td>\n",
       "      <td>SUV / Cross over</td>\n",
       "    </tr>\n",
       "    <tr>\n",
       "      <th>1</th>\n",
       "      <td>8.0</td>\n",
       "      <td>Minivan (MPV)</td>\n",
       "    </tr>\n",
       "    <tr>\n",
       "      <th>2</th>\n",
       "      <td>1.0</td>\n",
       "      <td>Sedan</td>\n",
       "    </tr>\n",
       "    <tr>\n",
       "      <th>3</th>\n",
       "      <td>4.0</td>\n",
       "      <td>Hatchback</td>\n",
       "    </tr>\n",
       "    <tr>\n",
       "      <th>4</th>\n",
       "      <td>6.0</td>\n",
       "      <td>Pick-up (bán tải)</td>\n",
       "    </tr>\n",
       "    <tr>\n",
       "      <th>5</th>\n",
       "      <td>9.0</td>\n",
       "      <td>Van</td>\n",
       "    </tr>\n",
       "    <tr>\n",
       "      <th>6</th>\n",
       "      <td>2.0</td>\n",
       "      <td>Coupe (2 cửa)</td>\n",
       "    </tr>\n",
       "    <tr>\n",
       "      <th>7</th>\n",
       "      <td>5.0</td>\n",
       "      <td>Kiểu dáng khác</td>\n",
       "    </tr>\n",
       "    <tr>\n",
       "      <th>8</th>\n",
       "      <td>7.0</td>\n",
       "      <td>Mui trần</td>\n",
       "    </tr>\n",
       "  </tbody>\n",
       "</table>\n",
       "</div>"
      ],
      "text/plain": [
       "   cartype              style\n",
       "0      3.0   SUV / Cross over\n",
       "1      8.0      Minivan (MPV)\n",
       "2      1.0              Sedan\n",
       "3      4.0          Hatchback\n",
       "4      6.0  Pick-up (bán tải)\n",
       "5      9.0                Van\n",
       "6      2.0      Coupe (2 cửa)\n",
       "7      5.0     Kiểu dáng khác\n",
       "8      7.0           Mui trần"
      ]
     },
     "execution_count": 62,
     "metadata": {},
     "output_type": "execute_result"
    }
   ],
   "source": [
    "df = to_dict('cartype','style')\n",
    "df"
   ]
  },
  {
   "cell_type": "code",
   "execution_count": 63,
   "id": "c3ad3a0c",
   "metadata": {
    "scrolled": true
   },
   "outputs": [],
   "source": [
    "# for x in range(1,13,1):\n",
    "#     f = open('./Data/carcolor{}.txt'.format(x),'a')\n",
    "#     for url in res[res['carcolor'] ==x]['url']:\n",
    "#         f.writelines(url+'\\n')"
   ]
  },
  {
   "cell_type": "code",
   "execution_count": 67,
   "id": "05d303cc",
   "metadata": {},
   "outputs": [],
   "source": [
    "with open('./Data/color.txt','r',encoding=\"utf8\") as f:\n",
    "    lines = f.readlines()"
   ]
  },
  {
   "cell_type": "code",
   "execution_count": 68,
   "id": "fb4b9413",
   "metadata": {},
   "outputs": [],
   "source": [
    "df = []\n",
    "for line in lines:\n",
    "    line = line.replace('\\n','')\n",
    "    arrLine = line.split(' - ')\n",
    "    a,b = arrLine\n",
    "    a = int(a)\n",
    "    df.append([a,b])"
   ]
  },
  {
   "cell_type": "code",
   "execution_count": 69,
   "id": "7154ec67",
   "metadata": {},
   "outputs": [],
   "source": [
    "res = pd.DataFrame(df,columns=['carcolor','car_color'])"
   ]
  },
  {
   "cell_type": "code",
   "execution_count": 71,
   "id": "e71a5fb4",
   "metadata": {},
   "outputs": [],
   "source": [
    "res.to_csv('./Data/car_color.csv',encoding=\"utf8\")"
   ]
  },
  {
   "cell_type": "code",
   "execution_count": null,
   "id": "ea585a66",
   "metadata": {},
   "outputs": [],
   "source": []
  }
 ],
 "metadata": {
  "kernelspec": {
   "display_name": "Python 3 (ipykernel)",
   "language": "python",
   "name": "python3"
  },
  "language_info": {
   "codemirror_mode": {
    "name": "ipython",
    "version": 3
   },
   "file_extension": ".py",
   "mimetype": "text/x-python",
   "name": "python",
   "nbconvert_exporter": "python",
   "pygments_lexer": "ipython3",
   "version": "3.9.7"
  }
 },
 "nbformat": 4,
 "nbformat_minor": 5
}
