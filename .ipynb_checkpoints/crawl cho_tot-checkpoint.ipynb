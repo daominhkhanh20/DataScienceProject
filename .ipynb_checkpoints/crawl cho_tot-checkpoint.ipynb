{
 "cells": [
  {
   "cell_type": "code",
   "execution_count": 7,
   "id": "f351ed00",
   "metadata": {},
   "outputs": [],
   "source": [
    "import requests\n",
    "import pandas as pd"
   ]
  },
  {
   "cell_type": "code",
   "execution_count": 8,
   "id": "8f4ffdcf",
   "metadata": {},
   "outputs": [],
   "source": [
    "#o :post item timestamp"
   ]
  },
  {
   "cell_type": "code",
   "execution_count": 33,
   "id": "a3223b20",
   "metadata": {},
   "outputs": [],
   "source": [
    "response = requests.get(\"https://gateway.chotot.com/v1/public/ad-listing?cg=2010&key_param_included=true&o=26000\")"
   ]
  },
  {
   "cell_type": "code",
   "execution_count": 10,
   "id": "87428ce5",
   "metadata": {},
   "outputs": [],
   "source": [
    "maxIndex = 29773"
   ]
  },
  {
   "cell_type": "code",
   "execution_count": 35,
   "id": "149b1cd3",
   "metadata": {},
   "outputs": [
    {
     "name": "stdout",
     "output_type": "stream",
     "text": [
      "29770\n",
      "29760\n"
     ]
    }
   ],
   "source": [
    "cols = []\n",
    "for x in response.json()['ads'][0]:\n",
    "    cols.append(x)\n",
    "data= pd.DataFrame(columns=cols)\n",
    "for x in range(maxIndex,maxIndex-20,-1): #1000 times\n",
    "    if(x%10==0):\n",
    "        print(x)\n",
    "    url = \"https://gateway.chotot.com/v1/public/ad-listing?cg=2010&key_param_included=true&o=\" + str(x)\n",
    "    response = requests.get(url)\n",
    "    for i in range(len(response.json()['ads'])):\n",
    "        ads= response.json()['ads'][i]\n",
    "        data = data.append(ads,ignore_index=True)"
   ]
  },
  {
   "cell_type": "code",
   "execution_count": 37,
   "id": "f251f45c",
   "metadata": {},
   "outputs": [
    {
     "data": {
      "text/plain": [
       "0               NaN\n",
       "1      7.990000e+05\n",
       "2               NaN\n",
       "3      1.500000e+07\n",
       "4      7.990000e+05\n",
       "           ...     \n",
       "205    6.950000e+08\n",
       "206    1.480000e+09\n",
       "207    1.500000e+07\n",
       "208    7.990000e+05\n",
       "209             NaN\n",
       "Name: price, Length: 210, dtype: float64"
      ]
     },
     "execution_count": 37,
     "metadata": {},
     "output_type": "execute_result"
    }
   ],
   "source": [
    "data['price']"
   ]
  },
  {
   "cell_type": "code",
   "execution_count": null,
   "id": "6c9edf9b",
   "metadata": {},
   "outputs": [],
   "source": []
  }
 ],
 "metadata": {
  "kernelspec": {
   "display_name": "Python 3",
   "language": "python",
   "name": "python3"
  },
  "language_info": {
   "codemirror_mode": {
    "name": "ipython",
    "version": 3
   },
   "file_extension": ".py",
   "mimetype": "text/x-python",
   "name": "python",
   "nbconvert_exporter": "python",
   "pygments_lexer": "ipython3",
   "version": "3.8.8"
  }
 },
 "nbformat": 4,
 "nbformat_minor": 5
}
