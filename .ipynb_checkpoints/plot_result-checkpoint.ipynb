{
 "cells": [
  {
   "cell_type": "code",
   "execution_count": 1,
   "id": "1d1ba486",
   "metadata": {},
   "outputs": [],
   "source": [
    "from matplotlib import pyplot as plt"
   ]
  },
  {
   "cell_type": "code",
   "execution_count": 2,
   "id": "50e6f69e",
   "metadata": {},
   "outputs": [],
   "source": [
    "import numpy as np"
   ]
  },
  {
   "cell_type": "code",
   "execution_count": 13,
   "id": "1424451b",
   "metadata": {},
   "outputs": [],
   "source": [
    "X = [\"Ridge Regression\", \"Decision Tree\", \"Random Forest\", \"XGBoost\"]"
   ]
  },
  {
   "cell_type": "code",
   "execution_count": 14,
   "id": "82059527",
   "metadata": {},
   "outputs": [],
   "source": [
    "Y_normal = [0.468 , 0.173 , 0.06417, 0.06216]\n",
    "Y_pca = [0.722 , 0.223 ,0.07768, 0.07545]\n",
    "Y_bert = [0.715 , 0.198 , 0.07711, 0.07582]"
   ]
  },
  {
   "cell_type": "code",
   "execution_count": 19,
   "id": "83c94a55",
   "metadata": {},
   "outputs": [],
   "source": [
    "X_axis = np.array([2, 6, 10, 14])"
   ]
  },
  {
   "cell_type": "code",
   "execution_count": 20,
   "id": "ee002386",
   "metadata": {},
   "outputs": [
    {
     "data": {
      "image/png": "[encoded data removed]",
      "text/plain": [
       "<Figure size 432x288 with 1 Axes>"
      ]
     },
     "metadata": {
      "needs_background": "light"
     },
     "output_type": "display_data"
    }
   ],
   "source": [
    "plt.bar(X_axis - [0.4]*4, Y_normal, 0.4, label=\"no des\")\n",
    "plt.bar(X_axis, Y_pca, 0.4, label=\"des pca\")\n",
    "plt.bar(X_axis + 0.4, Y_bert, 0.4, label=\"des bert\")\n",
    "\n",
    "plt.xticks(X_axis, X)\n",
    "plt.xlabel(\"Models\")\n",
    "plt.ylabel(\"MSE\")\n",
    "plt.legend()\n",
    "plt.savefig(\"MSE.png\")\n",
    "plt.show()"
   ]
  },
  {
   "cell_type": "code",
   "execution_count": null,
   "id": "522c72a2",
   "metadata": {},
   "outputs": [],
   "source": []
  }
 ],
 "metadata": {
  "kernelspec": {
   "display_name": "Python 3 (ipykernel)",
   "language": "python",
   "name": "python3"
  },
  "language_info": {
   "codemirror_mode": {
    "name": "ipython",
    "version": 3
   },
   "file_extension": ".py",
   "mimetype": "text/x-python",
   "name": "python",
   "nbconvert_exporter": "python",
   "pygments_lexer": "ipython3",
   "version": "3.9.7"
  }
 },
 "nbformat": 4,
 "nbformat_minor": 5
}
