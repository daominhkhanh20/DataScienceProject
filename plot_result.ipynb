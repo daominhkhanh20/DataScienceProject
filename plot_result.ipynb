{
 "cells": [
  {
   "cell_type": "code",
   "execution_count": 1,
   "id": "a665669c",
   "metadata": {},
   "outputs": [],
   "source": [
    "from matplotlib import pyplot as plt"
   ]
  },
  {
   "cell_type": "code",
   "execution_count": 2,
   "id": "0d6c4297",
   "metadata": {},
   "outputs": [],
   "source": [
    "import numpy as np"
   ]
  },
  {
   "cell_type": "code",
   "execution_count": 13,
   "id": "80f47875",
   "metadata": {},
   "outputs": [],
   "source": [
    "X = [\"Ridge Regression\", \"Decision Tree\", \"Random Forest\", \"XGBoost\"]"
   ]
  },
  {
   "cell_type": "code",
   "execution_count": 24,
   "id": "e77e65e0",
   "metadata": {},
   "outputs": [],
   "source": [
    "Y_normal = [0.443, 0.793  ,0.9252903135438123,  0.92763]\n",
    "Y_pca = [0.141  , 0.734  ,0.9095574728539039, 0.91216626]\n",
    "Y_bert = [0.149  , 0.764  , 0.9102216053506608, 0.91173610]"
   ]
  },
  {
   "cell_type": "code",
   "execution_count": 25,
   "id": "70775a20",
   "metadata": {},
   "outputs": [],
   "source": [
    "X_axis = np.array([2, 4, 6, 8])"
   ]
  },
  {
   "cell_type": "code",
   "execution_count": 26,
   "id": "edd66469",
   "metadata": {},
   "outputs": [
    {
     "data": {
      "image/png": "[encoded data removed]",
      "text/plain": [
       "<Figure size 432x288 with 1 Axes>"
      ]
     },
     "metadata": {
      "needs_background": "light"
     },
     "output_type": "display_data"
    }
   ],
   "source": [
    "plt.bar(X_axis - [0.4]*4, Y_normal, 0.4, label=\"no des\")\n",
    "plt.bar(X_axis, Y_pca, 0.4, label=\"des pca\")\n",
    "plt.bar(X_axis + 0.4, Y_bert, 0.4, label=\"des bert\")\n",
    "\n",
    "plt.xticks(X_axis, X)\n",
    "plt.xlabel(\"Models\")\n",
    "plt.ylabel(\"R2\")\n",
    "plt.legend()\n",
    "plt.savefig(\"R2.png\")\n",
    "plt.show()"
   ]
  },
  {
   "cell_type": "code",
   "execution_count": null,
   "id": "6ef7ac36",
   "metadata": {},
   "outputs": [],
   "source": []
  }
 ],
 "metadata": {
  "kernelspec": {
   "display_name": "Python 3 (ipykernel)",
   "language": "python",
   "name": "python3"
  },
  "language_info": {
   "codemirror_mode": {
    "name": "ipython",
    "version": 3
   },
   "file_extension": ".py",
   "mimetype": "text/x-python",
   "name": "python",
   "nbconvert_exporter": "python",
   "pygments_lexer": "ipython3",
   "version": "3.9.7"
  }
 },
 "nbformat": 4,
 "nbformat_minor": 5
}
