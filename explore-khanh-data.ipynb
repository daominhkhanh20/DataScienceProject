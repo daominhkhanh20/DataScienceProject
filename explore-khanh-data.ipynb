{
 "cells": [
  {
   "cell_type": "code",
   "execution_count": 1,
   "id": "a213d611",
   "metadata": {},
   "outputs": [],
   "source": [
    "import json"
   ]
  },
  {
   "cell_type": "code",
   "execution_count": 2,
   "id": "ebe5ce9b",
   "metadata": {},
   "outputs": [],
   "source": [
    "import pandas as pd"
   ]
  },
  {
   "cell_type": "code",
   "execution_count": 3,
   "id": "3aa1b906",
   "metadata": {},
   "outputs": [
    {
     "name": "stderr",
     "output_type": "stream",
     "text": [
      "/home/leo/anaconda3/envs/ds/lib/python3.10/site-packages/IPython/core/interactiveshell.py:3444: DtypeWarning: Columns (55,56) have mixed types.Specify dtype option on import or set low_memory=False.\n",
      "  exec(code_obj, self.user_global_ns, self.user_ns)\n"
     ]
    }
   ],
   "source": [
    "data = pd.read_csv(\"Data/data.csv\")"
   ]
  },
  {
   "cell_type": "markdown",
   "id": "182e52b8",
   "metadata": {},
   "source": [
    "## Note\n",
    "* ad_id:\n",
    "* date: time posted\n",
    "* account_oid: remove\n",
    "* account_name: remove\n",
    "* category, category_name: same meaning\n",
    "* area, area_name: same meaning\n",
    "* region, region_name: same meaning\n",
    "* price, price_string: same meaning"
   ]
  },
  {
   "cell_type": "code",
   "execution_count": 11,
   "id": "3dcd456b",
   "metadata": {},
   "outputs": [
    {
     "data": {
      "text/html": [
       "<div>\n",
       "<style scoped>\n",
       "    .dataframe tbody tr th:only-of-type {\n",
       "        vertical-align: middle;\n",
       "    }\n",
       "\n",
       "    .dataframe tbody tr th {\n",
       "        vertical-align: top;\n",
       "    }\n",
       "\n",
       "    .dataframe thead th {\n",
       "        text-align: right;\n",
       "    }\n",
       "</style>\n",
       "<table border=\"1\" class=\"dataframe\">\n",
       "  <thead>\n",
       "    <tr style=\"text-align: right;\">\n",
       "      <th></th>\n",
       "      <th>price</th>\n",
       "      <th>price_string</th>\n",
       "    </tr>\n",
       "  </thead>\n",
       "  <tbody>\n",
       "    <tr>\n",
       "      <th>0</th>\n",
       "      <td>1.170000e+09</td>\n",
       "      <td>1.170.000.000 đ</td>\n",
       "    </tr>\n",
       "    <tr>\n",
       "      <th>1</th>\n",
       "      <td>2.700000e+02</td>\n",
       "      <td>270 đ</td>\n",
       "    </tr>\n",
       "    <tr>\n",
       "      <th>2</th>\n",
       "      <td>1.090000e+09</td>\n",
       "      <td>1.090.000.000 đ</td>\n",
       "    </tr>\n",
       "    <tr>\n",
       "      <th>3</th>\n",
       "      <td>4.900000e+08</td>\n",
       "      <td>490.000.000 đ</td>\n",
       "    </tr>\n",
       "    <tr>\n",
       "      <th>4</th>\n",
       "      <td>4.000000e+08</td>\n",
       "      <td>400.000.000 đ</td>\n",
       "    </tr>\n",
       "    <tr>\n",
       "      <th>...</th>\n",
       "      <td>...</td>\n",
       "      <td>...</td>\n",
       "    </tr>\n",
       "    <tr>\n",
       "      <th>30355</th>\n",
       "      <td>1.146165e+09</td>\n",
       "      <td>1.146.165.000 đ</td>\n",
       "    </tr>\n",
       "    <tr>\n",
       "      <th>30356</th>\n",
       "      <td>4.999000e+08</td>\n",
       "      <td>499.900.000 đ</td>\n",
       "    </tr>\n",
       "    <tr>\n",
       "      <th>30357</th>\n",
       "      <td>1.029000e+09</td>\n",
       "      <td>1.029.000.000 đ</td>\n",
       "    </tr>\n",
       "    <tr>\n",
       "      <th>30358</th>\n",
       "      <td>6.360000e+08</td>\n",
       "      <td>636.000.000 đ</td>\n",
       "    </tr>\n",
       "    <tr>\n",
       "      <th>30359</th>\n",
       "      <td>7.500000e+08</td>\n",
       "      <td>750.000.000 đ</td>\n",
       "    </tr>\n",
       "  </tbody>\n",
       "</table>\n",
       "<p>30360 rows × 2 columns</p>\n",
       "</div>"
      ],
      "text/plain": [
       "              price     price_string\n",
       "0      1.170000e+09  1.170.000.000 đ\n",
       "1      2.700000e+02            270 đ\n",
       "2      1.090000e+09  1.090.000.000 đ\n",
       "3      4.900000e+08    490.000.000 đ\n",
       "4      4.000000e+08    400.000.000 đ\n",
       "...             ...              ...\n",
       "30355  1.146165e+09  1.146.165.000 đ\n",
       "30356  4.999000e+08    499.900.000 đ\n",
       "30357  1.029000e+09  1.029.000.000 đ\n",
       "30358  6.360000e+08    636.000.000 đ\n",
       "30359  7.500000e+08    750.000.000 đ\n",
       "\n",
       "[30360 rows x 2 columns]"
      ]
     },
     "execution_count": 11,
     "metadata": {},
     "output_type": "execute_result"
    }
   ],
   "source": [
    "data[[\"price\", \"price_string\"]]"
   ]
  },
  {
   "cell_type": "code",
   "execution_count": 5,
   "id": "047fe531",
   "metadata": {},
   "outputs": [
    {
     "data": {
      "text/plain": [
       "['ad_id',\n",
       " 'list_id',\n",
       " 'list_time',\n",
       " 'date',\n",
       " 'account_id',\n",
       " 'account_oid',\n",
       " 'account_name',\n",
       " 'subject',\n",
       " 'body',\n",
       " 'category',\n",
       " 'category_name',\n",
       " 'area',\n",
       " 'area_name',\n",
       " 'region',\n",
       " 'region_name',\n",
       " 'company_ad',\n",
       " 'condition_ad',\n",
       " 'type',\n",
       " 'price',\n",
       " 'price_string',\n",
       " 'image',\n",
       " 'webp_image',\n",
       " 'videos',\n",
       " 'number_of_images',\n",
       " 'mfdate',\n",
       " 'avatar',\n",
       " 'region_v2',\n",
       " 'area_v2',\n",
       " 'ward',\n",
       " 'ward_name',\n",
       " 'carmodel',\n",
       " 'carbrand',\n",
       " 'carmodel_name',\n",
       " 'carseats',\n",
       " 'condition_ad_name',\n",
       " 'mileage',\n",
       " 'mileage_v2',\n",
       " 'gearbox',\n",
       " 'service_sendvideo',\n",
       " 'contain_videos',\n",
       " 'phone',\n",
       " 'fuel',\n",
       " 'carcolor',\n",
       " 'carorigin',\n",
       " 'cartype',\n",
       " 'owner',\n",
       " 'protection_entitlement',\n",
       " 'params',\n",
       " 'shop_alias',\n",
       " 'shop',\n",
       " 'can_deposit',\n",
       " 'escrow_deposit_min_amount',\n",
       " 'escrow_deposit_max_amount',\n",
       " 'escrow_deposit_ship_days',\n",
       " 'has_video',\n",
       " 'ad_features',\n",
       " 'reviewer_image']"
      ]
     },
     "execution_count": 5,
     "metadata": {},
     "output_type": "execute_result"
    }
   ],
   "source": [
    "column_name = list(data)\n",
    "column_name"
   ]
  },
  {
   "cell_type": "code",
   "execution_count": 7,
   "id": "2f2d02ec",
   "metadata": {},
   "outputs": [
    {
     "data": {
      "text/plain": [
       "ad_id                            0\n",
       "list_id                          0\n",
       "list_time                        0\n",
       "date                             0\n",
       "account_id                       0\n",
       "account_oid                      0\n",
       "account_name                     0\n",
       "subject                          0\n",
       "body                             0\n",
       "category                         0\n",
       "category_name                    0\n",
       "area                             0\n",
       "area_name                        0\n",
       "region                           0\n",
       "region_name                      0\n",
       "company_ad                       0\n",
       "condition_ad                     2\n",
       "type                             0\n",
       "price                           66\n",
       "price_string                    66\n",
       "image                          103\n",
       "webp_image                     103\n",
       "videos                           0\n",
       "number_of_images               103\n",
       "mfdate                         192\n",
       "avatar                           0\n",
       "region_v2                        0\n",
       "area_v2                          0\n",
       "ward                          5210\n",
       "ward_name                     5214\n",
       "carmodel                       191\n",
       "carbrand                       191\n",
       "carmodel_name                  191\n",
       "carseats                      1436\n",
       "condition_ad_name                2\n",
       "mileage                        189\n",
       "mileage_v2                       2\n",
       "gearbox                        200\n",
       "service_sendvideo            22301\n",
       "contain_videos                   0\n",
       "phone                            0\n",
       "fuel                          1749\n",
       "carcolor                      4126\n",
       "carorigin                     3949\n",
       "cartype                       1795\n",
       "owner                            0\n",
       "protection_entitlement           0\n",
       "params                         169\n",
       "shop_alias                   20901\n",
       "shop                         20901\n",
       "can_deposit                  29959\n",
       "escrow_deposit_min_amount    29959\n",
       "escrow_deposit_max_amount    29959\n",
       "escrow_deposit_ship_days     29959\n",
       "has_video                    29665\n",
       "ad_features                  30359\n",
       "reviewer_image               30359\n",
       "dtype: int64"
      ]
     },
     "execution_count": 7,
     "metadata": {},
     "output_type": "execute_result"
    }
   ],
   "source": [
    "data.isna().sum()"
   ]
  },
  {
   "cell_type": "code",
   "execution_count": 8,
   "id": "5ffcc9dc",
   "metadata": {},
   "outputs": [
    {
     "data": {
      "text/plain": [
       "(30360, 57)"
      ]
     },
     "execution_count": 8,
     "metadata": {},
     "output_type": "execute_result"
    }
   ],
   "source": [
    "data.shape"
   ]
  },
  {
   "cell_type": "code",
   "execution_count": null,
   "id": "56d9c58f",
   "metadata": {},
   "outputs": [],
   "source": []
  }
 ],
 "metadata": {
  "kernelspec": {
   "display_name": "Python 3 (ipykernel)",
   "language": "python",
   "name": "python3"
  },
  "language_info": {
   "codemirror_mode": {
    "name": "ipython",
    "version": 3
   },
   "file_extension": ".py",
   "mimetype": "text/x-python",
   "name": "python",
   "nbconvert_exporter": "python",
   "pygments_lexer": "ipython3",
   "version": "3.10.0"
  }
 },
 "nbformat": 4,
 "nbformat_minor": 5
}
