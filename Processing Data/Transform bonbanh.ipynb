{
 "cells": [
  {
   "cell_type": "code",
   "execution_count": 1,
   "id": "2127aa2d",
   "metadata": {},
   "outputs": [],
   "source": [
    "import pandas as pd\n",
    "import numpy as np"
   ]
  },
  {
   "cell_type": "code",
   "execution_count": 2,
   "id": "1ba214cb",
   "metadata": {},
   "outputs": [],
   "source": [
    "data = pd.read_csv('../Data/bonbanh_ps.csv')"
   ]
  },
  {
   "cell_type": "markdown",
   "id": "fd24fefb",
   "metadata": {},
   "source": [
    "# Gearbox"
   ]
  },
  {
   "cell_type": "code",
   "execution_count": 3,
   "id": "2f4157c8",
   "metadata": {},
   "outputs": [
    {
     "data": {
      "text/plain": [
       "Số tự động    28315\n",
       "Số tay        12229\n",
       "-                15\n",
       "Số hỗn hợp        4\n",
       "Name: car_gearbox, dtype: int64"
      ]
     },
     "execution_count": 3,
     "metadata": {},
     "output_type": "execute_result"
    }
   ],
   "source": [
    "data['car_gearbox'].value_counts()"
   ]
  },
  {
   "cell_type": "code",
   "execution_count": 4,
   "id": "2fb360d6",
   "metadata": {},
   "outputs": [],
   "source": [
    "id1 = data[data['car_gearbox'] =='Số tự động'].index\n",
    "id2 = data[data['car_gearbox'] =='Số tay'].index"
   ]
  },
  {
   "cell_type": "code",
   "execution_count": 5,
   "id": "5a759300",
   "metadata": {},
   "outputs": [],
   "source": [
    "data.loc[id1,'gear'] = 'Tự động'\n",
    "data.loc[id2,'gear'] = 'Số sàn'"
   ]
  },
  {
   "cell_type": "code",
   "execution_count": 6,
   "id": "e90e6afe",
   "metadata": {},
   "outputs": [
    {
     "data": {
      "text/plain": [
       "array(['Tự động', 'Số sàn', nan], dtype=object)"
      ]
     },
     "execution_count": 6,
     "metadata": {},
     "output_type": "execute_result"
    }
   ],
   "source": [
    "data['gear'].unique()"
   ]
  },
  {
   "cell_type": "markdown",
   "id": "0380600c",
   "metadata": {},
   "source": [
    "# Engine"
   ]
  },
  {
   "cell_type": "code",
   "execution_count": 7,
   "id": "c7cf0afd",
   "metadata": {},
   "outputs": [],
   "source": [
    "idXeDien = data[data['car_fuel'].str.contains('Điện')].index"
   ]
  },
  {
   "cell_type": "code",
   "execution_count": 8,
   "id": "7973cb88",
   "metadata": {},
   "outputs": [],
   "source": [
    "data.drop(index=idXeDien,inplace=True)\n",
    "data.reset_index(drop=True, inplace=True)"
   ]
  },
  {
   "cell_type": "code",
   "execution_count": 9,
   "id": "c96bd5ff",
   "metadata": {},
   "outputs": [],
   "source": [
    "id1 = data[data.car_fuel.str[0:1] =='X'].index\n",
    "id2 = data[data.car_fuel.str[0:1] =='D'].index\n",
    "id3 = data[data.car_fuel.str[0:1] =='H'].index"
   ]
  },
  {
   "cell_type": "code",
   "execution_count": 10,
   "id": "9d2662e6",
   "metadata": {},
   "outputs": [],
   "source": [
    "data.loc[id1,'fuel_x'] = 'Xăng'\n",
    "data.loc[id2,'fuel_x'] = 'Dầu'\n",
    "data.loc[id3,'fuel_x'] = 'Động cơ Hybrid'"
   ]
  },
  {
   "cell_type": "code",
   "execution_count": 11,
   "id": "89654316",
   "metadata": {},
   "outputs": [
    {
     "data": {
      "text/plain": [
       "array(['Xăng', 'Dầu', nan, 'Động cơ Hybrid'], dtype=object)"
      ]
     },
     "execution_count": 11,
     "metadata": {},
     "output_type": "execute_result"
    }
   ],
   "source": [
    "data['fuel_x'].unique()"
   ]
  },
  {
   "cell_type": "markdown",
   "id": "65804cb2",
   "metadata": {},
   "source": [
    "# Car Origin"
   ]
  },
  {
   "cell_type": "code",
   "execution_count": 12,
   "id": "daad8782",
   "metadata": {},
   "outputs": [
    {
     "data": {
      "text/plain": [
       "array(['Nhập khẩu', 'Lắp ráp trong nước'], dtype=object)"
      ]
     },
     "execution_count": 12,
     "metadata": {},
     "output_type": "execute_result"
    }
   ],
   "source": [
    "data.car_origin.unique()"
   ]
  },
  {
   "cell_type": "code",
   "execution_count": 13,
   "id": "7f4b28d7",
   "metadata": {},
   "outputs": [],
   "source": [
    "id1 = data[data['car_origin'] =='Lắp ráp trong nước'].index\n",
    "id2 = data[data['car_origin'] =='Nhập khẩu'].index"
   ]
  },
  {
   "cell_type": "code",
   "execution_count": 14,
   "id": "e950a30d",
   "metadata": {},
   "outputs": [],
   "source": [
    "data['origin'] = ''\n",
    "data.loc[id1,'origin'] = 'Việt Nam'\n",
    "data.loc[id2,'origin'] = 'Nước khác'"
   ]
  },
  {
   "cell_type": "code",
   "execution_count": 15,
   "id": "1b3e4c9e",
   "metadata": {},
   "outputs": [
    {
     "data": {
      "text/plain": [
       "array(['Nước khác', 'Việt Nam'], dtype=object)"
      ]
     },
     "execution_count": 15,
     "metadata": {},
     "output_type": "execute_result"
    }
   ],
   "source": [
    "data['origin'].unique()"
   ]
  },
  {
   "cell_type": "markdown",
   "id": "fbb7f1dd",
   "metadata": {},
   "source": [
    "# Car Type"
   ]
  },
  {
   "cell_type": "code",
   "execution_count": 16,
   "id": "aaf1743c",
   "metadata": {},
   "outputs": [
    {
     "data": {
      "text/plain": [
       "array(['Hatchback', 'Bán tải / Pickup', 'Sedan', 'SUV', 'Truck',\n",
       "       'Crossover', 'Coupe', 'Van/Minivan', 'Convertible/Cabriolet',\n",
       "       'Wagon'], dtype=object)"
      ]
     },
     "execution_count": 16,
     "metadata": {},
     "output_type": "execute_result"
    }
   ],
   "source": [
    "data.car_type.unique()"
   ]
  },
  {
   "cell_type": "code",
   "execution_count": 17,
   "id": "8ba59b66",
   "metadata": {},
   "outputs": [],
   "source": [
    "tmp_dict = {\n",
    "    'Hatchback':'Hatchback',\n",
    "    'Crossover':'SUV / Cross over',\n",
    "    'SUV':'SUV / Cross over',\n",
    "    'Bán tải / Pickup':'Pick-up (bán tải)',\n",
    "    'Truck':'Kiểu dáng khác',\n",
    "    'Sedan':'Sedan',\n",
    "    'Van/Minivan':'Van',\n",
    "    'Convertible/Cabriolet':'Kiểu dáng khác',\n",
    "    'Coupe':'Coupe (2 cửa)',\n",
    "    'Wagon':'Sedan'\n",
    "}"
   ]
  },
  {
   "cell_type": "code",
   "execution_count": 18,
   "id": "4733bed5",
   "metadata": {},
   "outputs": [],
   "source": [
    "data['style']=''\n",
    "for x in tmp_dict:\n",
    "    id = data[data['car_type'] == x].index\n",
    "    data.loc[id,'style'] = tmp_dict[x]"
   ]
  },
  {
   "cell_type": "markdown",
   "id": "bcb98271",
   "metadata": {},
   "source": [
    "# Brand name"
   ]
  },
  {
   "cell_type": "code",
   "execution_count": 19,
   "id": "68221c2a",
   "metadata": {
    "scrolled": false
   },
   "outputs": [],
   "source": [
    "# data.rename(columns={'model':'car_model'},inplace=True)"
   ]
  },
  {
   "cell_type": "code",
   "execution_count": 20,
   "id": "316f91a1",
   "metadata": {},
   "outputs": [],
   "source": [
    "from tqdm import tqdm"
   ]
  },
  {
   "cell_type": "code",
   "execution_count": 21,
   "id": "8009c23c",
   "metadata": {},
   "outputs": [],
   "source": [
    "tmp_brand_name = ['Kia', 'Ford', 'Lexus', 'Thaco', 'Mitsubishi',\n",
    "       'LandRover', 'Toyota', 'Honda', 'VinFast', 'Mazda', 'Infiniti',\n",
    "       'Hyundai', 'BMW', 'Fiat', 'Vinaxuki', 'Maserati', 'Vinfast',\n",
    "       'Nissan', 'Cadillac', 'Chevrolet', 'Porsche', 'Audi', 'Mini',\n",
    "       'Suzuki', 'MG', 'JRD', 'Bentley', 'Daewoo', 'Peugeot', 'Haima',\n",
    "       'Volvo', 'Volkswagen', 'Subaru', 'UAZ', 'Isuzu', 'Dongfeng',\n",
    "       'Ferrari', 'Rolls Royce', 'Hino', 'Ssangyong', 'Lincoln',\n",
    "       'Daihatsu', 'Dodge', 'Renault', 'Chrysler', 'Luxgen', 'McLaren',\n",
    "       'Jeep', 'Jaguar', 'Acura', 'Alfa Romeo', 'Smart', 'Dongben', 'SYM',\n",
    "       'Proton', 'Opel', 'Scion', 'RAM', 'Geely', 'GMC', 'Lamborghini',\n",
    "       'Morgan', 'Baic', 'Tobe', 'Chery', 'Changan', 'Mekong', 'Zotye',\n",
    "       'Samsung', 'Gaz', 'Martin Aston', 'Lifan', 'Asia', 'Lada', 'Mercedes Benz']"
   ]
  },
  {
   "cell_type": "code",
   "execution_count": 22,
   "id": "8c7be93d",
   "metadata": {},
   "outputs": [],
   "source": [
    "for x in tmp_brand_name:\n",
    "    id = data[data['cname'].str.contains(x)].index\n",
    "    data.loc[id,'brand_name'] = x"
   ]
  },
  {
   "cell_type": "code",
   "execution_count": 23,
   "id": "ab389fe1",
   "metadata": {
    "scrolled": true
   },
   "outputs": [
    {
     "name": "stderr",
     "output_type": "stream",
     "text": [
      "100%|██████████████████████████████████████████████████████| 40529/40529 [00:32<00:00, 1261.30it/s]\n"
     ]
    }
   ],
   "source": [
    "for x in tqdm(range(data.shape[0])):\n",
    "    setA = str(data.loc[x,'cname']).split()\n",
    "    setB = str(data.loc[x,'brand_name']).split()\n",
    "    if len(setB)==0:\n",
    "        continue\n",
    "    df = []\n",
    "    for item in setA:\n",
    "        if item not in setB:\n",
    "            df.append(item)\n",
    "    res = ' '.join(df)\n",
    "    data.loc[x,'model'] = res.title()"
   ]
  },
  {
   "cell_type": "markdown",
   "id": "9bffb7a6",
   "metadata": {},
   "source": [
    "# Car Model"
   ]
  },
  {
   "cell_type": "code",
   "execution_count": 24,
   "id": "c5a22306",
   "metadata": {},
   "outputs": [],
   "source": [
    "tmp_brand_name = pd.read_csv('../util/Data/brand_name.csv')\n",
    "tmp_car_model = pd.read_csv('../util/Data/car_model.csv')"
   ]
  },
  {
   "cell_type": "code",
   "execution_count": 25,
   "id": "6c27184a",
   "metadata": {},
   "outputs": [],
   "source": [
    "tmp_dict = {\n",
    "    'Cx3':'CX 3',\n",
    "    'CX5':'CX 5',\n",
    "    'CX8':'CX 8',\n",
    "    'CX9':'CX 9',\n",
    "    'I10':'Grand i10',\n",
    "    'Lux A 2.0':'Lux',\n",
    "    'Lux SA 2.0':'Lux',\n",
    "    'MU-X':'Mu X',\n",
    "    'VF E34':'VFe34'\n",
    "}"
   ]
  },
  {
   "cell_type": "code",
   "execution_count": 26,
   "id": "aedd2d8a",
   "metadata": {},
   "outputs": [],
   "source": [
    "for x in tmp_dict:\n",
    "    id = data[data['model'] == x].index\n",
    "    data.loc[id,'model'] = tmp_dict[x]"
   ]
  },
  {
   "cell_type": "markdown",
   "id": "c5a32931",
   "metadata": {},
   "source": [
    "# Region Name"
   ]
  },
  {
   "cell_type": "code",
   "execution_count": 27,
   "id": "77560f37",
   "metadata": {},
   "outputs": [],
   "source": [
    "tmp_dict = {\n",
    "    'Bà Rịa Vũng Tàu':'Bà Rịa - Vũng Tàu',\n",
    "    'TP HCM':'Tp Hồ Chí Minh',\n",
    "    'Đăk Lăk':'Đắk Lắk',\n",
    "    'Đăk Nông':'Đắk Nông'\n",
    "}"
   ]
  },
  {
   "cell_type": "code",
   "execution_count": 28,
   "id": "02aabd23",
   "metadata": {},
   "outputs": [],
   "source": [
    "data['region_name'] = data['seller_location']\n",
    "for x in tmp_dict:\n",
    "    id = data[data['seller_location'] == x].index\n",
    "    data.loc[id,'region_name'] = tmp_dict[x]"
   ]
  },
  {
   "cell_type": "code",
   "execution_count": 29,
   "id": "70410e6c",
   "metadata": {},
   "outputs": [],
   "source": [
    "# cols= ['url','description','origin','status','car_mileage','car_color','car_doors','car_seats','gear',\n",
    "#       'car_year','car_price','style','createdAt','model','fuel_x',\n",
    "#        'brand_name','region_name']\n",
    "# data[cols].iloc[0]"
   ]
  },
  {
   "cell_type": "markdown",
   "id": "834860c1",
   "metadata": {},
   "source": [
    "# Status"
   ]
  },
  {
   "cell_type": "code",
   "execution_count": 30,
   "id": "97ba7cb5",
   "metadata": {},
   "outputs": [],
   "source": [
    "id1 = data[data.car_condition =='Xe đã dùng'].index\n",
    "id2 = data[data.car_condition =='Xe mới'].index"
   ]
  },
  {
   "cell_type": "code",
   "execution_count": 31,
   "id": "b0b98741",
   "metadata": {},
   "outputs": [],
   "source": [
    "data.loc[id1,'status'] = 'Đã sử dụng'\n",
    "data.loc[id2,'status'] = 'Mới'"
   ]
  },
  {
   "cell_type": "code",
   "execution_count": 39,
   "id": "5d042c14",
   "metadata": {},
   "outputs": [],
   "source": [
    "cols= ['description','origin','status','car_mileage','car_color','car_seats','gear',\n",
    "      'car_year','car_price','style','createdAt','model','fuel_x',\n",
    "       'brand_name','region_name','url_image']\n",
    "last_res = pd.DataFrame(data[cols])"
   ]
  },
  {
   "cell_type": "code",
   "execution_count": 40,
   "id": "6e7de134",
   "metadata": {},
   "outputs": [
    {
     "data": {
      "text/plain": [
       "Index(['description', 'origin', 'status', 'car_mileage', 'car_color',\n",
       "       'car_seats', 'gear', 'car_year', 'car_price', 'style', 'createdAt',\n",
       "       'model', 'fuel_x', 'brand_name', 'region_name', 'url_image'],\n",
       "      dtype='object')"
      ]
     },
     "execution_count": 40,
     "metadata": {},
     "output_type": "execute_result"
    }
   ],
   "source": [
    "last_res.columns"
   ]
  },
  {
   "cell_type": "markdown",
   "id": "62593a65",
   "metadata": {},
   "source": [
    "# Color"
   ]
  },
  {
   "cell_type": "code",
   "execution_count": 41,
   "id": "00142dad",
   "metadata": {},
   "outputs": [],
   "source": [
    "id = last_res[last_res['car_color']=='Ghi'].index\n",
    "last_res.loc[id,'car_color'] = 'Xám'"
   ]
  },
  {
   "cell_type": "code",
   "execution_count": 42,
   "id": "c978a546",
   "metadata": {},
   "outputs": [],
   "source": [
    "id1 = last_res[last_res['car_color']=='Cát'].index\n",
    "id2 = last_res[last_res['car_color']=='Kem'].index\n",
    "id3 = last_res[last_res['car_color']=='Đồng'].index\n",
    "id = id1.append([id2,id3])\n",
    "last_res.loc[id,'car_color'] = 'Vàng'"
   ]
  },
  {
   "cell_type": "code",
   "execution_count": 43,
   "id": "3963f478",
   "metadata": {},
   "outputs": [
    {
     "data": {
      "text/plain": [
       "array(['Trắng', 'Đỏ', 'Đen', 'Bạc', 'Xanh', 'Xám', 'Nâu', '-', 'Vàng',\n",
       "       'Cam', 'Nhiều màu', 'Màu khác', 'Hồng', 'Tím'], dtype=object)"
      ]
     },
     "execution_count": 43,
     "metadata": {},
     "output_type": "execute_result"
    }
   ],
   "source": [
    "last_res.car_color.unique()"
   ]
  },
  {
   "cell_type": "code",
   "execution_count": 44,
   "id": "51659916",
   "metadata": {},
   "outputs": [],
   "source": [
    "last_res.to_csv('../Data/bonbanh_integrate.csv',index=False)"
   ]
  }
 ],
 "metadata": {
  "kernelspec": {
   "display_name": "Python 3 (ipykernel)",
   "language": "python",
   "name": "python3"
  },
  "language_info": {
   "codemirror_mode": {
    "name": "ipython",
    "version": 3
   },
   "file_extension": ".py",
   "mimetype": "text/x-python",
   "name": "python",
   "nbconvert_exporter": "python",
   "pygments_lexer": "ipython3",
   "version": "3.9.7"
  }
 },
 "nbformat": 4,
 "nbformat_minor": 5
}
