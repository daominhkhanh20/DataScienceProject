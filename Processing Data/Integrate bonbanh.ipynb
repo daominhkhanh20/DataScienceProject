{
 "cells": [
  {
   "cell_type": "code",
   "execution_count": 1,
   "id": "7a10b4c7",
   "metadata": {},
   "outputs": [],
   "source": [
    "import pandas as pd\n",
    "import numpy as np\n",
    "import matplotlib.pyplot as plt"
   ]
  },
  {
   "cell_type": "code",
   "execution_count": 8,
   "id": "3a4300db",
   "metadata": {},
   "outputs": [],
   "source": [
    "data = pd.read_json('../Data/bonbanh.json')"
   ]
  },
  {
   "cell_type": "code",
   "execution_count": 3,
   "id": "ef273a68",
   "metadata": {},
   "outputs": [],
   "source": [
    "# data = data[['title','description','url']]"
   ]
  },
  {
   "cell_type": "code",
   "execution_count": 4,
   "id": "7cbe1f73",
   "metadata": {},
   "outputs": [],
   "source": [
    "data1 = pd.read_csv('../Data/data_bonbanh.csv')"
   ]
  },
  {
   "cell_type": "code",
   "execution_count": 9,
   "id": "03d5a07b",
   "metadata": {},
   "outputs": [],
   "source": [
    "res = pd.merge(data, data1, left_on='url', right_on='url')"
   ]
  },
  {
   "cell_type": "code",
   "execution_count": 10,
   "id": "8b078049",
   "metadata": {},
   "outputs": [
    {
     "data": {
      "text/plain": [
       "url                 https://bonbanh.com/xe-kia-carens-sxat-2012-40...\n",
       "title                         Xe\\tKia Carens\\tSXAT\\t2012\\t- 310 Triệu\n",
       "description         [Siêu thị ô tô Bình Dương chào bán!,  Kia Care...\n",
       "seller                                       Siêu thị ô tô Bình Dương\n",
       "seller_address      Địa chỉ: Ngã ba Ông Xã, ĐT743B, khu phố Đông T...\n",
       "origin                                             Lắp ráp trong nước\n",
       "status                                                     Xe đã dùng\n",
       "car_model                                                   Crossover\n",
       "km_number                                                   60,000 Km\n",
       "exterior_color                                                   Xanh\n",
       "interior_color                                                      -\n",
       "number_door                                                     5 cửa\n",
       "number_seat                                                     7 chỗ\n",
       "engine                                                    Xăng\\t2.0 L\n",
       "refueling_system                                                 None\n",
       "gear                                                       Số tự động\n",
       "actuator                                     FWD - Dẫn động cầu trước\n",
       "fuel_comsumption                                              L/100Km\n",
       "id                                                              63860\n",
       "category_id                                                       362\n",
       "hash_url                             06cb894c92e78e3ec2337712c4cb5d41\n",
       "thumbnail           https://cdn.muaotocu.info/file/crash-finder/ca...\n",
       "seller_location                                            Bình Dương\n",
       "car_title                                      Kia Carens SXAT - 2012\n",
       "car_year                                                         2012\n",
       "car_price                                                   318000000\n",
       "car_origin                                         Lắp ráp trong nước\n",
       "car_condition                                              Xe đã dùng\n",
       "car_type                                                    Crossover\n",
       "car_color                                                        Xanh\n",
       "car_fuel                                                   Xăng 2.0 L\n",
       "car_doors                                                         5.0\n",
       "car_seats                                                         7.0\n",
       "car_gearbox                                                Số tự động\n",
       "car_mileage                                                   60000.0\n",
       "car_engine                                                        NaN\n",
       "createdAt                                    2021-10-16T17:11:34.000Z\n",
       "updatedAt                                    2021-10-16T23:02:10.000Z\n",
       "id.1                                                              362\n",
       "car_model_id                                                      362\n",
       "source_id                                                           1\n",
       "id.2                                                              362\n",
       "manufacturer_id                                                    12\n",
       "model                                                          Carens\n",
       "cname                                                      Kia Carens\n",
       "Name: 0, dtype: object"
      ]
     },
     "execution_count": 10,
     "metadata": {},
     "output_type": "execute_result"
    }
   ],
   "source": [
    "res.iloc[0]"
   ]
  },
  {
   "cell_type": "code",
   "execution_count": 11,
   "id": "7f4f805b",
   "metadata": {},
   "outputs": [],
   "source": [
    "colsDrop = ['id.1','car_model_id','id.2','source_id']"
   ]
  },
  {
   "cell_type": "code",
   "execution_count": 12,
   "id": "cb43c94b",
   "metadata": {},
   "outputs": [],
   "source": [
    "res = res.drop(columns=colsDrop)"
   ]
  },
  {
   "cell_type": "code",
   "execution_count": 13,
   "id": "703f22a2",
   "metadata": {},
   "outputs": [],
   "source": [
    "res.to_csv('../Data/bonbanh.csv')"
   ]
  },
  {
   "cell_type": "code",
   "execution_count": null,
   "id": "3e1d2ffd",
   "metadata": {},
   "outputs": [],
   "source": []
  }
 ],
 "metadata": {
  "kernelspec": {
   "display_name": "Python 3",
   "language": "python",
   "name": "python3"
  },
  "language_info": {
   "codemirror_mode": {
    "name": "ipython",
    "version": 3
   },
   "file_extension": ".py",
   "mimetype": "text/x-python",
   "name": "python",
   "nbconvert_exporter": "python",
   "pygments_lexer": "ipython3",
   "version": "3.8.8"
  }
 },
 "nbformat": 4,
 "nbformat_minor": 5
}
