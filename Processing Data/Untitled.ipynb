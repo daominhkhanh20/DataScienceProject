{
 "cells": [
  {
   "cell_type": "code",
   "execution_count": 1,
   "id": "58ade353",
   "metadata": {},
   "outputs": [],
   "source": [
    "import pandas as pd"
   ]
  },
  {
   "cell_type": "code",
   "execution_count": 10,
   "id": "37a926da",
   "metadata": {},
   "outputs": [],
   "source": [
    "data1 = pd.read_json('../Data/bonbanh.json')"
   ]
  },
  {
   "cell_type": "code",
   "execution_count": 11,
   "id": "f8b85b29",
   "metadata": {},
   "outputs": [],
   "source": [
    "data2 = pd.read_csv('../Data/data_bonbanh.csv')"
   ]
  },
  {
   "cell_type": "code",
   "execution_count": 114,
   "id": "3e2a5ace",
   "metadata": {},
   "outputs": [
    {
     "data": {
      "text/plain": [
       "url                 https://bonbanh.com/xe-mercedes_benz-e_class-e...\n",
       "title               Xe\\tMercedes Benz E class\\tE200\\t2018\\t- 1 Tỷ ...\n",
       "description         [Mercedes E 200 sx 2018 model 2019, Tư nhân bi...\n",
       "seller                                               Nguyễn Xuân Tùng\n",
       "seller_address          Địa chỉ: 116 Lê Văn Lương, Thanh Xuân Hà Nội \n",
       "origin                                             Lắp ráp trong nước\n",
       "status                                                     Xe đã dùng\n",
       "car_model                                                       Sedan\n",
       "km_number                                                   45,000 Km\n",
       "exterior_color                                                  Trắng\n",
       "interior_color                                                    Đen\n",
       "number_door                                                     4 cửa\n",
       "number_seat                                                     5 chỗ\n",
       "engine                                                    Xăng\\t2.0 L\n",
       "refueling_system                                                 None\n",
       "gear                                                       Số tự động\n",
       "actuator                                       RFD - Dẫn động cầu sau\n",
       "fuel_comsumption                                              L/100Km\n",
       "Name: 19, dtype: object"
      ]
     },
     "execution_count": 114,
     "metadata": {},
     "output_type": "execute_result"
    }
   ],
   "source": [
    "data1.iloc[19]"
   ]
  },
  {
   "cell_type": "code",
   "execution_count": 90,
   "id": "22b012f9",
   "metadata": {},
   "outputs": [
    {
     "data": {
      "text/plain": [
       "['Địa', 'chỉ:', 'Long', 'biên', 'Hà', 'Nội', '']"
      ]
     },
     "execution_count": 90,
     "metadata": {},
     "output_type": "execute_result"
    }
   ],
   "source": [
    "data1.seller_address.iloc[100].split(' ')"
   ]
  },
  {
   "cell_type": "code",
   "execution_count": 105,
   "id": "c051e081",
   "metadata": {},
   "outputs": [],
   "source": [
    "df = []\n",
    "for x in range(data1.shape[0]):\n",
    "    df.append(' '.join(data1.seller_address.iloc[x].split(' ')[-3:-1]))"
   ]
  },
  {
   "cell_type": "code",
   "execution_count": 104,
   "id": "a7b01431",
   "metadata": {},
   "outputs": [
    {
     "data": {
      "text/plain": [
       "0        [Địa, chỉ:, Ngã, ba, Ông, Xã,, ĐT743B,, khu, p...\n",
       "1        [Địa, chỉ:, đường, Trịnh, Văn, Bô,, P., Xuân, ...\n",
       "2        [Địa, chỉ:, 25, Lê, Văn, Lương,, Cầu, Giấy, Hà...\n",
       "3        [Địa, chỉ:, 2094, Ql1A,, P., Tân, Chánh, Hiệp,...\n",
       "4        [Địa, chỉ:, 123-125, Phạm, Văn, Đồng,, Quận, B...\n",
       "                               ...                        \n",
       "39298    [Địa, chỉ:, 524, Nguyễn, Văn, Cừ,, Long, Biên,...\n",
       "39299    [Địa, chỉ:, 72A, Nguyễn, Trãi,, Thanh, Xuân, H...\n",
       "39300                                               [Hoặc]\n",
       "39301    [Địa, chỉ:, 628, Đường, Mê, Linh,, P., Khai, Q...\n",
       "39302    [Địa, chỉ:, Lô7, -, Kcn, Lai, Xá, -, Kim, Chun...\n",
       "Name: seller_address, Length: 39303, dtype: object"
      ]
     },
     "execution_count": 104,
     "metadata": {},
     "output_type": "execute_result"
    }
   ],
   "source": [
    "data1.seller_address.str.split()"
   ]
  },
  {
   "cell_type": "code",
   "execution_count": 108,
   "id": "380a4e1e",
   "metadata": {},
   "outputs": [
    {
     "data": {
      "text/plain": [
       "id                                                             89213\n",
       "category_id                                                     1209\n",
       "hash_url                            425c72964240a06284ae30302c7b0193\n",
       "url                 https://bonbanh.com/xe-thaco-ollin--2017-4070159\n",
       "thumbnail          https://cdn.muaotocu.info/file/crash-finder/ca...\n",
       "seller_location                                              Gia Lai\n",
       "car_title                                         Thaco Ollin - 2017\n",
       "car_year                                                        2017\n",
       "car_price                                                  290000000\n",
       "car_origin                                        Lắp ráp trong nước\n",
       "car_condition                                             Xe đã dùng\n",
       "car_type                                                       Truck\n",
       "car_color                                                       Xanh\n",
       "car_fuel                                                         Dầu\n",
       "car_doors                                                        2.0\n",
       "car_seats                                                        3.0\n",
       "car_gearbox                                                   Số tay\n",
       "car_mileage                                                      0.0\n",
       "car_engine                                                       NaN\n",
       "createdAt                                   2021-11-06T17:28:03.000Z\n",
       "updatedAt                                   2021-11-06T23:06:45.000Z\n",
       "id.1                                                            1209\n",
       "car_model_id                                                    1209\n",
       "source_id                                                          1\n",
       "id.2                                                            1209\n",
       "manufacturer_id                                                   80\n",
       "model                                                          Ollin\n",
       "cname                                                    Thaco Ollin\n",
       "Name: 0, dtype: object"
      ]
     },
     "execution_count": 108,
     "metadata": {},
     "output_type": "execute_result"
    }
   ],
   "source": [
    "data2.iloc[0]"
   ]
  },
  {
   "cell_type": "code",
   "execution_count": 109,
   "id": "e125de45",
   "metadata": {},
   "outputs": [],
   "source": [
    "tmp = pd.read_csv('../Data/bonbanh_integrate.csv')"
   ]
  },
  {
   "cell_type": "code",
   "execution_count": 110,
   "id": "96a667d0",
   "metadata": {},
   "outputs": [
    {
     "data": {
      "text/plain": [
       "description    ['Siêu thị ô tô Bình Dương chào bán!', ' Kia C...\n",
       "origin                                                  Việt Nam\n",
       "status                                                Đã sử dụng\n",
       "car_mileage                                              60000.0\n",
       "car_color                                                   Xanh\n",
       "car_seats                                                    7.0\n",
       "gear                                                     Tự động\n",
       "car_year                                                    2012\n",
       "car_price                                              318000000\n",
       "style                                           SUV / Cross over\n",
       "createdAt                               2021-10-16T17:11:34.000Z\n",
       "model                                                     Carens\n",
       "fuel_x                                                      Xăng\n",
       "brand_name                                                   Kia\n",
       "region_name                                           Bình Dương\n",
       "Name: 0, dtype: object"
      ]
     },
     "execution_count": 110,
     "metadata": {},
     "output_type": "execute_result"
    }
   ],
   "source": [
    "tmp.iloc[0]"
   ]
  },
  {
   "cell_type": "code",
   "execution_count": 107,
   "id": "d0d594d0",
   "metadata": {},
   "outputs": [
    {
     "data": {
      "text/plain": [
       "array(['Gia Lai', 'TP HCM', 'Thanh Hóa', 'Hà Nội', 'Đồng Nai',\n",
       "       'Bình Dương', 'Lâm Đồng', 'An Giang', 'Hải Phòng', 'Cần Thơ',\n",
       "       'Bắc Ninh', 'Tây Ninh', 'Bắc Giang', 'Tiền Giang', 'Đăk Lăk',\n",
       "       'Đồng Tháp', 'Sóc Trăng', 'Bà Rịa Vũng Tàu', 'Đà Nẵng',\n",
       "       'Vĩnh Phúc', 'Nghệ An', 'Phú Thọ', 'Hải Dương', 'Yên Bái',\n",
       "       'Điện Biên', 'Nam Định', 'Khánh Hòa', 'Bình Thuận', 'Ninh Bình',\n",
       "       'Bắc Kạn', 'Vĩnh Long', 'Sơn La', 'Thái Bình', 'Quảng Ninh',\n",
       "       'Thái Nguyên', 'Hưng Yên', 'Cao Bằng', 'Quảng Trị', 'Bình Định',\n",
       "       'Kon Tum', 'Hà Nam', 'Hà Tĩnh', 'Thừa Thiên Huế', 'Quảng Ngãi',\n",
       "       'Bình Phước', 'Lạng Sơn', 'Quảng Bình', 'Đăk Nông', 'Phú Yên',\n",
       "       'Hậu Giang', 'Long An', 'Quảng Nam', 'Bến Tre', 'Kiên Giang',\n",
       "       'Lào Cai', 'Hòa Bình', 'Tuyên Quang', 'Bạc Liêu', 'Hà Giang',\n",
       "       'Trà Vinh', 'Cà Mau', 'Ninh Thuận', 'Lai Châu'], dtype=object)"
      ]
     },
     "execution_count": 107,
     "metadata": {},
     "output_type": "execute_result"
    }
   ],
   "source": [
    "listCity"
   ]
  },
  {
   "cell_type": "code",
   "execution_count": null,
   "id": "70398034",
   "metadata": {},
   "outputs": [],
   "source": []
  }
 ],
 "metadata": {
  "kernelspec": {
   "display_name": "Python 3",
   "language": "python",
   "name": "python3"
  },
  "language_info": {
   "codemirror_mode": {
    "name": "ipython",
    "version": 3
   },
   "file_extension": ".py",
   "mimetype": "text/x-python",
   "name": "python",
   "nbconvert_exporter": "python",
   "pygments_lexer": "ipython3",
   "version": "3.8.8"
  }
 },
 "nbformat": 4,
 "nbformat_minor": 5
}
