{
 "cells": [
  {
   "cell_type": "code",
   "execution_count": 1,
   "id": "0ac19693",
   "metadata": {},
   "outputs": [],
   "source": [
    "import pandas as pd\n",
    "from tqdm import tqdm\n",
    "import numpy as np"
   ]
  },
  {
   "cell_type": "code",
   "execution_count": 2,
   "id": "30aaa666",
   "metadata": {},
   "outputs": [],
   "source": [
    "data = pd.read_json('../CrawlData/bonbanh.json')"
   ]
  },
  {
   "cell_type": "code",
   "execution_count": 3,
   "id": "0768f64b",
   "metadata": {},
   "outputs": [],
   "source": [
    "listCity = ['Gia Lai', 'TP HCM', 'Thanh Hóa', 'Hà Nội', 'Đồng Nai',\n",
    "       'Bình Dương', 'Lâm Đồng', 'An Giang', 'Hải Phòng', 'Cần Thơ',\n",
    "       'Bắc Ninh', 'Tây Ninh', 'Bắc Giang', 'Tiền Giang', 'Đăk Lăk',\n",
    "       'Đồng Tháp', 'Sóc Trăng', 'Bà Rịa Vũng Tàu', 'Đà Nẵng',\n",
    "       'Vĩnh Phúc', 'Nghệ An', 'Phú Thọ', 'Hải Dương', 'Yên Bái',\n",
    "       'Điện Biên', 'Nam Định', 'Khánh Hòa', 'Bình Thuận', 'Ninh Bình',\n",
    "       'Bắc Kạn', 'Vĩnh Long', 'Sơn La', 'Thái Bình', 'Quảng Ninh',\n",
    "       'Thái Nguyên', 'Hưng Yên', 'Cao Bằng', 'Quảng Trị', 'Bình Định',\n",
    "       'Kon Tum', 'Hà Nam', 'Hà Tĩnh', 'Thừa Thiên Huế', 'Quảng Ngãi',\n",
    "       'Bình Phước', 'Lạng Sơn', 'Quảng Bình', 'Đăk Nông', 'Phú Yên',\n",
    "       'Hậu Giang', 'Long An', 'Quảng Nam', 'Bến Tre', 'Kiên Giang',\n",
    "       'Lào Cai', 'Hòa Bình', 'Tuyên Quang', 'Bạc Liêu', 'Hà Giang',\n",
    "       'Trà Vinh', 'Cà Mau', 'Ninh Thuận', 'Lai Châu']"
   ]
  },
  {
   "cell_type": "code",
   "execution_count": 4,
   "id": "06e74b6e",
   "metadata": {},
   "outputs": [],
   "source": [
    "for x in listCity:\n",
    "    id = data[data.seller_address.str.contains(x)].index\n",
    "    data.loc[id,'seller_location'] = x"
   ]
  },
  {
   "cell_type": "code",
   "execution_count": 5,
   "id": "4698dc3c",
   "metadata": {},
   "outputs": [
    {
     "data": {
      "text/plain": [
       "14990"
      ]
     },
     "execution_count": 5,
     "metadata": {},
     "output_type": "execute_result"
    }
   ],
   "source": [
    "data.seller_location.isnull().sum()"
   ]
  },
  {
   "cell_type": "code",
   "execution_count": 10,
   "id": "7f7098ce",
   "metadata": {},
   "outputs": [],
   "source": [
    "tmp = data[pd.isna(data['seller_location'])]"
   ]
  },
  {
   "cell_type": "code",
   "execution_count": 23,
   "id": "f7b52c4c",
   "metadata": {},
   "outputs": [
    {
     "data": {
      "text/plain": [
       "url                 https://bonbanh.com/xe-volvo-xc60-t6-awd-inscr...\n",
       "title               Xe\\tVolvo XC60\\tT6 AWD Inscription\\t2019\\t- 2 ...\n",
       "description         [Chính chủ cần bán Volvo Xc60 sản xuất 2019 xe...\n",
       "seller                                                  Tran Van Sang\n",
       "date                                Đăng ngày 6/12/2021\\t. Xem 6 lượt\n",
       "seller_address                                                  Hoặc \n",
       "url_image           https://bonbanh.com/uploads/users/173734/car/4...\n",
       "origin                                                      Nhập khẩu\n",
       "status                                                     Xe đã dùng\n",
       "car_model                                                         SUV\n",
       "km_number                                                   20,000 Km\n",
       "exterior_color                                                  Trắng\n",
       "interior_color                                               Màu khác\n",
       "number_door                                                     5 cửa\n",
       "number_seat                                                     5 chỗ\n",
       "engine                                                    Xăng\\t2.0 L\n",
       "refueling_system                                                 None\n",
       "gear                                                       Số tự động\n",
       "actuator                                  AWD - 4 bánh toàn thời gian\n",
       "fuel_comsumption                                              L/100Km\n",
       "seller_location                                                   NaN\n",
       "Name: 19, dtype: object"
      ]
     },
     "execution_count": 23,
     "metadata": {},
     "output_type": "execute_result"
    }
   ],
   "source": [
    "tmp.iloc[2]"
   ]
  },
  {
   "cell_type": "code",
   "execution_count": 22,
   "id": "d72d69c4",
   "metadata": {},
   "outputs": [
    {
     "data": {
      "text/plain": [
       "['Chính chủ cần bán gấp maseratti lavente sản xuất 2016 màu đen xe gia đình sử dụng mới đi được 45000km xe đẹp bao test hãng.e cảm ơn']"
      ]
     },
     "execution_count": 22,
     "metadata": {},
     "output_type": "execute_result"
    }
   ],
   "source": [
    "tmp.description.iloc[0]"
   ]
  },
  {
   "cell_type": "code",
   "execution_count": null,
   "id": "edd06868",
   "metadata": {},
   "outputs": [],
   "source": []
  }
 ],
 "metadata": {
  "kernelspec": {
   "display_name": "Python 3",
   "language": "python",
   "name": "python3"
  },
  "language_info": {
   "codemirror_mode": {
    "name": "ipython",
    "version": 3
   },
   "file_extension": ".py",
   "mimetype": "text/x-python",
   "name": "python",
   "nbconvert_exporter": "python",
   "pygments_lexer": "ipython3",
   "version": "3.8.8"
  }
 },
 "nbformat": 4,
 "nbformat_minor": 5
}
