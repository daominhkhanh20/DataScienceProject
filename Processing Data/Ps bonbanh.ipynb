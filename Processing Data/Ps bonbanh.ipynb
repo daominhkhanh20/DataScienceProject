{
 "cells": [
  {
   "cell_type": "code",
   "execution_count": 1,
   "id": "58ade353",
   "metadata": {},
   "outputs": [],
   "source": [
    "import pandas as pd\n",
    "from tqdm import tqdm\n",
    "import numpy as np"
   ]
  },
  {
   "cell_type": "code",
   "execution_count": 13,
   "id": "37a926da",
   "metadata": {},
   "outputs": [],
   "source": [
    "data = pd.read_json('../CrawlData/bonbanh.json')"
   ]
  },
  {
   "cell_type": "code",
   "execution_count": 12,
   "id": "f3871b48",
   "metadata": {},
   "outputs": [
    {
     "data": {
      "text/plain": [
       "url                  https://bonbanh.com/xe-honda-jazz-v-2018-4034703\n",
       "title                            Xe\\tHonda Jazz\\tV\\t2018\\t- 429 Triệu\n",
       "description         [Honda Jazz 1.5AT, Số tự động , Nhập Thái Lan,...\n",
       "seller                                                    Hiền Toyota\n",
       "date                                Đăng ngày 6/12/2021\\t. Xem 4 lượt\n",
       "seller_address      Địa chỉ: C3/21H Phạm Hùng, Bình Hưng, Bình Chá...\n",
       "url_image           https://bonbanh.com/uploads/users/128387/car/4...\n",
       "origin                                                      Nhập khẩu\n",
       "status                                                     Xe đã dùng\n",
       "car_model                                                   Hatchback\n",
       "km_number                                                   20,000 Km\n",
       "exterior_color                                                  Trắng\n",
       "interior_color                                                    Đen\n",
       "number_door                                                     5 cửa\n",
       "number_seat                                                     5 chỗ\n",
       "engine                                                    Xăng\\t1.5 L\n",
       "refueling_system                                                 None\n",
       "gear                                                       Số tự động\n",
       "actuator                                     FWD - Dẫn động cầu trước\n",
       "fuel_comsumption                                              L/100Km\n",
       "Name: 0, dtype: object"
      ]
     },
     "execution_count": 12,
     "metadata": {},
     "output_type": "execute_result"
    }
   ],
   "source": [
    "data.iloc[0]"
   ]
  },
  {
   "cell_type": "code",
   "execution_count": 14,
   "id": "e111e6e4",
   "metadata": {},
   "outputs": [
    {
     "name": "stderr",
     "output_type": "stream",
     "text": [
      "100%|██████████████████████████████████████████████████████| 40563/40563 [00:05<00:00, 6955.82it/s]\n"
     ]
    }
   ],
   "source": [
    "for x in tqdm(range(data.shape[0])):\n",
    "    data.loc[x,'description'] = ' '.join(data.loc[x,'description'])"
   ]
  },
  {
   "cell_type": "code",
   "execution_count": 15,
   "id": "616ecd93",
   "metadata": {},
   "outputs": [
    {
     "name": "stderr",
     "output_type": "stream",
     "text": [
      "100%|██████████████████████████████████████████████████████| 40563/40563 [00:11<00:00, 3516.22it/s]\n"
     ]
    }
   ],
   "source": [
    "for x in tqdm(range(data.shape[0])):\n",
    "    tmp = data.km_number.iloc[x].split()\n",
    "    data.loc[x,'car_mileage'] = int(tmp[0].replace(',',''))"
   ]
  },
  {
   "cell_type": "code",
   "execution_count": 16,
   "id": "cf8d9859",
   "metadata": {},
   "outputs": [
    {
     "name": "stderr",
     "output_type": "stream",
     "text": [
      "100%|██████████████████████████████████████████████████████| 40563/40563 [00:12<00:00, 3372.87it/s]\n"
     ]
    }
   ],
   "source": [
    "for x in tqdm(range(data.shape[0])):\n",
    "    tmp = data.number_seat.iloc[x].split()\n",
    "    data.loc[x,'car_seats'] = int(tmp[0].replace(',',''))"
   ]
  },
  {
   "cell_type": "code",
   "execution_count": 17,
   "id": "b2e5fdcb",
   "metadata": {},
   "outputs": [
    {
     "name": "stderr",
     "output_type": "stream",
     "text": [
      "100%|███████████████████████████████████████████████████████| 40563/40563 [05:33<00:00, 121.49it/s]\n"
     ]
    }
   ],
   "source": [
    "for x in tqdm(range(data.shape[0])):\n",
    "    tmp = data.title.iloc[x].replace('-','').strip()\n",
    "    tmp = tmp.split('\\t')\n",
    "    if(len(tmp) == 5):\n",
    "        cname = tmp[1].strip()\n",
    "        ctype = tmp[2].strip()\n",
    "        car_year = tmp[3].strip()\n",
    "        priceStr = tmp[4].strip().split()\n",
    "    elif (len(tmp) == 4):\n",
    "        cname = tmp[1].strip()\n",
    "        ctype = ''\n",
    "        car_year = tmp[2].strip()\n",
    "        priceStr = tmp[3].strip().split()\n",
    "        \n",
    "    car_year = [int(s) for s in car_year.split() if s.isdigit()][0]\n",
    "    data.loc[x,'cname'] = cname\n",
    "    data.loc[x,'ctype'] = ctype\n",
    "    data.loc[x,'car_year'] = car_year\n",
    "    price = 0\n",
    "    for i in range(0,len(priceStr),2):\n",
    "        x1 = int(priceStr[i])\n",
    "        x2 = priceStr[i+1]\n",
    "        if x2 == 'Tỷ':\n",
    "            price +=x1*1e9\n",
    "        elif x2 =='Triệu':\n",
    "            price += x1 *1e6\n",
    "    data.loc[x,'car_price'] = price"
   ]
  },
  {
   "cell_type": "code",
   "execution_count": 18,
   "id": "e4670569",
   "metadata": {},
   "outputs": [],
   "source": [
    "data['car_type'] = data['car_model']"
   ]
  },
  {
   "cell_type": "code",
   "execution_count": 19,
   "id": "d0d594d0",
   "metadata": {},
   "outputs": [],
   "source": [
    "listCity = ['Gia Lai', 'TP HCM', 'Thanh Hóa', 'Hà Nội', 'Đồng Nai',\n",
    "       'Bình Dương', 'Lâm Đồng', 'An Giang', 'Hải Phòng', 'Cần Thơ',\n",
    "       'Bắc Ninh', 'Tây Ninh', 'Bắc Giang', 'Tiền Giang', 'Đăk Lăk',\n",
    "       'Đồng Tháp', 'Sóc Trăng', 'Bà Rịa Vũng Tàu', 'Đà Nẵng',\n",
    "       'Vĩnh Phúc', 'Nghệ An', 'Phú Thọ', 'Hải Dương', 'Yên Bái',\n",
    "       'Điện Biên', 'Nam Định', 'Khánh Hòa', 'Bình Thuận', 'Ninh Bình',\n",
    "       'Bắc Kạn', 'Vĩnh Long', 'Sơn La', 'Thái Bình', 'Quảng Ninh',\n",
    "       'Thái Nguyên', 'Hưng Yên', 'Cao Bằng', 'Quảng Trị', 'Bình Định',\n",
    "       'Kon Tum', 'Hà Nam', 'Hà Tĩnh', 'Thừa Thiên Huế', 'Quảng Ngãi',\n",
    "       'Bình Phước', 'Lạng Sơn', 'Quảng Bình', 'Đăk Nông', 'Phú Yên',\n",
    "       'Hậu Giang', 'Long An', 'Quảng Nam', 'Bến Tre', 'Kiên Giang',\n",
    "       'Lào Cai', 'Hòa Bình', 'Tuyên Quang', 'Bạc Liêu', 'Hà Giang',\n",
    "       'Trà Vinh', 'Cà Mau', 'Ninh Thuận', 'Lai Châu']"
   ]
  },
  {
   "cell_type": "code",
   "execution_count": 20,
   "id": "70398034",
   "metadata": {},
   "outputs": [],
   "source": [
    "for x in listCity:\n",
    "    id = data[data.seller_address.str.contains(x)].index\n",
    "    data.loc[id,'seller_location'] = x"
   ]
  },
  {
   "cell_type": "code",
   "execution_count": 21,
   "id": "1dda5d05",
   "metadata": {},
   "outputs": [
    {
     "name": "stderr",
     "output_type": "stream",
     "text": [
      "100%|███████████████████████████████████████████████████████| 40563/40563 [01:20<00:00, 504.45it/s]\n"
     ]
    }
   ],
   "source": [
    "for x in tqdm(range(data.shape[0])):\n",
    "    tmp = data.date.iloc[x].replace('Đăng ngày\\t','')\n",
    "    tmp = tmp.replace('Đăng ngày ','')\n",
    "    tmp = tmp.split('\\t')\n",
    "    data.loc[x,'createdAt'] = tmp[0]"
   ]
  },
  {
   "cell_type": "code",
   "execution_count": 22,
   "id": "56d298b4",
   "metadata": {},
   "outputs": [],
   "source": [
    "data['car_fuel'] = data['engine']"
   ]
  },
  {
   "cell_type": "code",
   "execution_count": 23,
   "id": "c6bce78f",
   "metadata": {},
   "outputs": [],
   "source": [
    "data['car_origin'] = data['origin']"
   ]
  },
  {
   "cell_type": "code",
   "execution_count": 24,
   "id": "b30d90d2",
   "metadata": {},
   "outputs": [],
   "source": [
    "data['car_condition'] = data['status']"
   ]
  },
  {
   "cell_type": "code",
   "execution_count": 25,
   "id": "1c4fb21a",
   "metadata": {},
   "outputs": [],
   "source": [
    "data['car_color'] = data['exterior_color']"
   ]
  },
  {
   "cell_type": "code",
   "execution_count": 26,
   "id": "cef48568",
   "metadata": {},
   "outputs": [],
   "source": [
    "data['car_gearbox'] = data['gear']"
   ]
  },
  {
   "cell_type": "code",
   "execution_count": 27,
   "id": "f8a44319",
   "metadata": {},
   "outputs": [],
   "source": [
    "cols = ['description', 'car_origin', 'car_condition', 'car_mileage', 'car_color',\n",
    "       'car_seats', 'car_gearbox', 'car_year', 'car_price', 'car_type', 'createdAt',\n",
    "       'cname', 'car_fuel', 'seller_location','url_image']"
   ]
  },
  {
   "cell_type": "code",
   "execution_count": 28,
   "id": "73eac2a4",
   "metadata": {},
   "outputs": [],
   "source": [
    "tmp = data[cols]"
   ]
  },
  {
   "cell_type": "code",
   "execution_count": 29,
   "id": "0ff5893f",
   "metadata": {},
   "outputs": [
    {
     "data": {
      "text/plain": [
       "description        Honda Jazz 1.5AT Số tự động  Nhập Thái Lan Odo...\n",
       "car_origin                                                 Nhập khẩu\n",
       "car_condition                                             Xe đã dùng\n",
       "car_mileage                                                  20000.0\n",
       "car_color                                                      Trắng\n",
       "car_seats                                                        5.0\n",
       "car_gearbox                                               Số tự động\n",
       "car_year                                                      2018.0\n",
       "car_price                                                429000000.0\n",
       "car_type                                                   Hatchback\n",
       "createdAt                                                  6/12/2021\n",
       "cname                                                     Honda Jazz\n",
       "car_fuel                                                 Xăng\\t1.5 L\n",
       "seller_location                                               TP HCM\n",
       "url_image          https://bonbanh.com/uploads/users/128387/car/4...\n",
       "Name: 0, dtype: object"
      ]
     },
     "execution_count": 29,
     "metadata": {},
     "output_type": "execute_result"
    }
   ],
   "source": [
    "tmp.iloc[0]"
   ]
  },
  {
   "cell_type": "code",
   "execution_count": 30,
   "id": "fcdaa167",
   "metadata": {},
   "outputs": [],
   "source": [
    "tmp.to_csv('../Data/bonbanh_ps.csv',index=False)"
   ]
  },
  {
   "cell_type": "code",
   "execution_count": null,
   "id": "9487d546",
   "metadata": {},
   "outputs": [],
   "source": []
  }
 ],
 "metadata": {
  "kernelspec": {
   "display_name": "Python 3 (ipykernel)",
   "language": "python",
   "name": "python3"
  },
  "language_info": {
   "codemirror_mode": {
    "name": "ipython",
    "version": 3
   },
   "file_extension": ".py",
   "mimetype": "text/x-python",
   "name": "python",
   "nbconvert_exporter": "python",
   "pygments_lexer": "ipython3",
   "version": "3.9.7"
  }
 },
 "nbformat": 4,
 "nbformat_minor": 5
}
