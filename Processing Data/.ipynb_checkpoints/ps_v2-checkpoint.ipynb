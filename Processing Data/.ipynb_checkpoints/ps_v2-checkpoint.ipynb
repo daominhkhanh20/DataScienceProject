{
 "cells": [
  {
   "cell_type": "code",
   "execution_count": 16,
   "id": "82920cba",
   "metadata": {},
   "outputs": [],
   "source": [
    "import pandas as pd\n",
    "import numpy as np\n",
    "import matplotlib.pyplot as plt"
   ]
  },
  {
   "cell_type": "code",
   "execution_count": 2,
   "id": "7890ab60",
   "metadata": {},
   "outputs": [],
   "source": [
    "data = pd.read_csv('../Data/data_bonbanh.csv')"
   ]
  },
  {
   "cell_type": "code",
   "execution_count": 10,
   "id": "975f263a",
   "metadata": {},
   "outputs": [
    {
     "data": {
      "text/plain": [
       "(65094, 28)"
      ]
     },
     "execution_count": 10,
     "metadata": {},
     "output_type": "execute_result"
    }
   ],
   "source": [
    "data.shape"
   ]
  },
  {
   "cell_type": "code",
   "execution_count": 4,
   "id": "57d646f3",
   "metadata": {},
   "outputs": [
    {
     "data": {
      "text/html": [
       "<div>\n",
       "<style scoped>\n",
       "    .dataframe tbody tr th:only-of-type {\n",
       "        vertical-align: middle;\n",
       "    }\n",
       "\n",
       "    .dataframe tbody tr th {\n",
       "        vertical-align: top;\n",
       "    }\n",
       "\n",
       "    .dataframe thead th {\n",
       "        text-align: right;\n",
       "    }\n",
       "</style>\n",
       "<table border=\"1\" class=\"dataframe\">\n",
       "  <thead>\n",
       "    <tr style=\"text-align: right;\">\n",
       "      <th></th>\n",
       "      <th>id</th>\n",
       "      <th>category_id</th>\n",
       "      <th>car_price</th>\n",
       "      <th>car_doors</th>\n",
       "      <th>car_seats</th>\n",
       "      <th>car_mileage</th>\n",
       "      <th>car_engine</th>\n",
       "      <th>id.1</th>\n",
       "      <th>car_model_id</th>\n",
       "      <th>source_id</th>\n",
       "      <th>id.2</th>\n",
       "      <th>manufacturer_id</th>\n",
       "    </tr>\n",
       "  </thead>\n",
       "  <tbody>\n",
       "    <tr>\n",
       "      <th>count</th>\n",
       "      <td>65094.000000</td>\n",
       "      <td>65094.000000</td>\n",
       "      <td>6.509400e+04</td>\n",
       "      <td>65035.000000</td>\n",
       "      <td>65035.000000</td>\n",
       "      <td>6.503500e+04</td>\n",
       "      <td>0.0</td>\n",
       "      <td>65094.000000</td>\n",
       "      <td>65094.000000</td>\n",
       "      <td>65094.0</td>\n",
       "      <td>65094.000000</td>\n",
       "      <td>65094.000000</td>\n",
       "    </tr>\n",
       "    <tr>\n",
       "      <th>mean</th>\n",
       "      <td>41333.597874</td>\n",
       "      <td>437.358374</td>\n",
       "      <td>5.208582e+10</td>\n",
       "      <td>4.405981</td>\n",
       "      <td>5.600738</td>\n",
       "      <td>1.378595e+05</td>\n",
       "      <td>NaN</td>\n",
       "      <td>437.358374</td>\n",
       "      <td>437.358374</td>\n",
       "      <td>1.0</td>\n",
       "      <td>437.358374</td>\n",
       "      <td>15.762328</td>\n",
       "    </tr>\n",
       "    <tr>\n",
       "      <th>std</th>\n",
       "      <td>26120.794176</td>\n",
       "      <td>229.163331</td>\n",
       "      <td>5.327441e+12</td>\n",
       "      <td>1.069788</td>\n",
       "      <td>2.215018</td>\n",
       "      <td>4.924701e+06</td>\n",
       "      <td>NaN</td>\n",
       "      <td>229.163331</td>\n",
       "      <td>229.163331</td>\n",
       "      <td>0.0</td>\n",
       "      <td>229.163331</td>\n",
       "      <td>10.357279</td>\n",
       "    </tr>\n",
       "    <tr>\n",
       "      <th>min</th>\n",
       "      <td>1.000000</td>\n",
       "      <td>1.000000</td>\n",
       "      <td>7.000000e+06</td>\n",
       "      <td>0.000000</td>\n",
       "      <td>0.000000</td>\n",
       "      <td>0.000000e+00</td>\n",
       "      <td>NaN</td>\n",
       "      <td>1.000000</td>\n",
       "      <td>1.000000</td>\n",
       "      <td>1.0</td>\n",
       "      <td>1.000000</td>\n",
       "      <td>1.000000</td>\n",
       "    </tr>\n",
       "    <tr>\n",
       "      <th>25%</th>\n",
       "      <td>19641.250000</td>\n",
       "      <td>268.000000</td>\n",
       "      <td>3.350000e+08</td>\n",
       "      <td>4.000000</td>\n",
       "      <td>5.000000</td>\n",
       "      <td>0.000000e+00</td>\n",
       "      <td>NaN</td>\n",
       "      <td>268.000000</td>\n",
       "      <td>268.000000</td>\n",
       "      <td>1.0</td>\n",
       "      <td>268.000000</td>\n",
       "      <td>10.000000</td>\n",
       "    </tr>\n",
       "    <tr>\n",
       "      <th>50%</th>\n",
       "      <td>36705.500000</td>\n",
       "      <td>428.000000</td>\n",
       "      <td>5.350000e+08</td>\n",
       "      <td>5.000000</td>\n",
       "      <td>5.000000</td>\n",
       "      <td>9.999000e+03</td>\n",
       "      <td>NaN</td>\n",
       "      <td>428.000000</td>\n",
       "      <td>428.000000</td>\n",
       "      <td>1.0</td>\n",
       "      <td>428.000000</td>\n",
       "      <td>15.000000</td>\n",
       "    </tr>\n",
       "    <tr>\n",
       "      <th>75%</th>\n",
       "      <td>65176.750000</td>\n",
       "      <td>690.000000</td>\n",
       "      <td>8.760000e+08</td>\n",
       "      <td>5.000000</td>\n",
       "      <td>7.000000</td>\n",
       "      <td>5.400000e+04</td>\n",
       "      <td>NaN</td>\n",
       "      <td>690.000000</td>\n",
       "      <td>690.000000</td>\n",
       "      <td>1.0</td>\n",
       "      <td>690.000000</td>\n",
       "      <td>23.000000</td>\n",
       "    </tr>\n",
       "    <tr>\n",
       "      <th>max</th>\n",
       "      <td>89213.000000</td>\n",
       "      <td>1262.000000</td>\n",
       "      <td>8.140000e+14</td>\n",
       "      <td>58.000000</td>\n",
       "      <td>47.000000</td>\n",
       "      <td>9.876543e+08</td>\n",
       "      <td>NaN</td>\n",
       "      <td>1262.000000</td>\n",
       "      <td>1262.000000</td>\n",
       "      <td>1.0</td>\n",
       "      <td>1262.000000</td>\n",
       "      <td>85.000000</td>\n",
       "    </tr>\n",
       "  </tbody>\n",
       "</table>\n",
       "</div>"
      ],
      "text/plain": [
       "                 id   category_id     car_price     car_doors     car_seats  \\\n",
       "count  65094.000000  65094.000000  6.509400e+04  65035.000000  65035.000000   \n",
       "mean   41333.597874    437.358374  5.208582e+10      4.405981      5.600738   \n",
       "std    26120.794176    229.163331  5.327441e+12      1.069788      2.215018   \n",
       "min        1.000000      1.000000  7.000000e+06      0.000000      0.000000   \n",
       "25%    19641.250000    268.000000  3.350000e+08      4.000000      5.000000   \n",
       "50%    36705.500000    428.000000  5.350000e+08      5.000000      5.000000   \n",
       "75%    65176.750000    690.000000  8.760000e+08      5.000000      7.000000   \n",
       "max    89213.000000   1262.000000  8.140000e+14     58.000000     47.000000   \n",
       "\n",
       "        car_mileage  car_engine          id.1  car_model_id  source_id  \\\n",
       "count  6.503500e+04         0.0  65094.000000  65094.000000    65094.0   \n",
       "mean   1.378595e+05         NaN    437.358374    437.358374        1.0   \n",
       "std    4.924701e+06         NaN    229.163331    229.163331        0.0   \n",
       "min    0.000000e+00         NaN      1.000000      1.000000        1.0   \n",
       "25%    0.000000e+00         NaN    268.000000    268.000000        1.0   \n",
       "50%    9.999000e+03         NaN    428.000000    428.000000        1.0   \n",
       "75%    5.400000e+04         NaN    690.000000    690.000000        1.0   \n",
       "max    9.876543e+08         NaN   1262.000000   1262.000000        1.0   \n",
       "\n",
       "               id.2  manufacturer_id  \n",
       "count  65094.000000     65094.000000  \n",
       "mean     437.358374        15.762328  \n",
       "std      229.163331        10.357279  \n",
       "min        1.000000         1.000000  \n",
       "25%      268.000000        10.000000  \n",
       "50%      428.000000        15.000000  \n",
       "75%      690.000000        23.000000  \n",
       "max     1262.000000        85.000000  "
      ]
     },
     "execution_count": 4,
     "metadata": {},
     "output_type": "execute_result"
    }
   ],
   "source": [
    "data.describe()"
   ]
  },
  {
   "cell_type": "code",
   "execution_count": 17,
   "id": "77cce142",
   "metadata": {},
   "outputs": [],
   "source": [
    "countNaData = data.isna().sum()"
   ]
  },
  {
   "cell_type": "code",
   "execution_count": 20,
   "id": "48aacee3",
   "metadata": {},
   "outputs": [
    {
     "data": {
      "text/plain": [
       "id                     0\n",
       "category_id            0\n",
       "hash_url               0\n",
       "url                    0\n",
       "thumbnail            716\n",
       "seller_location        0\n",
       "car_title              0\n",
       "car_year               0\n",
       "car_price              0\n",
       "car_origin            59\n",
       "car_condition         59\n",
       "car_type              59\n",
       "car_color             59\n",
       "car_fuel              60\n",
       "car_doors             59\n",
       "car_seats             59\n",
       "car_gearbox           59\n",
       "car_mileage           59\n",
       "car_engine         65094\n",
       "createdAt              0\n",
       "updatedAt              0\n",
       "id.1                   0\n",
       "car_model_id           0\n",
       "source_id              0\n",
       "id.2                   0\n",
       "manufacturer_id        0\n",
       "model                  0\n",
       "cname                  0\n",
       "dtype: int64"
      ]
     },
     "execution_count": 20,
     "metadata": {},
     "output_type": "execute_result"
    }
   ],
   "source": [
    "countNaData"
   ]
  },
  {
   "cell_type": "code",
   "execution_count": 19,
   "id": "1fecf3da",
   "metadata": {},
   "outputs": [
    {
     "ename": "TypeError",
     "evalue": "bar() missing 1 required positional argument: 'height'",
     "output_type": "error",
     "traceback": [
      "\u001b[0;31m---------------------------------------------------------------------------\u001b[0m",
      "\u001b[0;31mTypeError\u001b[0m                                 Traceback (most recent call last)",
      "\u001b[0;32m<ipython-input-19-392ad1ef0bcc>\u001b[0m in \u001b[0;36m<module>\u001b[0;34m\u001b[0m\n\u001b[0;32m----> 1\u001b[0;31m \u001b[0mplt\u001b[0m\u001b[0;34m.\u001b[0m\u001b[0mbar\u001b[0m\u001b[0;34m(\u001b[0m\u001b[0mcountNaData\u001b[0m\u001b[0;34m)\u001b[0m\u001b[0;34m\u001b[0m\u001b[0;34m\u001b[0m\u001b[0m\n\u001b[0m",
      "\u001b[0;31mTypeError\u001b[0m: bar() missing 1 required positional argument: 'height'"
     ]
    }
   ],
   "source": [
    "plt.bar(countNaData)"
   ]
  },
  {
   "cell_type": "code",
   "execution_count": null,
   "id": "fad91fba",
   "metadata": {},
   "outputs": [],
   "source": []
  }
 ],
 "metadata": {
  "kernelspec": {
   "display_name": "Python 3",
   "language": "python",
   "name": "python3"
  },
  "language_info": {
   "codemirror_mode": {
    "name": "ipython",
    "version": 3
   },
   "file_extension": ".py",
   "mimetype": "text/x-python",
   "name": "python",
   "nbconvert_exporter": "python",
   "pygments_lexer": "ipython3",
   "version": "3.8.8"
  }
 },
 "nbformat": 4,
 "nbformat_minor": 5
}
