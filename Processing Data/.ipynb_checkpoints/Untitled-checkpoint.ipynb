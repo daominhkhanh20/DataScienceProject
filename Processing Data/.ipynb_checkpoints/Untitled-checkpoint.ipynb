{
 "cells": [
  {
   "cell_type": "code",
   "execution_count": 1,
   "id": "bb23c5fb",
   "metadata": {},
   "outputs": [],
   "source": [
    "import pandas as pd"
   ]
  },
  {
   "cell_type": "code",
   "execution_count": 10,
   "id": "44a220f5",
   "metadata": {},
   "outputs": [],
   "source": [
    "data1 = pd.read_json('../Data/bonbanh.json')"
   ]
  },
  {
   "cell_type": "code",
   "execution_count": 11,
   "id": "f4aaf2a7",
   "metadata": {},
   "outputs": [],
   "source": [
    "data2 = pd.read_csv('../Data/data_bonbanh.csv')"
   ]
  },
  {
   "cell_type": "code",
   "execution_count": 50,
   "id": "507447ca",
   "metadata": {},
   "outputs": [],
   "source": [
    "tmp = data1.title.iloc[1]"
   ]
  },
  {
   "cell_type": "code",
   "execution_count": 51,
   "id": "425f0485",
   "metadata": {
    "scrolled": true
   },
   "outputs": [
    {
     "data": {
      "text/plain": [
       "5"
      ]
     },
     "execution_count": 51,
     "metadata": {},
     "output_type": "execute_result"
    }
   ],
   "source": [
    "len(tmp.split('\\t'))"
   ]
  },
  {
   "cell_type": "code",
   "execution_count": 52,
   "id": "efbb556b",
   "metadata": {},
   "outputs": [
    {
     "data": {
      "text/plain": [
       "(39303, 18)"
      ]
     },
     "execution_count": 52,
     "metadata": {},
     "output_type": "execute_result"
    }
   ],
   "source": [
    "data1.shape"
   ]
  },
  {
   "cell_type": "code",
   "execution_count": 20,
   "id": "445b8d92",
   "metadata": {},
   "outputs": [
    {
     "data": {
      "text/plain": [
       "id                                                             89207\n",
       "category_id                                                      779\n",
       "hash_url                            cde093b483409df1b9cac1b5b50a0c01\n",
       "url                https://bonbanh.com/xe-vinfast-vf-e34--2021-40...\n",
       "thumbnail          https://cdn.muaotocu.info/file/crash-finder/ca...\n",
       "seller_location                                               TP HCM\n",
       "car_title                                      VinFast VF e34 - 2021\n",
       "car_year                                                        2021\n",
       "car_price                                                  590000000\n",
       "car_origin                                        Lắp ráp trong nước\n",
       "car_condition                                                 Xe mới\n",
       "car_type                                                   Hatchback\n",
       "car_color                                                       Xanh\n",
       "car_fuel                                                        Điện\n",
       "car_doors                                                        5.0\n",
       "car_seats                                                        5.0\n",
       "car_gearbox                                               Số tự động\n",
       "car_mileage                                                      0.0\n",
       "car_engine                                                       NaN\n",
       "createdAt                                   2021-11-06T17:25:58.000Z\n",
       "updatedAt                                   2021-11-06T23:06:43.000Z\n",
       "id.1                                                             779\n",
       "car_model_id                                                     779\n",
       "source_id                                                          1\n",
       "id.2                                                             779\n",
       "manufacturer_id                                                   24\n",
       "model                                                         VF E34\n",
       "cname                                                 VinFast VF E34\n",
       "Name: 6, dtype: object"
      ]
     },
     "execution_count": 20,
     "metadata": {},
     "output_type": "execute_result"
    }
   ],
   "source": [
    "data2.iloc[6]"
   ]
  },
  {
   "cell_type": "code",
   "execution_count": null,
   "id": "a91a8c7e",
   "metadata": {},
   "outputs": [],
   "source": []
  }
 ],
 "metadata": {
  "kernelspec": {
   "display_name": "Python 3",
   "language": "python",
   "name": "python3"
  },
  "language_info": {
   "codemirror_mode": {
    "name": "ipython",
    "version": 3
   },
   "file_extension": ".py",
   "mimetype": "text/x-python",
   "name": "python",
   "nbconvert_exporter": "python",
   "pygments_lexer": "ipython3",
   "version": "3.8.8"
  }
 },
 "nbformat": 4,
 "nbformat_minor": 5
}
