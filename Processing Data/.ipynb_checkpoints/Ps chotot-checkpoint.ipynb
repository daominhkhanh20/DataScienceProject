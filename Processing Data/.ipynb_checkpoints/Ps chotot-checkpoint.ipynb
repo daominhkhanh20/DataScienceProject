{
 "cells": [
  {
   "cell_type": "code",
   "execution_count": 8,
   "id": "47f2c02b",
   "metadata": {},
   "outputs": [],
   "source": [
    "import pandas as pd\n",
    "import numpy as np\n",
    "from tqdm import tqdm"
   ]
  },
  {
   "cell_type": "code",
   "execution_count": 2,
   "id": "be379ef0",
   "metadata": {},
   "outputs": [
    {
     "name": "stderr",
     "output_type": "stream",
     "text": [
      "/home/vukhanh/anaconda3/lib/python3.8/site-packages/IPython/core/interactiveshell.py:3165: DtypeWarning: Columns (55,56) have mixed types.Specify dtype option on import or set low_memory=False.\n",
      "  has_raised = await self.run_ast_nodes(code_ast.body, cell_name,\n"
     ]
    }
   ],
   "source": [
    "data = pd.read_csv('../Data/data.csv')"
   ]
  },
  {
   "cell_type": "code",
   "execution_count": 95,
   "id": "b721d515",
   "metadata": {},
   "outputs": [],
   "source": [
    "cols= ['date','body','mfdate','region_name','price','carmodel','carbrand','carmodel_name','carseats',\n",
    "      'condition_ad_name','mileage_v2','gearbox','fuel','carcolor','carorigin',\n",
    "       'cartype']"
   ]
  },
  {
   "cell_type": "code",
   "execution_count": 96,
   "id": "3969e40f",
   "metadata": {},
   "outputs": [],
   "source": [
    "res = pd.DataFrame(data[cols])"
   ]
  },
  {
   "cell_type": "code",
   "execution_count": 97,
   "id": "40b4886f",
   "metadata": {
    "scrolled": true
   },
   "outputs": [
    {
     "data": {
      "text/plain": [
       "date                                                      2 phút trước\n",
       "body                 🔹 HÀNG MỚI VỀ\\n🔹 BMW 520i \\n🔹 MODEL 2016\\n🔹 Od...\n",
       "mfdate                                                          2015.0\n",
       "region_name                                                     Hà Nội\n",
       "price                                                     1170000000.0\n",
       "carmodel                                                         321.0\n",
       "carbrand                                                           9.0\n",
       "carmodel_name                                                 5 Series\n",
       "carseats                                                           4.0\n",
       "condition_ad_name                                           Đã sử dụng\n",
       "mileage_v2                                                     50000.0\n",
       "gearbox                                                            1.0\n",
       "fuel                                                               1.0\n",
       "carcolor                                                           1.0\n",
       "carorigin                                                          9.0\n",
       "cartype                                                            1.0\n",
       "Name: 0, dtype: object"
      ]
     },
     "execution_count": 97,
     "metadata": {},
     "output_type": "execute_result"
    }
   ],
   "source": [
    "res.iloc[0]"
   ]
  },
  {
   "cell_type": "markdown",
   "id": "1a52f380",
   "metadata": {},
   "source": [
    "# Brand Name"
   ]
  },
  {
   "cell_type": "code",
   "execution_count": 98,
   "id": "a343fcad",
   "metadata": {},
   "outputs": [],
   "source": [
    "def to_string(colA,colB):\n",
    "    res[colB] =''\n",
    "    tmp_dict = pd.read_csv('../util/Data/{}.csv'.format(colB))\n",
    "    for x in tqdm(range(res.shape[0])):\n",
    "        key = res.loc[x,colA]\n",
    "        if pd.notna(key):\n",
    "            result = tmp_dict[tmp_dict[colA] == key]\n",
    "            if result.shape[0] > 0:\n",
    "                value = result.iloc[0,2]\n",
    "            else:\n",
    "                continue\n",
    "            res.loc[x,colB] = value"
   ]
  },
  {
   "cell_type": "code",
   "execution_count": 99,
   "id": "800c96f5",
   "metadata": {},
   "outputs": [
    {
     "name": "stderr",
     "output_type": "stream",
     "text": [
      "100%|██████████| 30360/30360 [00:30<00:00, 982.48it/s] \n"
     ]
    }
   ],
   "source": [
    "to_string('carbrand','brand_name')"
   ]
  },
  {
   "cell_type": "code",
   "execution_count": 100,
   "id": "24858e67",
   "metadata": {},
   "outputs": [
    {
     "name": "stderr",
     "output_type": "stream",
     "text": [
      "100%|██████████| 30360/30360 [00:31<00:00, 951.49it/s] \n"
     ]
    }
   ],
   "source": [
    "to_string('carmodel','car_model')"
   ]
  },
  {
   "cell_type": "code",
   "execution_count": 101,
   "id": "d4df8d9f",
   "metadata": {},
   "outputs": [
    {
     "name": "stderr",
     "output_type": "stream",
     "text": [
      "100%|██████████| 30360/30360 [00:28<00:00, 1066.84it/s]\n"
     ]
    }
   ],
   "source": [
    "to_string('fuel','car_fuel')"
   ]
  },
  {
   "cell_type": "code",
   "execution_count": 102,
   "id": "f0e3971f",
   "metadata": {},
   "outputs": [
    {
     "name": "stderr",
     "output_type": "stream",
     "text": [
      "100%|██████████| 30360/30360 [00:31<00:00, 977.05it/s] \n"
     ]
    }
   ],
   "source": [
    "to_string('gearbox','gear')"
   ]
  },
  {
   "cell_type": "code",
   "execution_count": 103,
   "id": "93a96384",
   "metadata": {},
   "outputs": [
    {
     "name": "stderr",
     "output_type": "stream",
     "text": [
      "100%|██████████| 30360/30360 [00:26<00:00, 1128.93it/s]\n"
     ]
    }
   ],
   "source": [
    "to_string('carorigin','origin')"
   ]
  },
  {
   "cell_type": "code",
   "execution_count": 104,
   "id": "e68108d4",
   "metadata": {},
   "outputs": [
    {
     "name": "stderr",
     "output_type": "stream",
     "text": [
      "100%|██████████| 30360/30360 [00:28<00:00, 1068.18it/s]\n"
     ]
    }
   ],
   "source": [
    "to_string('cartype','style')"
   ]
  },
  {
   "cell_type": "code",
   "execution_count": 105,
   "id": "a8baa46c",
   "metadata": {},
   "outputs": [],
   "source": [
    "cols= ['body','origin','condition_ad_name','mileage_v2','carcolor','carseats','gear','mfdate','price',\n",
    "       'style','date','car_model','car_fuel','brand_name','region_name']"
   ]
  },
  {
   "cell_type": "code",
   "execution_count": 109,
   "id": "0f1b9f33",
   "metadata": {},
   "outputs": [],
   "source": [
    "last_res = res[cols]"
   ]
  },
  {
   "cell_type": "code",
   "execution_count": 111,
   "id": "63bfa1ce",
   "metadata": {},
   "outputs": [],
   "source": [
    "last_res.columns = ['description', 'origin', 'status', 'car_mileage', 'car_color',\n",
    "       'car_seats', 'gear', 'car_year', 'car_price', 'style', 'createdAt',\n",
    "       'model', 'fuel_x', 'brand_name', 'region_name']"
   ]
  },
  {
   "cell_type": "code",
   "execution_count": 113,
   "id": "a70e8d48",
   "metadata": {},
   "outputs": [],
   "source": [
    "last_res.to_csv('../Data/chotot_integrate.csv',index=False)"
   ]
  },
  {
   "cell_type": "code",
   "execution_count": null,
   "id": "109206b6",
   "metadata": {},
   "outputs": [],
   "source": []
  }
 ],
 "metadata": {
  "kernelspec": {
   "display_name": "Python 3",
   "language": "python",
   "name": "python3"
  },
  "language_info": {
   "codemirror_mode": {
    "name": "ipython",
    "version": 3
   },
   "file_extension": ".py",
   "mimetype": "text/x-python",
   "name": "python",
   "nbconvert_exporter": "python",
   "pygments_lexer": "ipython3",
   "version": "3.8.8"
  }
 },
 "nbformat": 4,
 "nbformat_minor": 5
}
