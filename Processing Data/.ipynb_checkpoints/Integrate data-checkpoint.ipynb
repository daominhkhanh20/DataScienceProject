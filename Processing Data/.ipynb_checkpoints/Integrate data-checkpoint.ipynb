{
 "cells": [
  {
   "cell_type": "code",
   "execution_count": 1,
   "id": "13125543",
   "metadata": {},
   "outputs": [],
   "source": [
    "import pandas as pd"
   ]
  },
  {
   "cell_type": "code",
   "execution_count": 18,
   "id": "7fefb7b6",
   "metadata": {},
   "outputs": [],
   "source": [
    "data_chotot = pd.read_csv('../Data/chotot_integrate.csv')"
   ]
  },
  {
   "cell_type": "code",
   "execution_count": 19,
   "id": "ba6ee3e4",
   "metadata": {},
   "outputs": [],
   "source": [
    "data_bonbanh = pd.read_csv('../Data/bonbanh_integrate.csv')"
   ]
  },
  {
   "cell_type": "code",
   "execution_count": 20,
   "id": "e1432e7c",
   "metadata": {},
   "outputs": [],
   "source": [
    "data = pd.concat([data_chotot,data_bonbanh],axis = 0)"
   ]
  },
  {
   "cell_type": "code",
   "execution_count": 21,
   "id": "6fc39b27",
   "metadata": {},
   "outputs": [],
   "source": [
    "data.reset_index(inplace=True,drop=True)"
   ]
  },
  {
   "cell_type": "code",
   "execution_count": null,
   "id": "3b32aa3f",
   "metadata": {},
   "outputs": [],
   "source": [
    "data.to_csv('../Data/AggregateData.csv',index=False)"
   ]
  },
  {
   "cell_type": "code",
   "execution_count": null,
   "id": "21069dca",
   "metadata": {},
   "outputs": [],
   "source": []
  }
 ],
 "metadata": {
  "kernelspec": {
   "display_name": "Python 3",
   "language": "python",
   "name": "python3"
  },
  "language_info": {
   "codemirror_mode": {
    "name": "ipython",
    "version": 3
   },
   "file_extension": ".py",
   "mimetype": "text/x-python",
   "name": "python",
   "nbconvert_exporter": "python",
   "pygments_lexer": "ipython3",
   "version": "3.8.8"
  }
 },
 "nbformat": 4,
 "nbformat_minor": 5
}
