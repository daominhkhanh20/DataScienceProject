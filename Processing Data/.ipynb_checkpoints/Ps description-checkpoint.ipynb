{
 "cells": [
  {
   "cell_type": "code",
   "execution_count": 1,
   "id": "f7ea1303",
   "metadata": {},
   "outputs": [],
   "source": [
    "import pandas as pd\n",
    "import numpy as np\n",
    "import unicodedata\n",
    "import regex as re"
   ]
  },
  {
   "cell_type": "code",
   "execution_count": 2,
   "id": "f8056407",
   "metadata": {},
   "outputs": [
    {
     "name": "stderr",
     "output_type": "stream",
     "text": [
      "F:\\AnacondaPackage\\lib\\site-packages\\IPython\\core\\interactiveshell.py:3444: DtypeWarning: Columns (15) have mixed types.Specify dtype option on import or set low_memory=False.\n",
      "  exec(code_obj, self.user_global_ns, self.user_ns)\n"
     ]
    }
   ],
   "source": [
    "data = pd.read_csv('../Data/AggregateData.csv')"
   ]
  },
  {
   "cell_type": "code",
   "execution_count": 5,
   "id": "5b0e05e8",
   "metadata": {},
   "outputs": [
    {
     "ename": "ModuleNotFoundError",
     "evalue": "No module named 'pyvi'",
     "output_type": "error",
     "traceback": [
      "\u001b[1;31m---------------------------------------------------------------------------\u001b[0m",
      "\u001b[1;31mModuleNotFoundError\u001b[0m                       Traceback (most recent call last)",
      "\u001b[1;32m~\\AppData\\Local\\Temp/ipykernel_760/221960578.py\u001b[0m in \u001b[0;36m<module>\u001b[1;34m\u001b[0m\n\u001b[1;32m----> 1\u001b[1;33m \u001b[1;32mfrom\u001b[0m \u001b[0mpyvi\u001b[0m \u001b[1;32mimport\u001b[0m \u001b[0mViTokenizer\u001b[0m\u001b[1;33m,\u001b[0m \u001b[0mViPosTagger\u001b[0m\u001b[1;33m\u001b[0m\u001b[1;33m\u001b[0m\u001b[0m\n\u001b[0m\u001b[0;32m      2\u001b[0m \u001b[1;32mdef\u001b[0m \u001b[0mchuan_hoa_unicode\u001b[0m\u001b[1;33m(\u001b[0m\u001b[0mtext\u001b[0m\u001b[1;33m)\u001b[0m\u001b[1;33m:\u001b[0m\u001b[1;33m\u001b[0m\u001b[1;33m\u001b[0m\u001b[0m\n\u001b[0;32m      3\u001b[0m     \u001b[0mtext\u001b[0m \u001b[1;33m=\u001b[0m \u001b[0municodedata\u001b[0m\u001b[1;33m.\u001b[0m\u001b[0mnormalize\u001b[0m\u001b[1;33m(\u001b[0m\u001b[1;34m'NFC'\u001b[0m\u001b[1;33m,\u001b[0m \u001b[0mtext\u001b[0m\u001b[1;33m)\u001b[0m\u001b[1;33m\u001b[0m\u001b[1;33m\u001b[0m\u001b[0m\n\u001b[0;32m      4\u001b[0m     \u001b[1;32mreturn\u001b[0m \u001b[0mtext\u001b[0m\u001b[1;33m\u001b[0m\u001b[1;33m\u001b[0m\u001b[0m\n\u001b[0;32m      5\u001b[0m \u001b[1;32mdef\u001b[0m \u001b[0mtach_tu_tieng_viet\u001b[0m\u001b[1;33m(\u001b[0m\u001b[0mtext\u001b[0m\u001b[1;33m)\u001b[0m\u001b[1;33m:\u001b[0m\u001b[1;33m\u001b[0m\u001b[1;33m\u001b[0m\u001b[0m\n",
      "\u001b[1;31mModuleNotFoundError\u001b[0m: No module named 'pyvi'"
     ]
    }
   ],
   "source": [
    "from pyvi import ViTokenizer, ViPosTagger\n",
    "def chuan_hoa_unicode(text):\n",
    "    text = unicodedata.normalize('NFC', text)\n",
    "    return text\n",
    "def tach_tu_tieng_viet(text):\n",
    "    text = ViTokenizer.tokenize(text)\n",
    "    return text\n",
    "def chuan_hoa_cau(text):\n",
    "    text = re.sub(r'[^\\s\\wáàảãạăắằẳẵặâấầẩẫậéèẻẽẹêếềểễệóòỏõọôốồổỗộơớờởỡợíìỉĩịúùủũụưứừửữựýỳỷỹỵđ_]',' ',text)\n",
    "    text = re.sub(r'\\s+', ' ', text).strip()\n",
    "    return text"
   ]
  },
  {
   "cell_type": "code",
   "execution_count": null,
   "id": "17719f1f",
   "metadata": {},
   "outputs": [],
   "source": [
    "\n",
    "def tien_xu_li(text):\n",
    "    text = chuan_hoa_unicode(text)\n",
    "    text = tach_tu_tieng_viet(text)\n",
    "    text = text.lower()\n",
    "    text = chuan_hoa_cau(text)\n",
    "    return text"
   ]
  },
  {
   "cell_type": "code",
   "execution_count": null,
   "id": "ed207002",
   "metadata": {},
   "outputs": [],
   "source": [
    "from tqdm import tqdm"
   ]
  },
  {
   "cell_type": "code",
   "execution_count": null,
   "id": "68fdaee8",
   "metadata": {},
   "outputs": [],
   "source": [
    "data['ps_description'] = ''\n",
    "for x in tqdm(range(data.shape[0])):\n",
    "    data.loc[x,'ps_description'] = tien_xu_li(data.loc[x,'description'])"
   ]
  },
  {
   "cell_type": "code",
   "execution_count": null,
   "id": "3531b48a",
   "metadata": {},
   "outputs": [],
   "source": [
    "data.to_csv('dataPs_description.csv',index=False)"
   ]
  },
  {
   "cell_type": "code",
   "execution_count": null,
   "id": "12562607",
   "metadata": {},
   "outputs": [],
   "source": [
    "from sklearn.feature_extraction.text import CountVectorizer"
   ]
  },
  {
   "cell_type": "code",
   "execution_count": null,
   "id": "4c7fa7e9",
   "metadata": {},
   "outputs": [],
   "source": [
    "vectorizer = CountVectorizer()\n",
    "X = vectorizer.fit_transform(data['ps_description'])"
   ]
  },
  {
   "cell_type": "code",
   "execution_count": null,
   "id": "54ff2610",
   "metadata": {},
   "outputs": [],
   "source": [
    "feature = np.asarray(vectorizer.get_feature_names())"
   ]
  },
  {
   "cell_type": "code",
   "execution_count": null,
   "id": "28e5618b",
   "metadata": {},
   "outputs": [],
   "source": [
    "sumX = np.sum(X,axis=0)"
   ]
  },
  {
   "cell_type": "code",
   "execution_count": null,
   "id": "59cc7165",
   "metadata": {},
   "outputs": [],
   "source": [
    "sumX = np.array(sumX)\n",
    "sumX = sumX[0]"
   ]
  },
  {
   "cell_type": "markdown",
   "id": "351c3080",
   "metadata": {},
   "source": [
    "# Array of string have frequency from low to high"
   ]
  },
  {
   "cell_type": "code",
   "execution_count": null,
   "id": "d7f32730",
   "metadata": {},
   "outputs": [],
   "source": [
    "index = sumX.argsort()"
   ]
  },
  {
   "cell_type": "code",
   "execution_count": null,
   "id": "17769c42",
   "metadata": {},
   "outputs": [],
   "source": [
    "np.savetxt('../Feature/featureAsc.txt',feature[index],fmt='%s')"
   ]
  },
  {
   "cell_type": "code",
   "execution_count": null,
   "id": "24212e06",
   "metadata": {},
   "outputs": [],
   "source": [
    "arr = np.loadtxt('../Feature/featureAsc.txt',dtype='str')"
   ]
  },
  {
   "cell_type": "code",
   "execution_count": null,
   "id": "c2ce0b13",
   "metadata": {},
   "outputs": [],
   "source": []
  }
 ],
 "metadata": {
  "kernelspec": {
   "display_name": "Python 3 (ipykernel)",
   "language": "python",
   "name": "python3"
  },
  "language_info": {
   "codemirror_mode": {
    "name": "ipython",
    "version": 3
   },
   "file_extension": ".py",
   "mimetype": "text/x-python",
   "name": "python",
   "nbconvert_exporter": "python",
   "pygments_lexer": "ipython3",
   "version": "3.9.7"
  }
 },
 "nbformat": 4,
 "nbformat_minor": 5
}
