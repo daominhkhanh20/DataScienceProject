{
 "cells": [
  {
   "cell_type": "code",
   "execution_count": 7,
   "id": "bae0aca9",
   "metadata": {},
   "outputs": [],
   "source": [
    "import pandas as pd\n",
    "import numpy as np\n",
    "import unicodedata\n",
    "import regex as re"
   ]
  },
  {
   "cell_type": "code",
   "execution_count": 8,
   "id": "a5250a45",
   "metadata": {},
   "outputs": [],
   "source": [
    "data = pd.read_csv('../Data/AggregateData.csv')"
   ]
  },
  {
   "cell_type": "code",
   "execution_count": 9,
   "id": "fc7501f5",
   "metadata": {},
   "outputs": [],
   "source": [
    "from pyvi import ViTokenizer, ViPosTagger\n",
    "def chuan_hoa_unicode(text):\n",
    "    text = unicodedata.normalize('NFC', text)\n",
    "    return text\n",
    "def tach_tu_tieng_viet(text):\n",
    "    text = ViTokenizer.tokenize(text)\n",
    "    return text\n",
    "def chuan_hoa_cau(text):\n",
    "    text = re.sub(r'[^\\s\\wáàảãạăắằẳẵặâấầẩẫậéèẻẽẹêếềểễệóòỏõọôốồổỗộơớờởỡợíìỉĩịúùủũụưứừửữựýỳỷỹỵđ_]',' ',text)\n",
    "    text = re.sub(r'\\s+', ' ', text).strip()\n",
    "    return text"
   ]
  },
  {
   "cell_type": "code",
   "execution_count": 10,
   "id": "5c84a98d",
   "metadata": {},
   "outputs": [],
   "source": [
    "\n",
    "def tien_xu_li(text):\n",
    "    text = chuan_hoa_unicode(text)\n",
    "    text = tach_tu_tieng_viet(text)\n",
    "    text = text.lower()\n",
    "    text = chuan_hoa_cau(text)\n",
    "    return text"
   ]
  },
  {
   "cell_type": "code",
   "execution_count": 11,
   "id": "fdda598e",
   "metadata": {},
   "outputs": [],
   "source": [
    "from tqdm import tqdm"
   ]
  },
  {
   "cell_type": "code",
   "execution_count": 12,
   "id": "34946741",
   "metadata": {},
   "outputs": [
    {
     "name": "stderr",
     "output_type": "stream",
     "text": [
      "100%|███████████████████████████████████████████████████████████████████████████| 70889/70889 [08:55<00:00, 132.42it/s]\n"
     ]
    }
   ],
   "source": [
    "data['ps_description'] = ''\n",
    "for x in tqdm(range(data.shape[0])):\n",
    "    data.loc[x,'ps_description'] = tien_xu_li(data.loc[x,'description'])"
   ]
  },
  {
   "cell_type": "code",
   "execution_count": 13,
   "id": "7efa5972",
   "metadata": {},
   "outputs": [],
   "source": [
    "data.to_csv('dataPs_description.csv',index=False)"
   ]
  },
  {
   "cell_type": "code",
   "execution_count": 14,
   "id": "ac6bb239",
   "metadata": {},
   "outputs": [],
   "source": [
    "from sklearn.feature_extraction.text import CountVectorizer"
   ]
  },
  {
   "cell_type": "code",
   "execution_count": 15,
   "id": "20bebe5a",
   "metadata": {},
   "outputs": [],
   "source": [
    "vectorizer = CountVectorizer()\n",
    "X = vectorizer.fit_transform(data['ps_description'])"
   ]
  },
  {
   "cell_type": "code",
   "execution_count": 16,
   "id": "7eff2fbc",
   "metadata": {},
   "outputs": [
    {
     "name": "stderr",
     "output_type": "stream",
     "text": [
      "F:\\AnacondaPackage\\envs\\toolkit\\lib\\site-packages\\sklearn\\utils\\deprecation.py:87: FutureWarning: Function get_feature_names is deprecated; get_feature_names is deprecated in 1.0 and will be removed in 1.2. Please use get_feature_names_out instead.\n",
      "  warnings.warn(msg, category=FutureWarning)\n"
     ]
    }
   ],
   "source": [
    "feature = np.asarray(vectorizer.get_feature_names())"
   ]
  },
  {
   "cell_type": "code",
   "execution_count": 17,
   "id": "4cb49f3f",
   "metadata": {},
   "outputs": [],
   "source": [
    "sumX = np.sum(X,axis=0)"
   ]
  },
  {
   "cell_type": "code",
   "execution_count": 18,
   "id": "1379347d",
   "metadata": {},
   "outputs": [],
   "source": [
    "sumX = np.array(sumX)\n",
    "sumX = sumX[0]"
   ]
  },
  {
   "cell_type": "markdown",
   "id": "15a3a2e5",
   "metadata": {},
   "source": [
    "# Array of string have frequency from low to high"
   ]
  },
  {
   "cell_type": "code",
   "execution_count": 19,
   "id": "f840dcf6",
   "metadata": {},
   "outputs": [],
   "source": [
    "index = sumX.argsort()"
   ]
  },
  {
   "cell_type": "code",
   "execution_count": 21,
   "id": "592d1197",
   "metadata": {},
   "outputs": [],
   "source": [
    "np.savetxt('../Feature/featureAsc.txt',feature[index],fmt='%s',encoding='utf8' )"
   ]
  },
  {
   "cell_type": "code",
   "execution_count": 23,
   "id": "6d1c7a83",
   "metadata": {},
   "outputs": [],
   "source": [
    "arr = np.loadtxt('../Feature/featureAsc.txt',dtype='str',encoding='utf8')"
   ]
  },
  {
   "cell_type": "code",
   "execution_count": null,
   "id": "ec75de0e",
   "metadata": {},
   "outputs": [],
   "source": []
  }
 ],
 "metadata": {
  "kernelspec": {
   "display_name": "Python 3",
   "language": "python",
   "name": "python3"
  },
  "language_info": {
   "codemirror_mode": {
    "name": "ipython",
    "version": 3
   },
   "file_extension": ".py",
   "mimetype": "text/x-python",
   "name": "python",
   "nbconvert_exporter": "python",
   "pygments_lexer": "ipython3",
   "version": "3.8.8"
  }
 },
 "nbformat": 4,
 "nbformat_minor": 5
}
