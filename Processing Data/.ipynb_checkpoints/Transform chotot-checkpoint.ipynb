{
 "cells": [
  {
   "cell_type": "code",
   "execution_count": 46,
   "id": "47f2c02b",
   "metadata": {},
   "outputs": [],
   "source": [
    "import pandas as pd\n",
    "import numpy as np\n",
    "from tqdm import tqdm"
   ]
  },
  {
   "cell_type": "code",
   "execution_count": 47,
   "id": "be379ef0",
   "metadata": {},
   "outputs": [],
   "source": [
    "data = pd.read_csv('../CrawlData/chotot_api.csv')"
   ]
  },
  {
   "cell_type": "code",
   "execution_count": 48,
   "id": "b721d515",
   "metadata": {},
   "outputs": [],
   "source": [
    "cols= ['date','body','mfdate','region_name','price','carmodel','carbrand','carmodel_name','carseats',\n",
    "      'condition_ad_name','mileage_v2','gearbox','fuel','carcolor','carorigin',\n",
    "       'cartype','image']"
   ]
  },
  {
   "cell_type": "code",
   "execution_count": 49,
   "id": "3969e40f",
   "metadata": {},
   "outputs": [],
   "source": [
    "res = pd.DataFrame(data[cols])"
   ]
  },
  {
   "cell_type": "markdown",
   "id": "1a52f380",
   "metadata": {},
   "source": [
    "# Brand Name"
   ]
  },
  {
   "cell_type": "code",
   "execution_count": 50,
   "id": "a343fcad",
   "metadata": {},
   "outputs": [],
   "source": [
    "def to_string(colA,colB):\n",
    "    res[colB] =''\n",
    "    tmp_dict = pd.read_csv('../util/Data/{}.csv'.format(colB))\n",
    "    for x in tqdm(range(res.shape[0])):\n",
    "        key = res.loc[x,colA]\n",
    "        if pd.notna(key):\n",
    "            result = tmp_dict[tmp_dict[colA] == key]\n",
    "            if result.shape[0] > 0:\n",
    "                value = result.iloc[0,2]\n",
    "            else:\n",
    "                continue\n",
    "            res.loc[x,colB] = value"
   ]
  },
  {
   "cell_type": "code",
   "execution_count": 51,
   "id": "800c96f5",
   "metadata": {},
   "outputs": [
    {
     "name": "stderr",
     "output_type": "stream",
     "text": [
      "100%|███████████████████████████████████████████████████████| 30360/30360 [00:40<00:00, 747.52it/s]\n"
     ]
    }
   ],
   "source": [
    "to_string('carbrand','brand_name')"
   ]
  },
  {
   "cell_type": "code",
   "execution_count": 52,
   "id": "24858e67",
   "metadata": {},
   "outputs": [
    {
     "name": "stderr",
     "output_type": "stream",
     "text": [
      "100%|███████████████████████████████████████████████████████| 30360/30360 [00:59<00:00, 511.78it/s]\n"
     ]
    }
   ],
   "source": [
    "to_string('carmodel','car_model')"
   ]
  },
  {
   "cell_type": "code",
   "execution_count": 53,
   "id": "d4df8d9f",
   "metadata": {},
   "outputs": [
    {
     "name": "stderr",
     "output_type": "stream",
     "text": [
      "100%|███████████████████████████████████████████████████████| 30360/30360 [00:39<00:00, 760.47it/s]\n"
     ]
    }
   ],
   "source": [
    "to_string('fuel','car_fuel')"
   ]
  },
  {
   "cell_type": "code",
   "execution_count": 54,
   "id": "f0e3971f",
   "metadata": {},
   "outputs": [
    {
     "name": "stderr",
     "output_type": "stream",
     "text": [
      "100%|███████████████████████████████████████████████████████| 30360/30360 [00:34<00:00, 883.96it/s]\n"
     ]
    }
   ],
   "source": [
    "to_string('gearbox','gear')"
   ]
  },
  {
   "cell_type": "code",
   "execution_count": 55,
   "id": "93a96384",
   "metadata": {},
   "outputs": [
    {
     "name": "stderr",
     "output_type": "stream",
     "text": [
      "100%|███████████████████████████████████████████████████████| 30360/30360 [00:37<00:00, 805.68it/s]\n"
     ]
    }
   ],
   "source": [
    "to_string('carorigin','origin')"
   ]
  },
  {
   "cell_type": "code",
   "execution_count": 56,
   "id": "e68108d4",
   "metadata": {},
   "outputs": [
    {
     "name": "stderr",
     "output_type": "stream",
     "text": [
      "100%|███████████████████████████████████████████████████████| 30360/30360 [00:33<00:00, 895.62it/s]\n"
     ]
    }
   ],
   "source": [
    "to_string('cartype','style')"
   ]
  },
  {
   "cell_type": "code",
   "execution_count": 57,
   "id": "5dd90822",
   "metadata": {},
   "outputs": [
    {
     "name": "stderr",
     "output_type": "stream",
     "text": [
      "100%|███████████████████████████████████████████████████████| 30360/30360 [00:31<00:00, 967.47it/s]\n"
     ]
    }
   ],
   "source": [
    "to_string('carcolor','car_color')"
   ]
  },
  {
   "cell_type": "markdown",
   "id": "e9d4a407",
   "metadata": {},
   "source": [
    "# Color"
   ]
  },
  {
   "cell_type": "code",
   "execution_count": 58,
   "id": "4d76b45f",
   "metadata": {},
   "outputs": [],
   "source": [
    "id1 = res[res['car_color']=='Xanh lá'].index\n",
    "id2 = res[res['car_color']=='Xanh dương'].index\n",
    "id = id1.append(id2)\n",
    "res.loc[id,'car_color'] = 'Xanh'"
   ]
  },
  {
   "cell_type": "code",
   "execution_count": 59,
   "id": "a8baa46c",
   "metadata": {},
   "outputs": [],
   "source": [
    "cols= ['body','origin','condition_ad_name','mileage_v2','car_color','carseats','gear','mfdate','price',\n",
    "       'style','date','car_model','car_fuel','brand_name','region_name','image']"
   ]
  },
  {
   "cell_type": "code",
   "execution_count": 60,
   "id": "0f1b9f33",
   "metadata": {},
   "outputs": [],
   "source": [
    "last_res = res[cols]"
   ]
  },
  {
   "cell_type": "code",
   "execution_count": null,
   "id": "124fc5c9",
   "metadata": {},
   "outputs": [],
   "source": []
  },
  {
   "cell_type": "code",
   "execution_count": 61,
   "id": "63bfa1ce",
   "metadata": {},
   "outputs": [],
   "source": [
    "last_res.columns = ['description', 'origin', 'status', 'car_mileage', 'car_color',\n",
    "       'car_seats', 'gear', 'car_year', 'car_price', 'style', 'createdAt',\n",
    "       'model', 'fuel_x', 'brand_name', 'region_name','url_image']"
   ]
  },
  {
   "cell_type": "code",
   "execution_count": 62,
   "id": "a70e8d48",
   "metadata": {},
   "outputs": [],
   "source": [
    "last_res.to_csv('../Data/chotot_integrate.csv',index=False)"
   ]
  },
  {
   "cell_type": "code",
   "execution_count": 64,
   "id": "109206b6",
   "metadata": {},
   "outputs": [
    {
     "name": "stdout",
     "output_type": "stream",
     "text": [
      "<class 'pandas.core.frame.DataFrame'>\n",
      "RangeIndex: 30360 entries, 0 to 30359\n",
      "Data columns (total 16 columns):\n",
      " #   Column       Non-Null Count  Dtype  \n",
      "---  ------       --------------  -----  \n",
      " 0   description  30360 non-null  object \n",
      " 1   origin       30360 non-null  object \n",
      " 2   status       30358 non-null  object \n",
      " 3   car_mileage  30358 non-null  float64\n",
      " 4   car_color    30360 non-null  object \n",
      " 5   car_seats    28924 non-null  float64\n",
      " 6   gear         30360 non-null  object \n",
      " 7   car_year     30168 non-null  float64\n",
      " 8   car_price    30294 non-null  float64\n",
      " 9   style        30360 non-null  object \n",
      " 10  createdAt    30360 non-null  object \n",
      " 11  model        30360 non-null  object \n",
      " 12  fuel_x       30360 non-null  object \n",
      " 13  brand_name   30360 non-null  object \n",
      " 14  region_name  30360 non-null  object \n",
      " 15  url_image    30257 non-null  object \n",
      "dtypes: float64(4), object(12)\n",
      "memory usage: 3.7+ MB\n"
     ]
    }
   ],
   "source": [
    "last_res.info()"
   ]
  },
  {
   "cell_type": "code",
   "execution_count": null,
   "id": "8f4bec87",
   "metadata": {},
   "outputs": [],
   "source": []
  }
 ],
 "metadata": {
  "kernelspec": {
   "display_name": "Python 3 (ipykernel)",
   "language": "python",
   "name": "python3"
  },
  "language_info": {
   "codemirror_mode": {
    "name": "ipython",
    "version": 3
   },
   "file_extension": ".py",
   "mimetype": "text/x-python",
   "name": "python",
   "nbconvert_exporter": "python",
   "pygments_lexer": "ipython3",
   "version": "3.9.7"
  }
 },
 "nbformat": 4,
 "nbformat_minor": 5
}
