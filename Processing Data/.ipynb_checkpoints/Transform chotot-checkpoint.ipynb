{
 "cells": [
  {
   "cell_type": "code",
   "execution_count": null,
   "id": "47f2c02b",
   "metadata": {},
   "outputs": [],
   "source": [
    "import pandas as pd\n",
    "import numpy as np\n",
    "from tqdm import tqdm"
   ]
  },
  {
   "cell_type": "code",
   "execution_count": null,
   "id": "be379ef0",
   "metadata": {},
   "outputs": [],
   "source": [
    "data = pd.read_csv('../Data/data.csv')"
   ]
  },
  {
   "cell_type": "code",
   "execution_count": null,
   "id": "b721d515",
   "metadata": {},
   "outputs": [],
   "source": [
    "cols= ['date','body','mfdate','region_name','price','carmodel','carbrand','carmodel_name','carseats',\n",
    "      'condition_ad_name','mileage_v2','gearbox','fuel','carcolor','carorigin',\n",
    "       'cartype']"
   ]
  },
  {
   "cell_type": "code",
   "execution_count": null,
   "id": "3969e40f",
   "metadata": {},
   "outputs": [],
   "source": [
    "res = pd.DataFrame(data[cols])"
   ]
  },
  {
   "cell_type": "code",
   "execution_count": null,
   "id": "40b4886f",
   "metadata": {
    "scrolled": true
   },
   "outputs": [],
   "source": [
    "res.iloc[0]"
   ]
  },
  {
   "cell_type": "markdown",
   "id": "1a52f380",
   "metadata": {},
   "source": [
    "# Brand Name"
   ]
  },
  {
   "cell_type": "code",
   "execution_count": null,
   "id": "a343fcad",
   "metadata": {},
   "outputs": [],
   "source": [
    "def to_string(colA,colB):\n",
    "    res[colB] =''\n",
    "    tmp_dict = pd.read_csv('../util/Data/{}.csv'.format(colB))\n",
    "    for x in tqdm(range(res.shape[0])):\n",
    "        key = res.loc[x,colA]\n",
    "        if pd.notna(key):\n",
    "            result = tmp_dict[tmp_dict[colA] == key]\n",
    "            if result.shape[0] > 0:\n",
    "                value = result.iloc[0,2]\n",
    "            else:\n",
    "                continue\n",
    "            res.loc[x,colB] = value"
   ]
  },
  {
   "cell_type": "code",
   "execution_count": null,
   "id": "800c96f5",
   "metadata": {},
   "outputs": [],
   "source": [
    "to_string('carbrand','brand_name')"
   ]
  },
  {
   "cell_type": "code",
   "execution_count": null,
   "id": "24858e67",
   "metadata": {},
   "outputs": [],
   "source": [
    "to_string('carmodel','car_model')"
   ]
  },
  {
   "cell_type": "code",
   "execution_count": null,
   "id": "d4df8d9f",
   "metadata": {},
   "outputs": [],
   "source": [
    "to_string('fuel','car_fuel')"
   ]
  },
  {
   "cell_type": "code",
   "execution_count": null,
   "id": "f0e3971f",
   "metadata": {},
   "outputs": [],
   "source": [
    "to_string('gearbox','gear')"
   ]
  },
  {
   "cell_type": "code",
   "execution_count": null,
   "id": "93a96384",
   "metadata": {},
   "outputs": [],
   "source": [
    "to_string('carorigin','origin')"
   ]
  },
  {
   "cell_type": "code",
   "execution_count": null,
   "id": "e68108d4",
   "metadata": {},
   "outputs": [],
   "source": [
    "to_string('cartype','style')"
   ]
  },
  {
   "cell_type": "code",
   "execution_count": null,
   "id": "5dd90822",
   "metadata": {},
   "outputs": [],
   "source": [
    "to_string('carcolor','car_color')"
   ]
  },
  {
   "cell_type": "code",
   "execution_count": null,
   "id": "a8baa46c",
   "metadata": {},
   "outputs": [],
   "source": [
    "cols= ['body','origin','condition_ad_name','mileage_v2','car_color','carseats','gear','mfdate','price',\n",
    "       'style','date','car_model','car_fuel','brand_name','region_name']"
   ]
  },
  {
   "cell_type": "code",
   "execution_count": null,
   "id": "0f1b9f33",
   "metadata": {},
   "outputs": [],
   "source": [
    "last_res = res[cols]"
   ]
  },
  {
   "cell_type": "code",
   "execution_count": null,
   "id": "63bfa1ce",
   "metadata": {},
   "outputs": [],
   "source": [
    "last_res.columns = ['description', 'origin', 'status', 'car_mileage', 'car_color',\n",
    "       'car_seats', 'gear', 'car_year', 'car_price', 'style', 'createdAt',\n",
    "       'model', 'fuel_x', 'brand_name', 'region_name']"
   ]
  },
  {
   "cell_type": "code",
   "execution_count": null,
   "id": "a70e8d48",
   "metadata": {},
   "outputs": [],
   "source": [
    "last_res.to_csv('../Data/chotot_integrate.csv',index=False)"
   ]
  },
  {
   "cell_type": "code",
   "execution_count": null,
   "id": "109206b6",
   "metadata": {},
   "outputs": [],
   "source": []
  }
 ],
 "metadata": {
  "kernelspec": {
   "display_name": "Python 3",
   "language": "python",
   "name": "python3"
  },
  "language_info": {
   "codemirror_mode": {
    "name": "ipython",
    "version": 3
   },
   "file_extension": ".py",
   "mimetype": "text/x-python",
   "name": "python",
   "nbconvert_exporter": "python",
   "pygments_lexer": "ipython3",
   "version": "3.8.8"
  }
 },
 "nbformat": 4,
 "nbformat_minor": 5
}
