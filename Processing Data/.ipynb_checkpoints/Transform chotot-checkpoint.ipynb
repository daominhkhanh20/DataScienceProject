{
 "cells": [
  {
   "cell_type": "code",
   "execution_count": 42,
   "id": "47f2c02b",
   "metadata": {},
   "outputs": [],
   "source": [
    "import pandas as pd\n",
    "import numpy as np\n",
    "from tqdm import tqdm"
   ]
  },
  {
   "cell_type": "code",
   "execution_count": 140,
   "id": "be379ef0",
   "metadata": {},
   "outputs": [
    {
     "name": "stderr",
     "output_type": "stream",
     "text": [
      "/home/vukhanh/anaconda3/lib/python3.8/site-packages/IPython/core/interactiveshell.py:3165: DtypeWarning: Columns (55,56) have mixed types.Specify dtype option on import or set low_memory=False.\n",
      "  has_raised = await self.run_ast_nodes(code_ast.body, cell_name,\n"
     ]
    }
   ],
   "source": [
    "data = pd.read_csv('../CrawlData/chotot_api.csv')"
   ]
  },
  {
   "cell_type": "code",
   "execution_count": 141,
   "id": "0cfb8ae6",
   "metadata": {},
   "outputs": [],
   "source": [
    "dataRow = pd.read_json('../CrawlData/chotot.json')"
   ]
  },
  {
   "cell_type": "code",
   "execution_count": 142,
   "id": "df9dd9bb",
   "metadata": {},
   "outputs": [],
   "source": [
    "dataRow = dataRow[['url','description']]"
   ]
  },
  {
   "cell_type": "code",
   "execution_count": null,
   "id": "7045e209",
   "metadata": {
    "scrolled": true
   },
   "outputs": [
    {
     "name": "stderr",
     "output_type": "stream",
     "text": [
      " 11%|█         | 4013/35957 [00:16<02:19, 228.68it/s]"
     ]
    }
   ],
   "source": [
    "data['url'] =''\n",
    "for x in tqdm(range(dataRow.shape[0])):\n",
    "    tmp = data[data['body']==dataRow.description.iloc[x]]\n",
    "    if tmp.shape[0] ==0:\n",
    "        continue\n",
    "    else:\n",
    "        index = tmp.index\n",
    "        data.loc[index,'url'] = dataRow.url.iloc[x]"
   ]
  },
  {
   "cell_type": "code",
   "execution_count": 86,
   "id": "b721d515",
   "metadata": {},
   "outputs": [],
   "source": [
    "cols= ['url','date','body','mfdate','region_name','price','carmodel','carbrand','carmodel_name','carseats',\n",
    "      'condition_ad_name','mileage_v2','gearbox','fuel','carcolor','carorigin',\n",
    "       'cartype','image']"
   ]
  },
  {
   "cell_type": "code",
   "execution_count": 87,
   "id": "3969e40f",
   "metadata": {},
   "outputs": [],
   "source": [
    "res = pd.DataFrame(data[cols])"
   ]
  },
  {
   "cell_type": "markdown",
   "id": "1a52f380",
   "metadata": {},
   "source": [
    "# Brand Name"
   ]
  },
  {
   "cell_type": "code",
   "execution_count": 88,
   "id": "a343fcad",
   "metadata": {},
   "outputs": [],
   "source": [
    "def to_string(colA,colB):\n",
    "    res[colB] =''\n",
    "    tmp_dict = pd.read_csv('../util/Data/{}.csv'.format(colB))\n",
    "    for x in tqdm(range(res.shape[0])):\n",
    "        key = res.loc[x,colA]\n",
    "        if pd.notna(key):\n",
    "            result = tmp_dict[tmp_dict[colA] == key]\n",
    "            if result.shape[0] > 0:\n",
    "                value = result.iloc[0,2]\n",
    "            else:\n",
    "                continue\n",
    "            res.loc[x,colB] = value"
   ]
  },
  {
   "cell_type": "code",
   "execution_count": 89,
   "id": "800c96f5",
   "metadata": {},
   "outputs": [
    {
     "name": "stderr",
     "output_type": "stream",
     "text": [
      "100%|██████████| 30360/30360 [00:43<00:00, 698.18it/s]\n"
     ]
    }
   ],
   "source": [
    "to_string('carbrand','brand_name')"
   ]
  },
  {
   "cell_type": "code",
   "execution_count": 90,
   "id": "24858e67",
   "metadata": {},
   "outputs": [
    {
     "name": "stderr",
     "output_type": "stream",
     "text": [
      "100%|██████████| 30360/30360 [00:40<00:00, 750.08it/s] \n"
     ]
    }
   ],
   "source": [
    "to_string('carmodel','car_model')"
   ]
  },
  {
   "cell_type": "code",
   "execution_count": 91,
   "id": "d4df8d9f",
   "metadata": {},
   "outputs": [
    {
     "name": "stderr",
     "output_type": "stream",
     "text": [
      "100%|██████████| 30360/30360 [00:35<00:00, 852.81it/s] \n"
     ]
    }
   ],
   "source": [
    "to_string('fuel','car_fuel')"
   ]
  },
  {
   "cell_type": "code",
   "execution_count": 92,
   "id": "f0e3971f",
   "metadata": {},
   "outputs": [
    {
     "name": "stderr",
     "output_type": "stream",
     "text": [
      "100%|██████████| 30360/30360 [00:52<00:00, 574.66it/s]\n"
     ]
    }
   ],
   "source": [
    "to_string('gearbox','gear')"
   ]
  },
  {
   "cell_type": "code",
   "execution_count": 93,
   "id": "93a96384",
   "metadata": {},
   "outputs": [
    {
     "name": "stderr",
     "output_type": "stream",
     "text": [
      "100%|██████████| 30360/30360 [00:38<00:00, 785.51it/s] \n"
     ]
    }
   ],
   "source": [
    "to_string('carorigin','origin')"
   ]
  },
  {
   "cell_type": "code",
   "execution_count": 94,
   "id": "e68108d4",
   "metadata": {},
   "outputs": [
    {
     "name": "stderr",
     "output_type": "stream",
     "text": [
      "100%|██████████| 30360/30360 [00:44<00:00, 688.90it/s] \n"
     ]
    }
   ],
   "source": [
    "to_string('cartype','style')"
   ]
  },
  {
   "cell_type": "code",
   "execution_count": 95,
   "id": "5dd90822",
   "metadata": {},
   "outputs": [
    {
     "name": "stderr",
     "output_type": "stream",
     "text": [
      "100%|██████████| 30360/30360 [00:37<00:00, 811.22it/s] \n"
     ]
    }
   ],
   "source": [
    "to_string('carcolor','car_color')"
   ]
  },
  {
   "cell_type": "markdown",
   "id": "e9d4a407",
   "metadata": {},
   "source": [
    "# Color"
   ]
  },
  {
   "cell_type": "code",
   "execution_count": 96,
   "id": "4d76b45f",
   "metadata": {},
   "outputs": [],
   "source": [
    "id1 = res[res['car_color']=='Xanh lá'].index\n",
    "id2 = res[res['car_color']=='Xanh dương'].index\n",
    "id = id1.append(id2)\n",
    "res.loc[id,'car_color'] = 'Xanh'"
   ]
  },
  {
   "cell_type": "code",
   "execution_count": 97,
   "id": "a8baa46c",
   "metadata": {},
   "outputs": [],
   "source": [
    "cols= ['url','body','origin','condition_ad_name','mileage_v2','car_color','carseats','gear','mfdate','price',\n",
    "       'style','date','car_model','car_fuel','brand_name','region_name','image']"
   ]
  },
  {
   "cell_type": "code",
   "execution_count": 98,
   "id": "0f1b9f33",
   "metadata": {},
   "outputs": [],
   "source": [
    "last_res = res[cols]"
   ]
  },
  {
   "cell_type": "code",
   "execution_count": 99,
   "id": "63bfa1ce",
   "metadata": {},
   "outputs": [],
   "source": [
    "last_res.columns = ['url','description', 'origin', 'status', 'car_mileage', 'car_color',\n",
    "       'car_seats', 'gear', 'car_year', 'car_price', 'style', 'createdAt',\n",
    "       'model', 'fuel_x', 'brand_name', 'region_name','url_image']"
   ]
  },
  {
   "cell_type": "code",
   "execution_count": 62,
   "id": "a70e8d48",
   "metadata": {},
   "outputs": [],
   "source": [
    "last_res.to_csv('../Data/chotot_integrate.csv',index=False)"
   ]
  },
  {
   "cell_type": "code",
   "execution_count": 64,
   "id": "109206b6",
   "metadata": {},
   "outputs": [
    {
     "name": "stdout",
     "output_type": "stream",
     "text": [
      "<class 'pandas.core.frame.DataFrame'>\n",
      "RangeIndex: 30360 entries, 0 to 30359\n",
      "Data columns (total 16 columns):\n",
      " #   Column       Non-Null Count  Dtype  \n",
      "---  ------       --------------  -----  \n",
      " 0   description  30360 non-null  object \n",
      " 1   origin       30360 non-null  object \n",
      " 2   status       30358 non-null  object \n",
      " 3   car_mileage  30358 non-null  float64\n",
      " 4   car_color    30360 non-null  object \n",
      " 5   car_seats    28924 non-null  float64\n",
      " 6   gear         30360 non-null  object \n",
      " 7   car_year     30168 non-null  float64\n",
      " 8   car_price    30294 non-null  float64\n",
      " 9   style        30360 non-null  object \n",
      " 10  createdAt    30360 non-null  object \n",
      " 11  model        30360 non-null  object \n",
      " 12  fuel_x       30360 non-null  object \n",
      " 13  brand_name   30360 non-null  object \n",
      " 14  region_name  30360 non-null  object \n",
      " 15  url_image    30257 non-null  object \n",
      "dtypes: float64(4), object(12)\n",
      "memory usage: 3.7+ MB\n"
     ]
    }
   ],
   "source": [
    "last_res.info()"
   ]
  },
  {
   "cell_type": "code",
   "execution_count": null,
   "id": "8f4bec87",
   "metadata": {},
   "outputs": [],
   "source": []
  }
 ],
 "metadata": {
  "kernelspec": {
   "display_name": "Python 3",
   "language": "python",
   "name": "python3"
  },
  "language_info": {
   "codemirror_mode": {
    "name": "ipython",
    "version": 3
   },
   "file_extension": ".py",
   "mimetype": "text/x-python",
   "name": "python",
   "nbconvert_exporter": "python",
   "pygments_lexer": "ipython3",
   "version": "3.8.8"
  }
 },
 "nbformat": 4,
 "nbformat_minor": 5
}
