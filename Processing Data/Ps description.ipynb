{
 "cells": [
  {
   "cell_type": "code",
   "execution_count": 34,
   "id": "f7ea1303",
   "metadata": {},
   "outputs": [],
   "source": [
    "import pandas as pd\n",
    "import numpy as np\n",
    "import unicodedata\n",
    "import regex as re"
   ]
  },
  {
   "cell_type": "code",
   "execution_count": 35,
   "id": "f8056407",
   "metadata": {},
   "outputs": [],
   "source": [
    "data = pd.read_csv('../Data/AggregateData.csv')"
   ]
  },
  {
   "cell_type": "code",
   "execution_count": 36,
   "id": "5b0e05e8",
   "metadata": {},
   "outputs": [],
   "source": [
    "from pyvi import ViTokenizer, ViPosTagger\n",
    "def chuan_hoa_unicode(text):\n",
    "    text = unicodedata.normalize('NFC', text)\n",
    "    return text\n",
    "def tach_tu_tieng_viet(text):\n",
    "    text = ViTokenizer.tokenize(text)\n",
    "    return text\n",
    "def chuan_hoa_cau(text):\n",
    "    text = re.sub(r'[^\\s\\wáàảãạăắằẳẵặâấầẩẫậéèẻẽẹêếềểễệóòỏõọôốồổỗộơớờởỡợíìỉĩịúùủũụưứừửữựýỳỷỹỵđ_]',' ',text)\n",
    "    text = re.sub(r'\\s+', ' ', text).strip()\n",
    "    return text"
   ]
  },
  {
   "cell_type": "code",
   "execution_count": 39,
   "id": "17719f1f",
   "metadata": {},
   "outputs": [],
   "source": [
    "\n",
    "def tien_xu_li(text):\n",
    "    text = chuan_hoa_unicode(text)\n",
    "    text = tach_tu_tieng_viet(text)\n",
    "    text = text.lower()\n",
    "    text = chuan_hoa_cau(text)\n",
    "    return text"
   ]
  },
  {
   "cell_type": "code",
   "execution_count": 43,
   "id": "ed207002",
   "metadata": {},
   "outputs": [],
   "source": [
    "from tqdm import tqdm"
   ]
  },
  {
   "cell_type": "code",
   "execution_count": 53,
   "id": "68fdaee8",
   "metadata": {},
   "outputs": [
    {
     "name": "stderr",
     "output_type": "stream",
     "text": [
      "100%|██████████| 69575/69575 [06:21<00:00, 182.31it/s]\n"
     ]
    }
   ],
   "source": [
    "data['ps_description'] = ''\n",
    "for x in tqdm(range(data.shape[0])):\n",
    "    data.loc[x,'ps_description'] = tien_xu_li(data.loc[x,'description'])"
   ]
  },
  {
   "cell_type": "code",
   "execution_count": 121,
   "id": "3531b48a",
   "metadata": {},
   "outputs": [],
   "source": [
    "data.to_csv('dataPs_description.csv',index=False)"
   ]
  },
  {
   "cell_type": "code",
   "execution_count": 79,
   "id": "12562607",
   "metadata": {},
   "outputs": [],
   "source": [
    "from sklearn.feature_extraction.text import CountVectorizer"
   ]
  },
  {
   "cell_type": "code",
   "execution_count": 81,
   "id": "4c7fa7e9",
   "metadata": {},
   "outputs": [],
   "source": [
    "vectorizer = CountVectorizer()\n",
    "X = vectorizer.fit_transform(data['ps_description'])"
   ]
  },
  {
   "cell_type": "code",
   "execution_count": 118,
   "id": "54ff2610",
   "metadata": {},
   "outputs": [],
   "source": [
    "feature = np.asarray(vectorizer.get_feature_names())"
   ]
  },
  {
   "cell_type": "code",
   "execution_count": 112,
   "id": "28e5618b",
   "metadata": {},
   "outputs": [],
   "source": [
    "sumX = np.sum(X,axis=0)"
   ]
  },
  {
   "cell_type": "code",
   "execution_count": 113,
   "id": "59cc7165",
   "metadata": {},
   "outputs": [],
   "source": [
    "sumX = np.array(sumX)\n",
    "sumX = sumX[0]"
   ]
  },
  {
   "cell_type": "markdown",
   "id": "351c3080",
   "metadata": {},
   "source": [
    "# Array of string have frequency from low to high"
   ]
  },
  {
   "cell_type": "code",
   "execution_count": 115,
   "id": "d7f32730",
   "metadata": {},
   "outputs": [],
   "source": [
    "index = sumX.argsort()"
   ]
  },
  {
   "cell_type": "code",
   "execution_count": 119,
   "id": "17769c42",
   "metadata": {},
   "outputs": [],
   "source": [
    "np.savetxt('../Feature/featureAsc.txt',feature[index],fmt='%s')"
   ]
  },
  {
   "cell_type": "code",
   "execution_count": 120,
   "id": "24212e06",
   "metadata": {},
   "outputs": [],
   "source": [
    "arr = np.loadtxt('../Feature/featureAsc.txt',dtype='str')"
   ]
  },
  {
   "cell_type": "code",
   "execution_count": null,
   "id": "c2ce0b13",
   "metadata": {},
   "outputs": [],
   "source": []
  }
 ],
 "metadata": {
  "kernelspec": {
   "display_name": "Python 3",
   "language": "python",
   "name": "python3"
  },
  "language_info": {
   "codemirror_mode": {
    "name": "ipython",
    "version": 3
   },
   "file_extension": ".py",
   "mimetype": "text/x-python",
   "name": "python",
   "nbconvert_exporter": "python",
   "pygments_lexer": "ipython3",
   "version": "3.8.8"
  }
 },
 "nbformat": 4,
 "nbformat_minor": 5
}
