{
 "cells": [
  {
   "cell_type": "code",
   "execution_count": 1,
   "id": "47f2c02b",
   "metadata": {},
   "outputs": [],
   "source": [
    "import pandas as pd\n",
    "import numpy as np\n",
    "from tqdm import tqdm"
   ]
  },
  {
   "cell_type": "code",
   "execution_count": 2,
   "id": "be379ef0",
   "metadata": {
    "scrolled": true
   },
   "outputs": [
    {
     "name": "stderr",
     "output_type": "stream",
     "text": [
      "/home/vukhanh/anaconda3/lib/python3.8/site-packages/IPython/core/interactiveshell.py:3165: DtypeWarning: Columns (55,56) have mixed types.Specify dtype option on import or set low_memory=False.\n",
      "  has_raised = await self.run_ast_nodes(code_ast.body, cell_name,\n"
     ]
    }
   ],
   "source": [
    "data = pd.read_csv('../CrawlData/chotot_api.csv')"
   ]
  },
  {
   "cell_type": "code",
   "execution_count": 11,
   "id": "583eb560",
   "metadata": {},
   "outputs": [
    {
     "data": {
      "text/plain": [
       "0"
      ]
     },
     "execution_count": 11,
     "metadata": {},
     "output_type": "execute_result"
    }
   ],
   "source": [
    "data.region_name.isnull().sum()"
   ]
  },
  {
   "cell_type": "code",
   "execution_count": 141,
   "id": "0cfb8ae6",
   "metadata": {},
   "outputs": [],
   "source": [
    "dataRow = pd.read_json('../CrawlData/chotot.json')"
   ]
  },
  {
   "cell_type": "code",
   "execution_count": 142,
   "id": "c6e50ab3",
   "metadata": {},
   "outputs": [],
   "source": [
    "dataRow = dataRow[['url','description']]"
   ]
  },
  {
   "cell_type": "code",
   "execution_count": 143,
   "id": "471eaebb",
   "metadata": {
    "scrolled": true
   },
   "outputs": [
    {
     "name": "stderr",
     "output_type": "stream",
     "text": [
      "100%|██████████| 35957/35957 [03:25<00:00, 175.14it/s]\n"
     ]
    }
   ],
   "source": [
    "data['url'] =''\n",
    "for x in tqdm(range(dataRow.shape[0])):\n",
    "    tmp = data[data['body']==dataRow.description.iloc[x]]\n",
    "    if tmp.shape[0] ==0:\n",
    "        continue\n",
    "    else:\n",
    "        index = tmp.index\n",
    "        data.loc[index,'url'] = dataRow.url.iloc[x]"
   ]
  },
  {
   "cell_type": "code",
   "execution_count": 144,
   "id": "b721d515",
   "metadata": {},
   "outputs": [],
   "source": [
    "cols= ['url','date','body','mfdate','region_name','price','carmodel','carbrand','carmodel_name','carseats',\n",
    "      'condition_ad_name','mileage_v2','gearbox','fuel','carcolor','carorigin',\n",
    "       'cartype','image']"
   ]
  },
  {
   "cell_type": "code",
   "execution_count": 145,
   "id": "3969e40f",
   "metadata": {},
   "outputs": [],
   "source": [
    "res = pd.DataFrame(data[cols])"
   ]
  },
  {
   "cell_type": "markdown",
   "id": "1a52f380",
   "metadata": {},
   "source": [
    "# Brand Name"
   ]
  },
  {
   "cell_type": "code",
   "execution_count": 146,
   "id": "a343fcad",
   "metadata": {},
   "outputs": [],
   "source": [
    "def to_string(colA,colB):\n",
    "    res[colB] =''\n",
    "    tmp_dict = pd.read_csv('../util/Data/{}.csv'.format(colB))\n",
    "    for x in tqdm(range(res.shape[0])):\n",
    "        key = res.loc[x,colA]\n",
    "        if pd.notna(key):\n",
    "            result = tmp_dict[tmp_dict[colA] == key]\n",
    "            if result.shape[0] > 0:\n",
    "                value = result.iloc[0,2]\n",
    "            else:\n",
    "                continue\n",
    "            res.loc[x,colB] = value"
   ]
  },
  {
   "cell_type": "code",
   "execution_count": 147,
   "id": "800c96f5",
   "metadata": {},
   "outputs": [
    {
     "name": "stderr",
     "output_type": "stream",
     "text": [
      "100%|██████████| 30360/30360 [00:46<00:00, 649.30it/s] \n"
     ]
    }
   ],
   "source": [
    "to_string('carbrand','brand_name')"
   ]
  },
  {
   "cell_type": "code",
   "execution_count": 148,
   "id": "24858e67",
   "metadata": {},
   "outputs": [
    {
     "name": "stderr",
     "output_type": "stream",
     "text": [
      "100%|██████████| 30360/30360 [00:44<00:00, 686.50it/s]\n"
     ]
    }
   ],
   "source": [
    "to_string('carmodel','car_model')"
   ]
  },
  {
   "cell_type": "code",
   "execution_count": 149,
   "id": "d4df8d9f",
   "metadata": {},
   "outputs": [
    {
     "name": "stderr",
     "output_type": "stream",
     "text": [
      "100%|██████████| 30360/30360 [00:39<00:00, 759.60it/s]\n"
     ]
    }
   ],
   "source": [
    "to_string('fuel','car_fuel')"
   ]
  },
  {
   "cell_type": "code",
   "execution_count": 150,
   "id": "f0e3971f",
   "metadata": {},
   "outputs": [
    {
     "name": "stderr",
     "output_type": "stream",
     "text": [
      "100%|██████████| 30360/30360 [00:45<00:00, 670.80it/s]\n"
     ]
    }
   ],
   "source": [
    "to_string('gearbox','gear')"
   ]
  },
  {
   "cell_type": "code",
   "execution_count": 151,
   "id": "93a96384",
   "metadata": {},
   "outputs": [
    {
     "name": "stderr",
     "output_type": "stream",
     "text": [
      "100%|██████████| 30360/30360 [00:36<00:00, 823.73it/s] \n"
     ]
    }
   ],
   "source": [
    "to_string('carorigin','origin')"
   ]
  },
  {
   "cell_type": "code",
   "execution_count": 152,
   "id": "e68108d4",
   "metadata": {},
   "outputs": [
    {
     "name": "stderr",
     "output_type": "stream",
     "text": [
      "100%|██████████| 30360/30360 [00:41<00:00, 735.59it/s]\n"
     ]
    }
   ],
   "source": [
    "to_string('cartype','style')"
   ]
  },
  {
   "cell_type": "code",
   "execution_count": 153,
   "id": "5dd90822",
   "metadata": {},
   "outputs": [
    {
     "name": "stderr",
     "output_type": "stream",
     "text": [
      "100%|██████████| 30360/30360 [00:36<00:00, 825.84it/s] \n"
     ]
    }
   ],
   "source": [
    "to_string('carcolor','car_color')"
   ]
  },
  {
   "cell_type": "markdown",
   "id": "e9d4a407",
   "metadata": {},
   "source": [
    "# Color"
   ]
  },
  {
   "cell_type": "code",
   "execution_count": 154,
   "id": "4d76b45f",
   "metadata": {},
   "outputs": [],
   "source": [
    "id1 = res[res['car_color']=='Xanh lá'].index\n",
    "id2 = res[res['car_color']=='Xanh dương'].index\n",
    "id = id1.append(id2)\n",
    "res.loc[id,'car_color'] = 'Xanh'"
   ]
  },
  {
   "cell_type": "code",
   "execution_count": 155,
   "id": "a8baa46c",
   "metadata": {},
   "outputs": [],
   "source": [
    "cols= ['url','body','origin','condition_ad_name','mileage_v2','car_color','carseats','gear','mfdate','price',\n",
    "       'style','date','car_model','car_fuel','brand_name','region_name','image']"
   ]
  },
  {
   "cell_type": "code",
   "execution_count": 156,
   "id": "0f1b9f33",
   "metadata": {},
   "outputs": [],
   "source": [
    "last_res = res[cols]"
   ]
  },
  {
   "cell_type": "code",
   "execution_count": 157,
   "id": "63bfa1ce",
   "metadata": {},
   "outputs": [],
   "source": [
    "last_res.columns = ['url','description', 'origin', 'status', 'car_mileage', 'car_color',\n",
    "       'car_seats', 'gear', 'car_year', 'car_price', 'style', 'createdAt',\n",
    "       'model', 'fuel_x', 'brand_name', 'region_name','url_image']"
   ]
  },
  {
   "cell_type": "code",
   "execution_count": 163,
   "id": "a70e8d48",
   "metadata": {},
   "outputs": [],
   "source": [
    "last_res.to_csv('../Data/chotot_integrate.csv',index=False)"
   ]
  },
  {
   "cell_type": "code",
   "execution_count": 164,
   "id": "109206b6",
   "metadata": {},
   "outputs": [
    {
     "name": "stdout",
     "output_type": "stream",
     "text": [
      "<class 'pandas.core.frame.DataFrame'>\n",
      "RangeIndex: 30360 entries, 0 to 30359\n",
      "Data columns (total 17 columns):\n",
      " #   Column       Non-Null Count  Dtype  \n",
      "---  ------       --------------  -----  \n",
      " 0   url          30360 non-null  object \n",
      " 1   description  30360 non-null  object \n",
      " 2   origin       30360 non-null  object \n",
      " 3   status       30358 non-null  object \n",
      " 4   car_mileage  30358 non-null  float64\n",
      " 5   car_color    30360 non-null  object \n",
      " 6   car_seats    28924 non-null  float64\n",
      " 7   gear         30360 non-null  object \n",
      " 8   car_year     30168 non-null  float64\n",
      " 9   car_price    30294 non-null  float64\n",
      " 10  style        30360 non-null  object \n",
      " 11  createdAt    30360 non-null  object \n",
      " 12  model        30360 non-null  object \n",
      " 13  fuel_x       30360 non-null  object \n",
      " 14  brand_name   30360 non-null  object \n",
      " 15  region_name  30360 non-null  object \n",
      " 16  url_image    30257 non-null  object \n",
      "dtypes: float64(4), object(13)\n",
      "memory usage: 3.9+ MB\n"
     ]
    }
   ],
   "source": [
    "last_res.info()"
   ]
  },
  {
   "cell_type": "code",
   "execution_count": null,
   "id": "8f4bec87",
   "metadata": {},
   "outputs": [],
   "source": []
  }
 ],
 "metadata": {
  "kernelspec": {
   "display_name": "Python 3",
   "language": "python",
   "name": "python3"
  },
  "language_info": {
   "codemirror_mode": {
    "name": "ipython",
    "version": 3
   },
   "file_extension": ".py",
   "mimetype": "text/x-python",
   "name": "python",
   "nbconvert_exporter": "python",
   "pygments_lexer": "ipython3",
   "version": "3.8.8"
  }
 },
 "nbformat": 4,
 "nbformat_minor": 5
}
