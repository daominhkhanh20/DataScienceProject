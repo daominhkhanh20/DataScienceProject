{
 "cells": [
  {
   "cell_type": "code",
   "execution_count": 1,
   "id": "11abf753",
   "metadata": {},
   "outputs": [],
   "source": [
    "import pandas as pd\n",
    "from transformData import transformChoTot\n",
    "from transformData import transformBonBanh\n",
    "from transformData import extractDataBonBanh"
   ]
  },
  {
   "cell_type": "code",
   "execution_count": 2,
   "id": "8d46a532",
   "metadata": {},
   "outputs": [],
   "source": [
    "data = pd.read_csv('../CrawlData/chotot_api.csv')\n",
    "dataRaw = pd.read_json('../CrawlData/chotot.json')"
   ]
  },
  {
   "cell_type": "code",
   "execution_count": 3,
   "id": "263fa7d0",
   "metadata": {},
   "outputs": [
    {
     "name": "stdout",
     "output_type": "stream",
     "text": [
      "add url\n"
     ]
    },
    {
     "name": "stderr",
     "output_type": "stream",
     "text": [
      "100%|██████████| 35957/35957 [02:51<00:00, 210.20it/s]\n"
     ]
    },
    {
     "name": "stdout",
     "output_type": "stream",
     "text": [
      "process carbrand\n"
     ]
    },
    {
     "name": "stderr",
     "output_type": "stream",
     "text": [
      "100%|██████████| 30360/30360 [00:28<00:00, 1074.05it/s]\n"
     ]
    },
    {
     "name": "stdout",
     "output_type": "stream",
     "text": [
      "process carmodel\n"
     ]
    },
    {
     "name": "stderr",
     "output_type": "stream",
     "text": [
      "100%|██████████| 30360/30360 [00:27<00:00, 1085.58it/s]\n"
     ]
    },
    {
     "name": "stdout",
     "output_type": "stream",
     "text": [
      "process fuel\n"
     ]
    },
    {
     "name": "stderr",
     "output_type": "stream",
     "text": [
      "100%|██████████| 30360/30360 [00:29<00:00, 1046.45it/s]\n"
     ]
    },
    {
     "name": "stdout",
     "output_type": "stream",
     "text": [
      "process gearbox\n"
     ]
    },
    {
     "name": "stderr",
     "output_type": "stream",
     "text": [
      "100%|██████████| 30360/30360 [00:27<00:00, 1084.48it/s]\n"
     ]
    },
    {
     "name": "stdout",
     "output_type": "stream",
     "text": [
      "process carorigin\n"
     ]
    },
    {
     "name": "stderr",
     "output_type": "stream",
     "text": [
      "100%|██████████| 30360/30360 [00:23<00:00, 1282.17it/s]\n"
     ]
    },
    {
     "name": "stdout",
     "output_type": "stream",
     "text": [
      "process cartype\n"
     ]
    },
    {
     "name": "stderr",
     "output_type": "stream",
     "text": [
      "100%|██████████| 30360/30360 [00:25<00:00, 1175.47it/s]\n"
     ]
    },
    {
     "name": "stdout",
     "output_type": "stream",
     "text": [
      "process carcolor\n"
     ]
    },
    {
     "name": "stderr",
     "output_type": "stream",
     "text": [
      "100%|██████████| 30360/30360 [00:23<00:00, 1271.09it/s]\n"
     ]
    }
   ],
   "source": [
    "af_tf_chotot = transformChoTot(data,dataRaw)"
   ]
  },
  {
   "cell_type": "code",
   "execution_count": 4,
   "id": "157b8bdd",
   "metadata": {},
   "outputs": [
    {
     "name": "stderr",
     "output_type": "stream",
     "text": [
      "100%|██████████| 40563/40563 [00:05<00:00, 6999.26it/s]\n",
      "100%|██████████| 40563/40563 [00:11<00:00, 3526.86it/s]\n",
      "100%|██████████| 40563/40563 [00:11<00:00, 3597.31it/s]\n",
      "100%|██████████| 40563/40563 [02:56<00:00, 229.91it/s]\n",
      "100%|██████████| 40563/40563 [00:41<00:00, 979.06it/s] \n"
     ]
    }
   ],
   "source": [
    "dataBonBanhRaw = pd.read_json('../CrawlData/bonbanh.json')\n",
    "ex_bonbanh = extractDataBonBanh(dataBonBanhRaw)"
   ]
  },
  {
   "cell_type": "code",
   "execution_count": 5,
   "id": "448a5ecf",
   "metadata": {},
   "outputs": [
    {
     "name": "stdout",
     "output_type": "stream",
     "text": [
      "process gearbox\n",
      "process engine\n",
      "process car origin\n",
      "process car type\n",
      "process car brand\n",
      "process car model\n"
     ]
    },
    {
     "name": "stderr",
     "output_type": "stream",
     "text": [
      "100%|██████████| 40529/40529 [00:33<00:00, 1223.95it/s]\n"
     ]
    },
    {
     "name": "stdout",
     "output_type": "stream",
     "text": [
      "process car model\n",
      "process car region name\n",
      "process car status\n",
      "process car color\n"
     ]
    }
   ],
   "source": [
    "af_tf_bonbanh = transformBonBanh(ex_bonbanh)"
   ]
  },
  {
   "cell_type": "markdown",
   "id": "f78eb6dc",
   "metadata": {},
   "source": [
    "# Intergrate Data"
   ]
  },
  {
   "cell_type": "code",
   "execution_count": 6,
   "id": "7e23eb55",
   "metadata": {},
   "outputs": [],
   "source": [
    "data_chotot = af_tf_chotot\n",
    "data_bonbanh = af_tf_bonbanh\n",
    "data_bonbanh['website'] ='bonbanh'\n",
    "data_chotot['website'] ='chotot'"
   ]
  },
  {
   "cell_type": "code",
   "execution_count": 7,
   "id": "e14287a8",
   "metadata": {},
   "outputs": [],
   "source": [
    "data = pd.concat([data_chotot,data_bonbanh],axis = 0)\n",
    "data.reset_index(inplace=True,drop=True)"
   ]
  },
  {
   "cell_type": "code",
   "execution_count": 10,
   "id": "c6ae859b",
   "metadata": {},
   "outputs": [
    {
     "data": {
      "text/plain": [
       "(70889, 18)"
      ]
     },
     "execution_count": 10,
     "metadata": {},
     "output_type": "execute_result"
    }
   ],
   "source": [
    "data.shape"
   ]
  }
 ],
 "metadata": {
  "interpreter": {
   "hash": "09ea6078d3926260138e37617d873d397e3b4c412a3c5b73ece87a930514af01"
  },
  "kernelspec": {
   "display_name": "Python 3.9.7 64-bit ('base': conda)",
   "language": "python",
   "name": "python3"
  },
  "language_info": {
   "codemirror_mode": {
    "name": "ipython",
    "version": 3
   },
   "file_extension": ".py",
   "mimetype": "text/x-python",
   "name": "python",
   "nbconvert_exporter": "python",
   "pygments_lexer": "ipython3",
   "version": "3.9.7"
  },
  "orig_nbformat": 4
 },
 "nbformat": 4,
 "nbformat_minor": 2
}
