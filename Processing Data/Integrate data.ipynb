{
 "cells": [
  {
   "cell_type": "code",
   "execution_count": 1,
   "id": "004247e1",
   "metadata": {},
   "outputs": [],
   "source": [
    "import pandas as pd"
   ]
  },
  {
   "cell_type": "code",
   "execution_count": 18,
   "id": "dd29d139",
   "metadata": {},
   "outputs": [],
   "source": [
    "data_chotot = pd.read_csv('../Data/chotot_integrate.csv')"
   ]
  },
  {
   "cell_type": "code",
   "execution_count": 19,
   "id": "70ec063c",
   "metadata": {},
   "outputs": [],
   "source": [
    "data_bonbanh = pd.read_csv('../Data/bonbanh_integrate.csv')"
   ]
  },
  {
   "cell_type": "code",
   "execution_count": 20,
   "id": "907dc673",
   "metadata": {},
   "outputs": [],
   "source": [
    "data = pd.concat([data_chotot,data_bonbanh],axis = 0)"
   ]
  },
  {
   "cell_type": "code",
   "execution_count": 21,
   "id": "7ff70bfc",
   "metadata": {},
   "outputs": [],
   "source": [
    "data.reset_index(inplace=True,drop=True)"
   ]
  },
  {
   "cell_type": "code",
   "execution_count": 23,
   "id": "368e8742",
   "metadata": {},
   "outputs": [],
   "source": [
    "data.to_csv('../Data/AggregateData.csv',index=False)"
   ]
  },
  {
   "cell_type": "code",
   "execution_count": null,
   "id": "0abbfd73",
   "metadata": {},
   "outputs": [],
   "source": []
  }
 ],
 "metadata": {
  "kernelspec": {
   "display_name": "Python 3",
   "language": "python",
   "name": "python3"
  },
  "language_info": {
   "codemirror_mode": {
    "name": "ipython",
    "version": 3
   },
   "file_extension": ".py",
   "mimetype": "text/x-python",
   "name": "python",
   "nbconvert_exporter": "python",
   "pygments_lexer": "ipython3",
   "version": "3.8.8"
  }
 },
 "nbformat": 4,
 "nbformat_minor": 5
}
