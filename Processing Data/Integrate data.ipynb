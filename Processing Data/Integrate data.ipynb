{
 "cells": [
  {
   "cell_type": "code",
   "execution_count": 30,
   "id": "9386e6fb",
   "metadata": {},
   "outputs": [],
   "source": [
    "import pandas as pd"
   ]
  },
  {
   "cell_type": "code",
   "execution_count": 31,
   "id": "663596e2",
   "metadata": {},
   "outputs": [],
   "source": [
    "data_chotot = pd.read_csv('../Data/chotot_integrate.csv')"
   ]
  },
  {
   "cell_type": "code",
   "execution_count": 32,
   "id": "bbf5cf9a",
   "metadata": {},
   "outputs": [],
   "source": [
    "data_bonbanh = pd.read_csv('../Data/bonbanh_integrate.csv')"
   ]
  },
  {
   "cell_type": "code",
   "execution_count": 33,
   "id": "351b19b7",
   "metadata": {},
   "outputs": [],
   "source": [
    "data_bonbanh['website'] ='bonbanh'"
   ]
  },
  {
   "cell_type": "code",
   "execution_count": 34,
   "id": "4fc1ad99",
   "metadata": {},
   "outputs": [],
   "source": [
    "data_chotot['website'] ='chotot'"
   ]
  },
  {
   "cell_type": "code",
   "execution_count": 35,
   "id": "2e715ce6",
   "metadata": {},
   "outputs": [],
   "source": [
    "data = pd.concat([data_chotot,data_bonbanh],axis = 0)"
   ]
  },
  {
   "cell_type": "code",
   "execution_count": 36,
   "id": "e4646eb5",
   "metadata": {},
   "outputs": [],
   "source": [
    "data.reset_index(inplace=True,drop=True)"
   ]
  },
  {
   "cell_type": "code",
   "execution_count": 37,
   "id": "4218d242",
   "metadata": {},
   "outputs": [],
   "source": [
    "cols = ['description', 'origin', 'status', 'car_mileage', 'car_color',\n",
    "       'car_seats', 'gear', 'car_year', 'car_price', 'style', 'createdAt',\n",
    "       'model', 'fuel', 'brand_name', 'region_name','url_image', 'website']"
   ]
  },
  {
   "cell_type": "code",
   "execution_count": 38,
   "id": "99831d82",
   "metadata": {},
   "outputs": [],
   "source": [
    "data.columns = cols"
   ]
  },
  {
   "cell_type": "code",
   "execution_count": 39,
   "id": "38640ab5",
   "metadata": {},
   "outputs": [],
   "source": [
    "data.to_csv('../Data/AggregateData.csv',index=False)"
   ]
  },
  {
   "cell_type": "code",
   "execution_count": null,
   "id": "d4b05859",
   "metadata": {},
   "outputs": [],
   "source": []
  }
 ],
 "metadata": {
  "kernelspec": {
   "display_name": "Python 3 (ipykernel)",
   "language": "python",
   "name": "python3"
  },
  "language_info": {
   "codemirror_mode": {
    "name": "ipython",
    "version": 3
   },
   "file_extension": ".py",
   "mimetype": "text/x-python",
   "name": "python",
   "nbconvert_exporter": "python",
   "pygments_lexer": "ipython3",
   "version": "3.9.7"
  }
 },
 "nbformat": 4,
 "nbformat_minor": 5
}
